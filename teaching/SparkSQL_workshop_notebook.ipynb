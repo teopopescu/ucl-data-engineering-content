{
 "cells": [
  {
   "cell_type": "markdown",
   "metadata": {
    "id": "xDfYQD8eC6Ui"
   },
   "source": [
    "<h1>UCL School of Management</h1>\n",
    "<h2>MSIN0166 Data Engineering</h2>\n",
    "<h4>SparkSQL workshop - Theory & Practice</h4>"
   ]
  },
  {
   "cell_type": "markdown",
   "metadata": {
    "id": "vDY5mUOLX6wU"
   },
   "source": [
    "<img src=\"https://databricks.com/wp-content/uploads/2015/03/Screen-Shot-2015-03-23-at-3.42.56-PM.png\"></img>\n",
    "\n",
    "\n"
   ]
  },
  {
   "cell_type": "markdown",
   "metadata": {
    "id": "GmvlOQ6iFDQ1"
   },
   "source": [
    "# What is Spark SQL?\n",
    "\n",
    "Many data scientists, analysts, and general business intelligence users rely on interactive SQL queries for exploring data. Spark SQL is a Spark module for structured data processing. It provides a programming abstraction called DataFrames and can also act as a distributed SQL query engine. \n",
    "\n",
    "- Spark SQL enables unmodified Hadoop Hive queries to run up to 100x faster on existing deployments and data. It also provides powerful integration with the rest of the Spark ecosystem (e.g., integrating SQL query processing with machine learning).\n",
    "\n",
    "- It brings native support for SQL to Spark and streamlines the process of querying data stored both in RDDs (Spark’s distributed datasets) and in external sources. It conveniently blurs the lines between RDDs and relational tables. Unifying these powerful abstractions makes it easy for developers to intermix SQL commands querying external data with complex analytics, all within in a single application. \n",
    "\n",
    "- Spark SQL also includes a cost-based optimizer, columnar storage, and code generation to make queries fast. At the same time, it scales to thousands of nodes and multi-hour queries using the Spark engine, which provides full mid-query fault tolerance, without having to worry about using a different engine for historical data.\n",
    "\n",
    "*Source: Databricks*\n",
    "\n",
    "For more details, go through Spark documentation: https://spark.apache.org/docs/latest/\n",
    "\n",
    "<br/>\n",
    "\n",
    "# Why use Spark SQL\n",
    "- Query data stored in various formats (e.g. Parquet, Hive tables) by using SQL\n",
    "- Reduce amount of time spent for processing queries\n",
    "- Conduct data analysis at scale\n",
    "- Reduce time spent on reading documentation (e.g. Pandas documentation) for data cleaning, processing or querying and use SQL instead.\n"
   ]
  },
  {
   "cell_type": "markdown",
   "metadata": {
    "id": "MTPChqnyME8s"
   },
   "source": [
    "## Spark SQL: definition & facts\n",
    "\n"
   ]
  },
  {
   "cell_type": "markdown",
   "metadata": {
    "id": "3Pk3QLigNl-S"
   },
   "source": [
    "\n",
    "**Spark SQL**: Spark SQL is a Spark module for structured data processing. It provides a programming abstraction called DataFrames and can also act as distributed SQL query engine. It also provides powerful integration with the rest of the Spark ecosystem (e.g., integrating SQL query processing with machine learning).\n",
    "\n",
    "<br/>\n",
    "\n",
    " **Did you know?** \n",
    "\n",
    "1. SQL was invented by IBM researchers Raymond Boyce and Donald Chamberlin. The programming language, known then as SEQUEL, was created following the publishing of Edgar Frank Todd's paper, \"A Relational Model of Data for Large Shared Data Banks,\" in 1970.\n",
    "<br/>\n",
    "<br/>\n",
    "2. There are five types of SQL Commands which can be classified as:\n",
    "\n",
    "    - DDL(Data Definition Language).\n",
    "    - DML(Data Manipulation Language).\n",
    "    - DQL(Data Query Language).\n",
    "    - DCL(Data Control Language).\n",
    "    - TCL(Transaction Control Language).\n"
   ]
  },
  {
   "cell_type": "markdown",
   "metadata": {
    "id": "6XzzfLT2b1_h"
   },
   "source": [
    "## Prerequisite code\n",
    "**Note**: Please run the cells below before any other code cell execution"
   ]
  },
  {
   "cell_type": "code",
   "execution_count": null,
   "metadata": {},
   "outputs": [],
   "source": [
    "!pip install pyspark\n"
   ]
  },
  {
   "cell_type": "code",
   "execution_count": null,
   "metadata": {
    "colab": {
     "base_uri": "https://localhost:8080/",
     "height": 52
    },
    "id": "Bw8TptBObbo9",
    "outputId": "65ad3768-7988-4a0e-e523-1644b25a263c"
   },
   "outputs": [
    {
     "name": "stdout",
     "output_type": "stream",
     "text": [
      "<SparkContext master=local[*] appName=pyspark-shell>\n",
      "<pyspark.sql.session.SparkSession object at 0x7f2128e2a2b0>\n"
     ]
    }
   ],
   "source": [
    "import pyspark\n",
    "\n",
    "# get a spark context\n",
    "sc = pyspark.SparkContext.getOrCreate()\n",
    "print(sc)\n",
    "# get the context\n",
    "spark = pyspark.sql.SparkSession.builder.getOrCreate()\n",
    "print(spark)"
   ]
  },
  {
   "cell_type": "markdown",
   "metadata": {
    "id": "QsT8v_2RSuWs"
   },
   "source": [
    "## Running SQL queries programatically\n",
    "**Note**: Examples below will be based on the San Francisco Bike Sharing dataset where possible.\n",
    "\n"
   ]
  },
  {
   "cell_type": "code",
   "execution_count": null,
   "metadata": {
    "id": "T3Kwgz9rcD8K"
   },
   "outputs": [],
   "source": [
    "from pyspark.sql import SQLContext\n",
    "sqlContext = SQLContext(sc)"
   ]
  },
  {
   "cell_type": "code",
   "execution_count": null,
   "metadata": {
    "id": "LNwoSz__cECR"
   },
   "outputs": [],
   "source": [
    "# Create a Dataframe based on your dataset.Here, we will use the SF Bike Sharing trip dataset.\n",
    "trip_df=sqlContext.read.csv(\"s3://msin0166-spark-workshop/data/sf_bike_sharing_data/trip.csv\",header=True)"
   ]
  },
  {
   "cell_type": "code",
   "execution_count": null,
   "metadata": {
    "colab": {
     "base_uri": "https://localhost:8080/",
     "height": 489
    },
    "id": "T8wTkViJiwey",
    "outputId": "1f480cf9-cb36-4459-feab-0c251b369514"
   },
   "outputs": [
    {
     "name": "stdout",
     "output_type": "stream",
     "text": [
      "+----+--------+---------------+--------------------+----------------+---------------+--------------------+--------------+-------+-----------------+--------+\n",
      "|  id|duration|     start_date|  start_station_name|start_station_id|       end_date|    end_station_name|end_station_id|bike_id|subscription_type|zip_code|\n",
      "+----+--------+---------------+--------------------+----------------+---------------+--------------------+--------------+-------+-----------------+--------+\n",
      "|4576|      63|8/29/2013 14:13|South Van Ness at...|              66|8/29/2013 14:14|South Van Ness at...|            66|    520|       Subscriber|   94127|\n",
      "|4607|      70|8/29/2013 14:42|  San Jose City Hall|              10|8/29/2013 14:43|  San Jose City Hall|            10|    661|       Subscriber|   95138|\n",
      "|4130|      71|8/29/2013 10:16|Mountain View Cit...|              27|8/29/2013 10:17|Mountain View Cit...|            27|     48|       Subscriber|   97214|\n",
      "|4251|      77|8/29/2013 11:29|  San Jose City Hall|              10|8/29/2013 11:30|  San Jose City Hall|            10|     26|       Subscriber|   95060|\n",
      "|4299|      83|8/29/2013 12:02|South Van Ness at...|              66|8/29/2013 12:04|      Market at 10th|            67|    319|       Subscriber|   94103|\n",
      "|4927|     103|8/29/2013 18:54| Golden Gate at Polk|              59|8/29/2013 18:56| Golden Gate at Polk|            59|    527|       Subscriber|   94109|\n",
      "|4500|     109|8/29/2013 13:25|Santa Clara at Al...|               4|8/29/2013 13:27|    Adobe on Almaden|             5|    679|       Subscriber|   95112|\n",
      "|4563|     111|8/29/2013 14:02| San Salvador at 1st|               8|8/29/2013 14:04| San Salvador at 1st|             8|    687|       Subscriber|   95112|\n",
      "|4760|     113|8/29/2013 17:01|South Van Ness at...|              66|8/29/2013 17:03|South Van Ness at...|            66|    553|       Subscriber|   94103|\n",
      "|4258|     114|8/29/2013 11:33|  San Jose City Hall|              10|8/29/2013 11:35|         MLK Library|            11|    107|       Subscriber|   95060|\n",
      "|4549|     125|8/29/2013 13:52|     Spear at Folsom|              49|8/29/2013 13:55|Embarcadero at Br...|            54|    368|       Subscriber|   94109|\n",
      "|4498|     126|8/29/2013 13:23|    San Pedro Square|               6|8/29/2013 13:25|Santa Clara at Al...|             4|     26|       Subscriber|   95112|\n",
      "|4965|     129|8/29/2013 19:32|Mountain View Cal...|              28|8/29/2013 19:35|Mountain View Cal...|            28|    140|       Subscriber|   94041|\n",
      "|4557|     130|8/29/2013 13:57|   2nd at South Park|              64|8/29/2013 13:59|   2nd at South Park|            64|    371|       Subscriber|   94122|\n",
      "|4386|     134|8/29/2013 12:31|     Clay at Battery|              41|8/29/2013 12:33|     Beale at Market|            56|    503|       Subscriber|   94109|\n",
      "|4749|     138|8/29/2013 16:57|     Post at Kearney|              47|8/29/2013 16:59|     Post at Kearney|            47|    408|       Subscriber|   94117|\n",
      "|4242|     141|8/29/2013 11:25|  San Jose City Hall|              10|8/29/2013 11:27|  San Jose City Hall|            10|     26|       Subscriber|   95060|\n",
      "|4329|     142|8/29/2013 12:11|      Market at 10th|              67|8/29/2013 12:14|      Market at 10th|            67|    319|       Subscriber|   94103|\n",
      "|5097|     142|8/29/2013 22:21|   Steuart at Market|              74|8/29/2013 22:24|Harry Bridges Pla...|            50|    564|       Subscriber|   94115|\n",
      "|5084|     144|8/29/2013 22:06|  Powell Street BART|              39|8/29/2013 22:08|       Market at 4th|            76|    574|       Subscriber|   94115|\n",
      "+----+--------+---------------+--------------------+----------------+---------------+--------------------+--------------+-------+-----------------+--------+\n",
      "only showing top 20 rows\n",
      "\n"
     ]
    }
   ],
   "source": [
    "trip_df.show()"
   ]
  },
  {
   "cell_type": "code",
   "execution_count": null,
   "metadata": {
    "id": "tExVeK01jAnU"
   },
   "outputs": [],
   "source": [
    "#Create a  SQL temporary view (more below)\n",
    "trip_df.createOrReplaceTempView(\"trip\")"
   ]
  },
  {
   "cell_type": "code",
   "execution_count": null,
   "metadata": {
    "colab": {
     "base_uri": "https://localhost:8080/",
     "height": 489
    },
    "id": "WzD_QGp7jAqd",
    "outputId": "cfecb17c-483d-4fa3-be92-5ba576619880"
   },
   "outputs": [
    {
     "name": "stdout",
     "output_type": "stream",
     "text": [
      "+-----+--------+---------------+--------------------+----------------+---------------+--------------------+--------------+-------+-----------------+--------+\n",
      "|   id|duration|     start_date|  start_station_name|start_station_id|       end_date|    end_station_name|end_station_id|bike_id|subscription_type|zip_code|\n",
      "+-----+--------+---------------+--------------------+----------------+---------------+--------------------+--------------+-------+-----------------+--------+\n",
      "| 4576|      63|8/29/2013 14:13|South Van Ness at...|              66|8/29/2013 14:14|South Van Ness at...|            66|    520|       Subscriber|   94127|\n",
      "| 6115|      69|8/30/2013 16:30|       2nd at Folsom|              62|8/30/2013 16:31|       2nd at Folsom|            62|    633|       Subscriber|   94107|\n",
      "| 7416|      62|8/31/2013 20:52|Embarcadero at Sa...|              60|8/31/2013 20:53|Embarcadero at Sa...|            60|    511|         Customer|    null|\n",
      "| 7250|      68|8/31/2013 16:53|University and Em...|              35|8/31/2013 16:54|University and Em...|            35|    100|       Subscriber|   97214|\n",
      "| 7403|      69|8/31/2013 19:58|Embarcadero at Sa...|              60|8/31/2013 19:59|Embarcadero at Sa...|            60|    332|         Customer|   94105|\n",
      "| 8576|      60|  9/2/2013 9:40|Harry Bridges Pla...|              50|  9/2/2013 9:41|Harry Bridges Pla...|            50|    354|       Subscriber|   94102|\n",
      "| 8651|      60| 9/2/2013 10:50|San Francisco Cal...|              69| 9/2/2013 10:51|San Francisco Cal...|            69|    544|       Subscriber|   94107|\n",
      "| 8968|      61| 9/2/2013 14:25|Powell at Post (U...|              71| 9/2/2013 14:26|Powell at Post (U...|            71|    434|       Subscriber|   94108|\n",
      "| 9444|      60|  9/3/2013 8:37|Redwood City Publ...|              24|  9/3/2013 8:38|Redwood City Publ...|            24|    239|       Subscriber|   94105|\n",
      "|10093|      67| 9/3/2013 18:06|South Van Ness at...|              66| 9/3/2013 18:07|South Van Ness at...|            66|    610|       Subscriber|   94117|\n",
      "|10118|      63| 9/3/2013 18:25|   Market at Sansome|              77| 9/3/2013 18:26|   Market at Sansome|            77|    367|         Customer|    null|\n",
      "|11847|      64| 9/5/2013 18:38|     Beale at Market|              56| 9/5/2013 18:39|     Beale at Market|            56|    353|       Subscriber|   94605|\n",
      "|12073|      68|  9/6/2013 8:05|           Japantown|               9|  9/6/2013 8:06|           Japantown|             9|     80|       Subscriber|   95112|\n",
      "|12355|      61| 9/6/2013 12:33|Redwood City Medi...|              26| 9/6/2013 12:34|Redwood City Medi...|            26|    308|       Subscriber|   94105|\n",
      "|13323|      67| 9/7/2013 10:49|Embarcadero at Br...|              54| 9/7/2013 10:51|Embarcadero at Br...|            54|    508|       Subscriber|   94107|\n",
      "|14644|      60| 9/8/2013 13:55|San Francisco Cal...|              70| 9/8/2013 13:56|San Francisco Cal...|            70|    521|       Subscriber|   95126|\n",
      "|14761|      65| 9/8/2013 15:16|Embarcadero at Br...|              54| 9/8/2013 15:17|Embarcadero at Br...|            54|    625|       Subscriber|   94111|\n",
      "|15484|      65| 9/9/2013 12:17|Harry Bridges Pla...|              50| 9/9/2013 12:18|Harry Bridges Pla...|            50|    555|       Subscriber|   94601|\n",
      "|16663|      64|9/10/2013 13:30|South Van Ness at...|              66|9/10/2013 13:31|South Van Ness at...|            66|    630|       Subscriber|   94102|\n",
      "|16991|      61|9/10/2013 17:39|     Spear at Folsom|              49|9/10/2013 17:40|     Spear at Folsom|            49|    520|       Subscriber|   94124|\n",
      "+-----+--------+---------------+--------------------+----------------+---------------+--------------------+--------------+-------+-----------------+--------+\n",
      "only showing top 20 rows\n",
      "\n"
     ]
    }
   ],
   "source": [
    "#Query the temporary table\n",
    "sqlDF = spark.sql(\"SELECT * FROM trip where duration < 70\")\n",
    "sqlDF.show()"
   ]
  },
  {
   "cell_type": "code",
   "execution_count": null,
   "metadata": {
    "colab": {
     "base_uri": "https://localhost:8080/",
     "height": 489
    },
    "id": "alb2AkMojfEl",
    "outputId": "36e9f9bd-e50b-4eb4-f9f5-f0fc3bbdf196"
   },
   "outputs": [
    {
     "name": "stdout",
     "output_type": "stream",
     "text": [
      "+----+--------+---------------+--------------------+----------------+---------------+--------------------+--------------+-------+-----------------+--------+\n",
      "|  id|duration|     start_date|  start_station_name|start_station_id|       end_date|    end_station_name|end_station_id|bike_id|subscription_type|zip_code|\n",
      "+----+--------+---------------+--------------------+----------------+---------------+--------------------+--------------+-------+-----------------+--------+\n",
      "|4576|      63|8/29/2013 14:13|South Van Ness at...|              66|8/29/2013 14:14|South Van Ness at...|            66|    520|       Subscriber|   94127|\n",
      "|4607|      70|8/29/2013 14:42|  San Jose City Hall|              10|8/29/2013 14:43|  San Jose City Hall|            10|    661|       Subscriber|   95138|\n",
      "|4130|      71|8/29/2013 10:16|Mountain View Cit...|              27|8/29/2013 10:17|Mountain View Cit...|            27|     48|       Subscriber|   97214|\n",
      "|4251|      77|8/29/2013 11:29|  San Jose City Hall|              10|8/29/2013 11:30|  San Jose City Hall|            10|     26|       Subscriber|   95060|\n",
      "|4299|      83|8/29/2013 12:02|South Van Ness at...|              66|8/29/2013 12:04|      Market at 10th|            67|    319|       Subscriber|   94103|\n",
      "|4927|     103|8/29/2013 18:54| Golden Gate at Polk|              59|8/29/2013 18:56| Golden Gate at Polk|            59|    527|       Subscriber|   94109|\n",
      "|4500|     109|8/29/2013 13:25|Santa Clara at Al...|               4|8/29/2013 13:27|    Adobe on Almaden|             5|    679|       Subscriber|   95112|\n",
      "|4563|     111|8/29/2013 14:02| San Salvador at 1st|               8|8/29/2013 14:04| San Salvador at 1st|             8|    687|       Subscriber|   95112|\n",
      "|4760|     113|8/29/2013 17:01|South Van Ness at...|              66|8/29/2013 17:03|South Van Ness at...|            66|    553|       Subscriber|   94103|\n",
      "|4258|     114|8/29/2013 11:33|  San Jose City Hall|              10|8/29/2013 11:35|         MLK Library|            11|    107|       Subscriber|   95060|\n",
      "|4549|     125|8/29/2013 13:52|     Spear at Folsom|              49|8/29/2013 13:55|Embarcadero at Br...|            54|    368|       Subscriber|   94109|\n",
      "|4498|     126|8/29/2013 13:23|    San Pedro Square|               6|8/29/2013 13:25|Santa Clara at Al...|             4|     26|       Subscriber|   95112|\n",
      "|4965|     129|8/29/2013 19:32|Mountain View Cal...|              28|8/29/2013 19:35|Mountain View Cal...|            28|    140|       Subscriber|   94041|\n",
      "|4557|     130|8/29/2013 13:57|   2nd at South Park|              64|8/29/2013 13:59|   2nd at South Park|            64|    371|       Subscriber|   94122|\n",
      "|4386|     134|8/29/2013 12:31|     Clay at Battery|              41|8/29/2013 12:33|     Beale at Market|            56|    503|       Subscriber|   94109|\n",
      "|4749|     138|8/29/2013 16:57|     Post at Kearney|              47|8/29/2013 16:59|     Post at Kearney|            47|    408|       Subscriber|   94117|\n",
      "|4242|     141|8/29/2013 11:25|  San Jose City Hall|              10|8/29/2013 11:27|  San Jose City Hall|            10|     26|       Subscriber|   95060|\n",
      "|4329|     142|8/29/2013 12:11|      Market at 10th|              67|8/29/2013 12:14|      Market at 10th|            67|    319|       Subscriber|   94103|\n",
      "|5097|     142|8/29/2013 22:21|   Steuart at Market|              74|8/29/2013 22:24|Harry Bridges Pla...|            50|    564|       Subscriber|   94115|\n",
      "|5084|     144|8/29/2013 22:06|  Powell Street BART|              39|8/29/2013 22:08|       Market at 4th|            76|    574|       Subscriber|   94115|\n",
      "+----+--------+---------------+--------------------+----------------+---------------+--------------------+--------------+-------+-----------------+--------+\n",
      "only showing top 20 rows\n",
      "\n"
     ]
    }
   ],
   "source": [
    "subscribers=spark.sql(\"SELECT * FROM trip where subscription_type==\\\"Subscriber\\\"\")\n",
    "subscribers.show()"
   ]
  },
  {
   "cell_type": "code",
   "execution_count": null,
   "metadata": {
    "colab": {
     "base_uri": "https://localhost:8080/",
     "height": 34
    },
    "id": "NN676Txujrdv",
    "outputId": "98974c6b-1954-40e0-9fec-af4ec6676c0e"
   },
   "outputs": [
    {
     "data": {
      "text/plain": [
       "566746"
      ]
     },
     "execution_count": 30,
     "metadata": {
      "tags": []
     },
     "output_type": "execute_result"
    }
   ],
   "source": [
    "#Count the number of subscribers\n",
    "subscribers.count()"
   ]
  },
  {
   "cell_type": "markdown",
   "metadata": {
    "id": "AycPkkKxOGUL"
   },
   "source": [
    "## Global temporary view \n",
    "\n",
    "Temporary views in Spark SQL are session-scoped and will disappear if the session that creates it terminates. If you want to have a temporary view that is shared among all sessions and keep alive until the Spark application terminates, you can create a global temporary view. Global temporary view is tied to a system preserved database global_temp, and we must use the qualified name to refer it, e.g. SELECT * FROM global_temp.view1.\n",
    "<br/>\n",
    "<br/>\n",
    "Source: Apache Spark documentation\n",
    "https://spark.apache.org/docs/latest/sql-getting-started.html#global-temporary-view\n",
    "\n"
   ]
  },
  {
   "cell_type": "code",
   "execution_count": null,
   "metadata": {
    "colab": {
     "base_uri": "https://localhost:8080/",
     "height": 1000
    },
    "id": "1OekOJf1kJCX",
    "outputId": "0245ae78-eea4-4320-a882-5299acd68978"
   },
   "outputs": [
    {
     "ename": "AnalysisException",
     "evalue": "ignored",
     "output_type": "error",
     "traceback": [
      "\u001b[0;31m---------------------------------------------------------------------------\u001b[0m",
      "\u001b[0;31mPy4JJavaError\u001b[0m                             Traceback (most recent call last)",
      "\u001b[0;32m/content/spark-2.4.4-bin-hadoop2.7/python/pyspark/sql/utils.py\u001b[0m in \u001b[0;36mdeco\u001b[0;34m(*a, **kw)\u001b[0m\n\u001b[1;32m     62\u001b[0m         \u001b[0;32mtry\u001b[0m\u001b[0;34m:\u001b[0m\u001b[0;34m\u001b[0m\u001b[0;34m\u001b[0m\u001b[0m\n\u001b[0;32m---> 63\u001b[0;31m             \u001b[0;32mreturn\u001b[0m \u001b[0mf\u001b[0m\u001b[0;34m(\u001b[0m\u001b[0;34m*\u001b[0m\u001b[0ma\u001b[0m\u001b[0;34m,\u001b[0m \u001b[0;34m**\u001b[0m\u001b[0mkw\u001b[0m\u001b[0;34m)\u001b[0m\u001b[0;34m\u001b[0m\u001b[0;34m\u001b[0m\u001b[0m\n\u001b[0m\u001b[1;32m     64\u001b[0m         \u001b[0;32mexcept\u001b[0m \u001b[0mpy4j\u001b[0m\u001b[0;34m.\u001b[0m\u001b[0mprotocol\u001b[0m\u001b[0;34m.\u001b[0m\u001b[0mPy4JJavaError\u001b[0m \u001b[0;32mas\u001b[0m \u001b[0me\u001b[0m\u001b[0;34m:\u001b[0m\u001b[0;34m\u001b[0m\u001b[0;34m\u001b[0m\u001b[0m\n",
      "\u001b[0;32m/content/spark-2.4.4-bin-hadoop2.7/python/lib/py4j-0.10.7-src.zip/py4j/protocol.py\u001b[0m in \u001b[0;36mget_return_value\u001b[0;34m(answer, gateway_client, target_id, name)\u001b[0m\n\u001b[1;32m    327\u001b[0m                     \u001b[0;34m\"An error occurred while calling {0}{1}{2}.\\n\"\u001b[0m\u001b[0;34m.\u001b[0m\u001b[0;34m\u001b[0m\u001b[0;34m\u001b[0m\u001b[0m\n\u001b[0;32m--> 328\u001b[0;31m                     format(target_id, \".\", name), value)\n\u001b[0m\u001b[1;32m    329\u001b[0m             \u001b[0;32melse\u001b[0m\u001b[0;34m:\u001b[0m\u001b[0;34m\u001b[0m\u001b[0;34m\u001b[0m\u001b[0m\n",
      "\u001b[0;31mPy4JJavaError\u001b[0m: An error occurred while calling o21.sql.\n: org.apache.spark.sql.AnalysisException: Table or view not found: subscribers; line 1 pos 14\n\tat org.apache.spark.sql.catalyst.analysis.package$AnalysisErrorAt.failAnalysis(package.scala:47)\n\tat org.apache.spark.sql.catalyst.analysis.Analyzer$ResolveRelations$.org$apache$spark$sql$catalyst$analysis$Analyzer$ResolveRelations$$lookupTableFromCatalog(Analyzer.scala:731)\n\tat org.apache.spark.sql.catalyst.analysis.Analyzer$ResolveRelations$.resolveRelation(Analyzer.scala:683)\n\tat org.apache.spark.sql.catalyst.analysis.Analyzer$ResolveRelations$$anonfun$apply$8.applyOrElse(Analyzer.scala:713)\n\tat org.apache.spark.sql.catalyst.analysis.Analyzer$ResolveRelations$$anonfun$apply$8.applyOrElse(Analyzer.scala:706)\n\tat org.apache.spark.sql.catalyst.plans.logical.AnalysisHelper$$anonfun$resolveOperatorsUp$1$$anonfun$apply$1.apply(AnalysisHelper.scala:90)\n\tat org.apache.spark.sql.catalyst.plans.logical.AnalysisHelper$$anonfun$resolveOperatorsUp$1$$anonfun$apply$1.apply(AnalysisHelper.scala:90)\n\tat org.apache.spark.sql.catalyst.trees.CurrentOrigin$.withOrigin(TreeNode.scala:70)\n\tat org.apache.spark.sql.catalyst.plans.logical.AnalysisHelper$$anonfun$resolveOperatorsUp$1.apply(AnalysisHelper.scala:89)\n\tat org.apache.spark.sql.catalyst.plans.logical.AnalysisHelper$$anonfun$resolveOperatorsUp$1.apply(AnalysisHelper.scala:86)\n\tat org.apache.spark.sql.catalyst.plans.logical.AnalysisHelper$.allowInvokingTransformsInAnalyzer(AnalysisHelper.scala:194)\n\tat org.apache.spark.sql.catalyst.plans.logical.AnalysisHelper$class.resolveOperatorsUp(AnalysisHelper.scala:86)\n\tat org.apache.spark.sql.catalyst.plans.logical.LogicalPlan.resolveOperatorsUp(LogicalPlan.scala:29)\n\tat org.apache.spark.sql.catalyst.plans.logical.AnalysisHelper$$anonfun$resolveOperatorsUp$1$$anonfun$1.apply(AnalysisHelper.scala:87)\n\tat org.apache.spark.sql.catalyst.plans.logical.AnalysisHelper$$anonfun$resolveOperatorsUp$1$$anonfun$1.apply(AnalysisHelper.scala:87)\n\tat org.apache.spark.sql.catalyst.trees.TreeNode$$anonfun$4.apply(TreeNode.scala:329)\n\tat org.apache.spark.sql.catalyst.trees.TreeNode.mapProductIterator(TreeNode.scala:187)\n\tat org.apache.spark.sql.catalyst.trees.TreeNode.mapChildren(TreeNode.scala:327)\n\tat org.apache.spark.sql.catalyst.plans.logical.AnalysisHelper$$anonfun$resolveOperatorsUp$1.apply(AnalysisHelper.scala:87)\n\tat org.apache.spark.sql.catalyst.plans.logical.AnalysisHelper$$anonfun$resolveOperatorsUp$1.apply(AnalysisHelper.scala:86)\n\tat org.apache.spark.sql.catalyst.plans.logical.AnalysisHelper$.allowInvokingTransformsInAnalyzer(AnalysisHelper.scala:194)\n\tat org.apache.spark.sql.catalyst.plans.logical.AnalysisHelper$class.resolveOperatorsUp(AnalysisHelper.scala:86)\n\tat org.apache.spark.sql.catalyst.plans.logical.LogicalPlan.resolveOperatorsUp(LogicalPlan.scala:29)\n\tat org.apache.spark.sql.catalyst.plans.logical.AnalysisHelper$$anonfun$resolveOperatorsUp$1$$anonfun$1.apply(AnalysisHelper.scala:87)\n\tat org.apache.spark.sql.catalyst.plans.logical.AnalysisHelper$$anonfun$resolveOperatorsUp$1$$anonfun$1.apply(AnalysisHelper.scala:87)\n\tat org.apache.spark.sql.catalyst.trees.TreeNode$$anonfun$4.apply(TreeNode.scala:329)\n\tat org.apache.spark.sql.catalyst.trees.TreeNode.mapProductIterator(TreeNode.scala:187)\n\tat org.apache.spark.sql.catalyst.trees.TreeNode.mapChildren(TreeNode.scala:327)\n\tat org.apache.spark.sql.catalyst.plans.logical.AnalysisHelper$$anonfun$resolveOperatorsUp$1.apply(AnalysisHelper.scala:87)\n\tat org.apache.spark.sql.catalyst.plans.logical.AnalysisHelper$$anonfun$resolveOperatorsUp$1.apply(AnalysisHelper.scala:86)\n\tat org.apache.spark.sql.catalyst.plans.logical.AnalysisHelper$.allowInvokingTransformsInAnalyzer(AnalysisHelper.scala:194)\n\tat org.apache.spark.sql.catalyst.plans.logical.AnalysisHelper$class.resolveOperatorsUp(AnalysisHelper.scala:86)\n\tat org.apache.spark.sql.catalyst.plans.logical.LogicalPlan.resolveOperatorsUp(LogicalPlan.scala:29)\n\tat org.apache.spark.sql.catalyst.analysis.Analyzer$ResolveRelations$.apply(Analyzer.scala:706)\n\tat org.apache.spark.sql.catalyst.analysis.Analyzer$ResolveRelations$.apply(Analyzer.scala:652)\n\tat org.apache.spark.sql.catalyst.rules.RuleExecutor$$anonfun$execute$1$$anonfun$apply$1.apply(RuleExecutor.scala:87)\n\tat org.apache.spark.sql.catalyst.rules.RuleExecutor$$anonfun$execute$1$$anonfun$apply$1.apply(RuleExecutor.scala:84)\n\tat scala.collection.LinearSeqOptimized$class.foldLeft(LinearSeqOptimized.scala:124)\n\tat scala.collection.immutable.List.foldLeft(List.scala:84)\n\tat org.apache.spark.sql.catalyst.rules.RuleExecutor$$anonfun$execute$1.apply(RuleExecutor.scala:84)\n\tat org.apache.spark.sql.catalyst.rules.RuleExecutor$$anonfun$execute$1.apply(RuleExecutor.scala:76)\n\tat scala.collection.immutable.List.foreach(List.scala:392)\n\tat org.apache.spark.sql.catalyst.rules.RuleExecutor.execute(RuleExecutor.scala:76)\n\tat org.apache.spark.sql.catalyst.analysis.Analyzer.org$apache$spark$sql$catalyst$analysis$Analyzer$$executeSameContext(Analyzer.scala:127)\n\tat org.apache.spark.sql.catalyst.analysis.Analyzer.execute(Analyzer.scala:121)\n\tat org.apache.spark.sql.catalyst.analysis.Analyzer$$anonfun$executeAndCheck$1.apply(Analyzer.scala:106)\n\tat org.apache.spark.sql.catalyst.analysis.Analyzer$$anonfun$executeAndCheck$1.apply(Analyzer.scala:105)\n\tat org.apache.spark.sql.catalyst.plans.logical.AnalysisHelper$.markInAnalyzer(AnalysisHelper.scala:201)\n\tat org.apache.spark.sql.catalyst.analysis.Analyzer.executeAndCheck(Analyzer.scala:105)\n\tat org.apache.spark.sql.execution.QueryExecution.analyzed$lzycompute(QueryExecution.scala:57)\n\tat org.apache.spark.sql.execution.QueryExecution.analyzed(QueryExecution.scala:55)\n\tat org.apache.spark.sql.execution.QueryExecution.assertAnalyzed(QueryExecution.scala:47)\n\tat org.apache.spark.sql.Dataset$.ofRows(Dataset.scala:78)\n\tat org.apache.spark.sql.SparkSession.sql(SparkSession.scala:642)\n\tat sun.reflect.NativeMethodAccessorImpl.invoke0(Native Method)\n\tat sun.reflect.NativeMethodAccessorImpl.invoke(NativeMethodAccessorImpl.java:62)\n\tat sun.reflect.DelegatingMethodAccessorImpl.invoke(DelegatingMethodAccessorImpl.java:43)\n\tat java.lang.reflect.Method.invoke(Method.java:498)\n\tat py4j.reflection.MethodInvoker.invoke(MethodInvoker.java:244)\n\tat py4j.reflection.ReflectionEngine.invoke(ReflectionEngine.java:357)\n\tat py4j.Gateway.invoke(Gateway.java:282)\n\tat py4j.commands.AbstractCommand.invokeMethod(AbstractCommand.java:132)\n\tat py4j.commands.CallCommand.execute(CallCommand.java:79)\n\tat py4j.GatewayConnection.run(GatewayConnection.java:238)\n\tat java.lang.Thread.run(Thread.java:748)\nCaused by: org.apache.spark.sql.catalyst.analysis.NoSuchTableException: Table or view 'subscribers' not found in database 'default';\n\tat org.apache.spark.sql.catalyst.catalog.ExternalCatalog$class.requireTableExists(ExternalCatalog.scala:48)\n\tat org.apache.spark.sql.catalyst.catalog.InMemoryCatalog.requireTableExists(InMemoryCatalog.scala:45)\n\tat org.apache.spark.sql.catalyst.catalog.InMemoryCatalog.getTable(InMemoryCatalog.scala:326)\n\tat org.apache.spark.sql.catalyst.catalog.ExternalCatalogWithListener.getTable(ExternalCatalogWithListener.scala:138)\n\tat org.apache.spark.sql.catalyst.catalog.SessionCatalog.lookupRelation(SessionCatalog.scala:706)\n\tat org.apache.spark.sql.catalyst.analysis.Analyzer$ResolveRelations$.org$apache$spark$sql$catalyst$analysis$Analyzer$ResolveRelations$$lookupTableFromCatalog(Analyzer.scala:728)\n\t... 63 more\n",
      "\nDuring handling of the above exception, another exception occurred:\n",
      "\u001b[0;31mAnalysisException\u001b[0m                         Traceback (most recent call last)",
      "\u001b[0;32m<ipython-input-31-7ee8a49c4535>\u001b[0m in \u001b[0;36m<module>\u001b[0;34m()\u001b[0m\n\u001b[0;32m----> 1\u001b[0;31m \u001b[0mspark\u001b[0m\u001b[0;34m.\u001b[0m\u001b[0msql\u001b[0m\u001b[0;34m(\u001b[0m\u001b[0;34m\"SELECT * FROM subscribers where duration < 70\"\u001b[0m\u001b[0;34m)\u001b[0m\u001b[0;34m\u001b[0m\u001b[0;34m\u001b[0m\u001b[0m\n\u001b[0m",
      "\u001b[0;32m/content/spark-2.4.4-bin-hadoop2.7/python/pyspark/sql/session.py\u001b[0m in \u001b[0;36msql\u001b[0;34m(self, sqlQuery)\u001b[0m\n\u001b[1;32m    765\u001b[0m         \u001b[0;34m[\u001b[0m\u001b[0mRow\u001b[0m\u001b[0;34m(\u001b[0m\u001b[0mf1\u001b[0m\u001b[0;34m=\u001b[0m\u001b[0;36m1\u001b[0m\u001b[0;34m,\u001b[0m \u001b[0mf2\u001b[0m\u001b[0;34m=\u001b[0m\u001b[0;34mu'row1'\u001b[0m\u001b[0;34m)\u001b[0m\u001b[0;34m,\u001b[0m \u001b[0mRow\u001b[0m\u001b[0;34m(\u001b[0m\u001b[0mf1\u001b[0m\u001b[0;34m=\u001b[0m\u001b[0;36m2\u001b[0m\u001b[0;34m,\u001b[0m \u001b[0mf2\u001b[0m\u001b[0;34m=\u001b[0m\u001b[0;34mu'row2'\u001b[0m\u001b[0;34m)\u001b[0m\u001b[0;34m,\u001b[0m \u001b[0mRow\u001b[0m\u001b[0;34m(\u001b[0m\u001b[0mf1\u001b[0m\u001b[0;34m=\u001b[0m\u001b[0;36m3\u001b[0m\u001b[0;34m,\u001b[0m \u001b[0mf2\u001b[0m\u001b[0;34m=\u001b[0m\u001b[0;34mu'row3'\u001b[0m\u001b[0;34m)\u001b[0m\u001b[0;34m]\u001b[0m\u001b[0;34m\u001b[0m\u001b[0;34m\u001b[0m\u001b[0m\n\u001b[1;32m    766\u001b[0m         \"\"\"\n\u001b[0;32m--> 767\u001b[0;31m         \u001b[0;32mreturn\u001b[0m \u001b[0mDataFrame\u001b[0m\u001b[0;34m(\u001b[0m\u001b[0mself\u001b[0m\u001b[0;34m.\u001b[0m\u001b[0m_jsparkSession\u001b[0m\u001b[0;34m.\u001b[0m\u001b[0msql\u001b[0m\u001b[0;34m(\u001b[0m\u001b[0msqlQuery\u001b[0m\u001b[0;34m)\u001b[0m\u001b[0;34m,\u001b[0m \u001b[0mself\u001b[0m\u001b[0;34m.\u001b[0m\u001b[0m_wrapped\u001b[0m\u001b[0;34m)\u001b[0m\u001b[0;34m\u001b[0m\u001b[0;34m\u001b[0m\u001b[0m\n\u001b[0m\u001b[1;32m    768\u001b[0m \u001b[0;34m\u001b[0m\u001b[0m\n\u001b[1;32m    769\u001b[0m     \u001b[0;34m@\u001b[0m\u001b[0msince\u001b[0m\u001b[0;34m(\u001b[0m\u001b[0;36m2.0\u001b[0m\u001b[0;34m)\u001b[0m\u001b[0;34m\u001b[0m\u001b[0;34m\u001b[0m\u001b[0m\n",
      "\u001b[0;32m/content/spark-2.4.4-bin-hadoop2.7/python/lib/py4j-0.10.7-src.zip/py4j/java_gateway.py\u001b[0m in \u001b[0;36m__call__\u001b[0;34m(self, *args)\u001b[0m\n\u001b[1;32m   1255\u001b[0m         \u001b[0manswer\u001b[0m \u001b[0;34m=\u001b[0m \u001b[0mself\u001b[0m\u001b[0;34m.\u001b[0m\u001b[0mgateway_client\u001b[0m\u001b[0;34m.\u001b[0m\u001b[0msend_command\u001b[0m\u001b[0;34m(\u001b[0m\u001b[0mcommand\u001b[0m\u001b[0;34m)\u001b[0m\u001b[0;34m\u001b[0m\u001b[0;34m\u001b[0m\u001b[0m\n\u001b[1;32m   1256\u001b[0m         return_value = get_return_value(\n\u001b[0;32m-> 1257\u001b[0;31m             answer, self.gateway_client, self.target_id, self.name)\n\u001b[0m\u001b[1;32m   1258\u001b[0m \u001b[0;34m\u001b[0m\u001b[0m\n\u001b[1;32m   1259\u001b[0m         \u001b[0;32mfor\u001b[0m \u001b[0mtemp_arg\u001b[0m \u001b[0;32min\u001b[0m \u001b[0mtemp_args\u001b[0m\u001b[0;34m:\u001b[0m\u001b[0;34m\u001b[0m\u001b[0;34m\u001b[0m\u001b[0m\n",
      "\u001b[0;32m/content/spark-2.4.4-bin-hadoop2.7/python/pyspark/sql/utils.py\u001b[0m in \u001b[0;36mdeco\u001b[0;34m(*a, **kw)\u001b[0m\n\u001b[1;32m     67\u001b[0m                                              e.java_exception.getStackTrace()))\n\u001b[1;32m     68\u001b[0m             \u001b[0;32mif\u001b[0m \u001b[0ms\u001b[0m\u001b[0;34m.\u001b[0m\u001b[0mstartswith\u001b[0m\u001b[0;34m(\u001b[0m\u001b[0;34m'org.apache.spark.sql.AnalysisException: '\u001b[0m\u001b[0;34m)\u001b[0m\u001b[0;34m:\u001b[0m\u001b[0;34m\u001b[0m\u001b[0;34m\u001b[0m\u001b[0m\n\u001b[0;32m---> 69\u001b[0;31m                 \u001b[0;32mraise\u001b[0m \u001b[0mAnalysisException\u001b[0m\u001b[0;34m(\u001b[0m\u001b[0ms\u001b[0m\u001b[0;34m.\u001b[0m\u001b[0msplit\u001b[0m\u001b[0;34m(\u001b[0m\u001b[0;34m': '\u001b[0m\u001b[0;34m,\u001b[0m \u001b[0;36m1\u001b[0m\u001b[0;34m)\u001b[0m\u001b[0;34m[\u001b[0m\u001b[0;36m1\u001b[0m\u001b[0;34m]\u001b[0m\u001b[0;34m,\u001b[0m \u001b[0mstackTrace\u001b[0m\u001b[0;34m)\u001b[0m\u001b[0;34m\u001b[0m\u001b[0;34m\u001b[0m\u001b[0m\n\u001b[0m\u001b[1;32m     70\u001b[0m             \u001b[0;32mif\u001b[0m \u001b[0ms\u001b[0m\u001b[0;34m.\u001b[0m\u001b[0mstartswith\u001b[0m\u001b[0;34m(\u001b[0m\u001b[0;34m'org.apache.spark.sql.catalyst.analysis'\u001b[0m\u001b[0;34m)\u001b[0m\u001b[0;34m:\u001b[0m\u001b[0;34m\u001b[0m\u001b[0;34m\u001b[0m\u001b[0m\n\u001b[1;32m     71\u001b[0m                 \u001b[0;32mraise\u001b[0m \u001b[0mAnalysisException\u001b[0m\u001b[0;34m(\u001b[0m\u001b[0ms\u001b[0m\u001b[0;34m.\u001b[0m\u001b[0msplit\u001b[0m\u001b[0;34m(\u001b[0m\u001b[0;34m': '\u001b[0m\u001b[0;34m,\u001b[0m \u001b[0;36m1\u001b[0m\u001b[0;34m)\u001b[0m\u001b[0;34m[\u001b[0m\u001b[0;36m1\u001b[0m\u001b[0;34m]\u001b[0m\u001b[0;34m,\u001b[0m \u001b[0mstackTrace\u001b[0m\u001b[0;34m)\u001b[0m\u001b[0;34m\u001b[0m\u001b[0;34m\u001b[0m\u001b[0m\n",
      "\u001b[0;31mAnalysisException\u001b[0m: 'Table or view not found: subscribers; line 1 pos 14'"
     ]
    }
   ],
   "source": [
    "#Executing a query against the newly created Subscribers dataset will trigger an error.\n",
    "spark.sql(\"SELECT * FROM subscribers where duration < 70\")"
   ]
  },
  {
   "cell_type": "markdown",
   "metadata": {
    "id": "Vy1BF7lUle5h"
   },
   "source": [
    "<img src=\"https://media.tenor.com/images/a1343b4e30eeca94b3edf232a767bd31/tenor.gif\"/>"
   ]
  },
  {
   "cell_type": "code",
   "execution_count": null,
   "metadata": {
    "id": "mlZJXMlAcEic"
   },
   "outputs": [],
   "source": [
    "#Create a temporary view of subscribers that can be further queried\n",
    "subscribers.createOrReplaceTempView(\"subscribers\")"
   ]
  },
  {
   "cell_type": "code",
   "execution_count": null,
   "metadata": {
    "colab": {
     "base_uri": "https://localhost:8080/",
     "height": 489
    },
    "id": "1Ffd34yYcEpK",
    "outputId": "9884d634-2146-4889-a507-a15a5920e338"
   },
   "outputs": [
    {
     "name": "stdout",
     "output_type": "stream",
     "text": [
      "+----+--------+---------------+--------------------+----------------+---------------+--------------------+--------------+-------+-----------------+--------+\n",
      "|  id|duration|     start_date|  start_station_name|start_station_id|       end_date|    end_station_name|end_station_id|bike_id|subscription_type|zip_code|\n",
      "+----+--------+---------------+--------------------+----------------+---------------+--------------------+--------------+-------+-----------------+--------+\n",
      "|4607|      70|8/29/2013 14:42|  San Jose City Hall|              10|8/29/2013 14:43|  San Jose City Hall|            10|    661|       Subscriber|   95138|\n",
      "|4251|      77|8/29/2013 11:29|  San Jose City Hall|              10|8/29/2013 11:30|  San Jose City Hall|            10|     26|       Subscriber|   95060|\n",
      "|4258|     114|8/29/2013 11:33|  San Jose City Hall|              10|8/29/2013 11:35|         MLK Library|            11|    107|       Subscriber|   95060|\n",
      "|4242|     141|8/29/2013 11:25|  San Jose City Hall|              10|8/29/2013 11:27|  San Jose City Hall|            10|     26|       Subscriber|   95060|\n",
      "|4510|     166|8/29/2013 13:31|San Jose Civic Ce...|               3|8/29/2013 13:34| San Salvador at 1st|             8|    661|       Subscriber|   95112|\n",
      "|4606|     191|8/29/2013 14:38|  San Jose City Hall|              10|8/29/2013 14:42|  San Jose City Hall|            10|     35|       Subscriber|   95138|\n",
      "|4822|     343|8/29/2013 17:37|  San Jose City Hall|              10|8/29/2013 17:43|    San Pedro Square|             6|    196|       Subscriber|   95138|\n",
      "|4204|     378|8/29/2013 11:06|  San Jose City Hall|              10|8/29/2013 11:13|  San Jose City Hall|            10|     28|       Subscriber|   95136|\n",
      "|5099|     387|8/29/2013 22:35|San Jose Civic Ce...|               3|8/29/2013 22:41|San Jose Diridon ...|             2|    675|       Subscriber|   95126|\n",
      "|4347|     389|8/29/2013 12:15|  San Jose City Hall|              10|8/29/2013 12:21|    San Pedro Square|             6|    146|       Subscriber|   95112|\n",
      "|4958|     454|8/29/2013 19:18|San Jose Diridon ...|               2|8/29/2013 19:25|Paseo de San Antonio|             7|     91|       Subscriber|   95126|\n",
      "|5085|     573|8/29/2013 22:06|San Jose Civic Ce...|               3|8/29/2013 22:16|       St James Park|            13|    639|       Subscriber|   95112|\n",
      "|5086|     587|8/29/2013 22:06|San Jose Civic Ce...|               3|8/29/2013 22:16|       St James Park|            13|    655|       Subscriber|   95112|\n",
      "|4874|     704|8/29/2013 18:07|San Jose Civic Ce...|               3|8/29/2013 18:19| San Salvador at 1st|             8|    671|       Subscriber|   94116|\n",
      "|4997|     841|8/29/2013 19:57|San Jose Diridon ...|               2|8/29/2013 20:11|  San Jose City Hall|            10|     58|       Subscriber|   95112|\n",
      "|5038|     994|8/29/2013 20:36|San Jose Diridon ...|               2|8/29/2013 20:53|SJSU 4th at San C...|            12|     91|       Subscriber|   95126|\n",
      "|4160|    1271|8/29/2013 10:42|  San Jose City Hall|              10|8/29/2013 11:03|  San Jose City Hall|            10|    680|       Subscriber|   95112|\n",
      "|4164|    1276|8/29/2013 10:47|  San Jose City Hall|              10|8/29/2013 11:09|  San Jose City Hall|            10|     30|       Subscriber|   95060|\n",
      "|5349|      76|8/30/2013 10:56|  San Jose City Hall|              10|8/30/2013 10:57|         MLK Library|            11|     28|       Subscriber|   95112|\n",
      "|6326|     289|8/30/2013 18:38|San Jose Diridon ...|               2|8/30/2013 18:43|San Jose Diridon ...|             2|     23|       Subscriber|   95126|\n",
      "+----+--------+---------------+--------------------+----------------+---------------+--------------------+--------------+-------+-----------------+--------+\n",
      "only showing top 20 rows\n",
      "\n"
     ]
    }
   ],
   "source": [
    "#We can now query the Subscribers table\n",
    "spark.sql(\"SELECT * FROM subscribers WHERE start_station_name LIKE \\\"San Jose%\\\" \").show()"
   ]
  },
  {
   "cell_type": "markdown",
   "metadata": {
    "id": "ZTDTiT2_Nm2L"
   },
   "source": [
    "## Reading multiple types: \n",
    "\n",
    "Spark SQL supports reading the following formats:\n",
    "- CSV\n",
    "- JSON\n",
    "- Avro\n",
    "- Parquet\n",
    "- Hive tables\n",
    "- ORC tables\n",
    "\n",
    "It can also create a JDBC connection to existing databases.\n",
    "\n",
    "For more details, please read the Spark documentation\n",
    "https://spark.apache.org/docs/2.2.0/sql-programming-guide.html#data-sources\n",
    "\n",
    "\n",
    "\n",
    "\n"
   ]
  },
  {
   "cell_type": "markdown",
   "metadata": {
    "id": "JWSg8i1bn6Ex"
   },
   "source": [
    "## Spark SQL architecture\n",
    "\n",
    "<img src=\"https://d1jnx9ba8s6j9r.cloudfront.net/blog/wp-content/uploads/2016/12/Spark-SQL-Architecture-Spark-SQL-Edureka-1.png\"/>\n",
    "\n",
    "**Source** : Edureka\n",
    "\n",
    "For a better understanding of Spark SQL, read this article: https://www.edureka.co/blog/spark-sql-tutorial/"
   ]
  },
  {
   "cell_type": "markdown",
   "metadata": {
    "id": "oJj5enyrPwax"
   },
   "source": [
    "# Inferring schema\n",
    "\n",
    "Spark SQL can convert an RDD of Row objects to a DataFrame, inferring the datatypes. Rows are constructed by passing a list of key/value pairs as kwargs to the Row class. The keys of this list define the column names of the table, and the types are inferred by sampling the whole dataset, similar to the inference that is performed on JSON files.\n",
    "\n",
    "A practical example can be found here: https://spark.apache.org/docs/2.3.0/sql-programming-guide.html#inferring-the-schema-using-reflection"
   ]
  },
  {
   "cell_type": "markdown",
   "metadata": {
    "id": "EscnlFYDSrHb"
   },
   "source": [
    "## Bucketing, Sorting and Partitioning\n",
    "\n",
    "For file-based data source, it is also possible to bucket and sort or partition the output. Bucketing and sorting are applicable only to persistent tables\n",
    "\n",
    "The bucket by command allows you to sort the rows of Spark SQL table by a certain column. If you then cache the sorted table, you can make subsequent joins faster.\n",
    "\n",
    "Bucketing is an optimization technique in Spark SQL that uses buckets and bucketing columns to determine data partitioning. When applied properly bucketing can lead to join optimizations by avoiding shuffles (aka exchanges) of tables participating in the join. The talk will give you the necessary information so you can use bucketing to optimize Spark SQL structured queries.\n",
    "\n",
    "Source: https://spark.apache.org/docs/latest/sql-data-sources-load-save-functions.html#bucketing-sorting-and-partitioning"
   ]
  },
  {
   "cell_type": "code",
   "execution_count": null,
   "metadata": {
    "id": "2pmeiHwqcJ3m"
   },
   "outputs": [],
   "source": [
    "# Bucketing and sorting - Split the data into 42 buckets by the start station name column\n",
    "subscribers.write.bucketBy(42, \"start_station_name\").sortBy(\"duration\").saveAsTable(\"bucketed_subscribers\")\n"
   ]
  },
  {
   "cell_type": "code",
   "execution_count": null,
   "metadata": {
    "colab": {
     "base_uri": "https://localhost:8080/",
     "height": 298
    },
    "id": "8HCdiaqxR-DT",
    "outputId": "843e7221-1380-4efd-97ec-de4c0ed74532"
   },
   "outputs": [
    {
     "name": "stdout",
     "output_type": "stream",
     "text": [
      "+------+--------+----------------+------------------+----------------+----------------+--------------------+--------------+-------+-----------------+--------+\n",
      "|    id|duration|      start_date|start_station_name|start_station_id|        end_date|    end_station_name|end_station_id|bike_id|subscription_type|zip_code|\n",
      "+------+--------+----------------+------------------+----------------+----------------+--------------------+--------------+-------+-----------------+--------+\n",
      "| 90783|     100|11/10/2013 11:39|  Davis at Jackson|              42|11/10/2013 11:41|    Davis at Jackson|            42|    423|       Subscriber|   94111|\n",
      "|101343|     100|11/19/2013 12:47|  Davis at Jackson|              42|11/19/2013 12:49|Embarcadero at Va...|            48|    586|       Subscriber|   94602|\n",
      "|376936|     100| 7/23/2014 17:21|  Davis at Jackson|              42| 7/23/2014 17:22|    Davis at Jackson|            42|    541|       Subscriber|   94132|\n",
      "|193065|    1000|  2/23/2014 9:11|  Davis at Jackson|              42|  2/23/2014 9:27| Golden Gate at Polk|            59|    588|       Subscriber|   94111|\n",
      "|889083|    1000| 8/13/2015 17:48|  Davis at Jackson|              42| 8/13/2015 18:05|San Francisco Cal...|            70|    553|       Subscriber|   94403|\n",
      "|400355|    1001|  8/8/2014 13:35|  Davis at Jackson|              42|  8/8/2014 13:52|      Market at 10th|            67|     86|       Subscriber|   94610|\n",
      "|392817|    1001|   8/4/2014 9:13|  Davis at Jackson|              42|   8/4/2014 9:30|      Market at 10th|            67|    280|       Subscriber|   94111|\n",
      "|313297|    1001|   6/6/2014 8:21|  Davis at Jackson|              42|   6/6/2014 8:38|      Market at 10th|            67|    450|       Subscriber|   94111|\n",
      "|386862|    1003| 7/30/2014 13:51|  Davis at Jackson|              42| 7/30/2014 14:07|Embarcadero at Sa...|            60|    395|       Subscriber|   94133|\n",
      "|328972|    1003|  6/18/2014 8:26|  Davis at Jackson|              42|  6/18/2014 8:43|      Market at 10th|            67|    507|       Subscriber|   94111|\n",
      "+------+--------+----------------+------------------+----------------+----------------+--------------------+--------------+-------+-----------------+--------+\n",
      "\n"
     ]
    }
   ],
   "source": [
    "# We can now query the bucketed table\n",
    "from time import time\n",
    "start_time=time()\n",
    "spark.sql(\"SELECT * FROM bucketed_subscribers LIMIT 10\").show()\n",
    "end_time=time()"
   ]
  },
  {
   "cell_type": "code",
   "execution_count": null,
   "metadata": {
    "colab": {
     "base_uri": "https://localhost:8080/",
     "height": 34
    },
    "id": "fbJP8dS8SKsq",
    "outputId": "926387f2-3378-420e-a134-2dba59719b13"
   },
   "outputs": [
    {
     "name": "stdout",
     "output_type": "stream",
     "text": [
      "Time spent to query bucketed table:  0.15280866622924805\n"
     ]
    }
   ],
   "source": [
    "print(\"Time spent to query bucketed table: \",end_time - start_time)"
   ]
  },
  {
   "cell_type": "code",
   "execution_count": null,
   "metadata": {
    "colab": {
     "base_uri": "https://localhost:8080/",
     "height": 298
    },
    "id": "GK-2nHdVSQjq",
    "outputId": "2b737731-33d3-44b6-b8ab-772e122ec22f"
   },
   "outputs": [
    {
     "name": "stdout",
     "output_type": "stream",
     "text": [
      "+----+--------+---------------+--------------------+----------------+---------------+--------------------+--------------+-------+-----------------+--------+\n",
      "|  id|duration|     start_date|  start_station_name|start_station_id|       end_date|    end_station_name|end_station_id|bike_id|subscription_type|zip_code|\n",
      "+----+--------+---------------+--------------------+----------------+---------------+--------------------+--------------+-------+-----------------+--------+\n",
      "|4576|      63|8/29/2013 14:13|South Van Ness at...|              66|8/29/2013 14:14|South Van Ness at...|            66|    520|       Subscriber|   94127|\n",
      "|4607|      70|8/29/2013 14:42|  San Jose City Hall|              10|8/29/2013 14:43|  San Jose City Hall|            10|    661|       Subscriber|   95138|\n",
      "|4130|      71|8/29/2013 10:16|Mountain View Cit...|              27|8/29/2013 10:17|Mountain View Cit...|            27|     48|       Subscriber|   97214|\n",
      "|4251|      77|8/29/2013 11:29|  San Jose City Hall|              10|8/29/2013 11:30|  San Jose City Hall|            10|     26|       Subscriber|   95060|\n",
      "|4299|      83|8/29/2013 12:02|South Van Ness at...|              66|8/29/2013 12:04|      Market at 10th|            67|    319|       Subscriber|   94103|\n",
      "|4927|     103|8/29/2013 18:54| Golden Gate at Polk|              59|8/29/2013 18:56| Golden Gate at Polk|            59|    527|       Subscriber|   94109|\n",
      "|4500|     109|8/29/2013 13:25|Santa Clara at Al...|               4|8/29/2013 13:27|    Adobe on Almaden|             5|    679|       Subscriber|   95112|\n",
      "|4563|     111|8/29/2013 14:02| San Salvador at 1st|               8|8/29/2013 14:04| San Salvador at 1st|             8|    687|       Subscriber|   95112|\n",
      "|4760|     113|8/29/2013 17:01|South Van Ness at...|              66|8/29/2013 17:03|South Van Ness at...|            66|    553|       Subscriber|   94103|\n",
      "|4258|     114|8/29/2013 11:33|  San Jose City Hall|              10|8/29/2013 11:35|         MLK Library|            11|    107|       Subscriber|   95060|\n",
      "+----+--------+---------------+--------------------+----------------+---------------+--------------------+--------------+-------+-----------------+--------+\n",
      "\n"
     ]
    }
   ],
   "source": [
    "start_time_unbucketed=time()\n",
    "spark.sql(\"SELECT * FROM subscribers LIMIT 10\").show()\n",
    "end_time_unbucketed=time()"
   ]
  },
  {
   "cell_type": "code",
   "execution_count": null,
   "metadata": {
    "colab": {
     "base_uri": "https://localhost:8080/",
     "height": 34
    },
    "id": "zMd7rgdVSXoH",
    "outputId": "41f02df3-722d-416d-ec50-bfbe9ca602bb"
   },
   "outputs": [
    {
     "name": "stdout",
     "output_type": "stream",
     "text": [
      "Time spent to query unbucketed table:  0.24500536918640137\n"
     ]
    }
   ],
   "source": [
    "print(\"Time spent to query unbucketed table: \", end_time_unbucketed - start_time_unbucketed)"
   ]
  },
  {
   "cell_type": "markdown",
   "metadata": {
    "id": "sNvBNjdkSz5p"
   },
   "source": [
    "## Partitioning\n"
   ]
  },
  {
   "cell_type": "code",
   "execution_count": null,
   "metadata": {
    "id": "i7h43h0-cJ7e"
   },
   "outputs": [],
   "source": [
    "#We partition the data by start_station_name and store it in a Parquet format - More on Parquet files later. For a better understanding, read the documentation.\n",
    "subscribers.write.partitionBy(\"start_station_name\").format(\"parquet\").save(\"subscribers.parquet\")"
   ]
  },
  {
   "cell_type": "code",
   "execution_count": null,
   "metadata": {
    "colab": {
     "base_uri": "https://localhost:8080/",
     "height": 489
    },
    "id": "BGtQQIw3TG_k",
    "outputId": "99530e91-5876-4b8c-ba1e-b69c8c943fdc"
   },
   "outputs": [
    {
     "name": "stdout",
     "output_type": "stream",
     "text": [
      "+----+--------+---------------+----------------+---------------+--------------------+--------------+-------+-----------------+--------+--------------------+\n",
      "|  id|duration|     start_date|start_station_id|       end_date|    end_station_name|end_station_id|bike_id|subscription_type|zip_code|  start_station_name|\n",
      "+----+--------+---------------+----------------+---------------+--------------------+--------------+-------+-----------------+--------+--------------------+\n",
      "|4673|     239|8/29/2013 15:48|              70|8/29/2013 15:52|     Townsend at 7th|            65|    568|       Subscriber|   94110|San Francisco Cal...|\n",
      "|4177|     278|8/29/2013 11:03|              70|8/29/2013 11:08|   2nd at South Park|            64|    371|       Subscriber|   94117|San Francisco Cal...|\n",
      "|5067|     423|8/29/2013 21:38|              70|8/29/2013 21:45|San Francisco Cal...|            69|    535|       Subscriber|   94133|San Francisco Cal...|\n",
      "|4833|     543|8/29/2013 17:45|              70|8/29/2013 17:54|   Market at Sansome|            77|    619|       Subscriber|   94115|San Francisco Cal...|\n",
      "|4628|     611|8/29/2013 15:03|              70|8/29/2013 15:13|Yerba Buena Cente...|            68|    562|       Subscriber|   94117|San Francisco Cal...|\n",
      "|4537|     624|8/29/2013 13:45|              70|8/29/2013 13:55|       Market at 4th|            76|    524|       Subscriber|   94061|San Francisco Cal...|\n",
      "|4626|     624|8/29/2013 15:02|              70|8/29/2013 15:13|Yerba Buena Cente...|            68|    413|       Subscriber|   94401|San Francisco Cal...|\n",
      "|4256|     629|8/29/2013 11:32|              70|8/29/2013 11:43|Embarcadero at Br...|            54|    376|       Subscriber|   94105|San Francisco Cal...|\n",
      "|5020|     684|8/29/2013 20:22|              70|8/29/2013 20:34|Civic Center BART...|            72|    334|       Subscriber|   94114|San Francisco Cal...|\n",
      "|4243|     720|8/29/2013 11:26|              70|8/29/2013 11:38|San Francisco Cal...|            70|    538|       Subscriber|   94117|San Francisco Cal...|\n",
      "|5045|     757|8/29/2013 20:51|              70|8/29/2013 21:03|San Francisco Cal...|            69|    416|       Subscriber|   94109|San Francisco Cal...|\n",
      "|4593|     867|8/29/2013 14:30|              70|8/29/2013 14:44|San Francisco Cit...|            58|    267|       Subscriber|   94115|San Francisco Cal...|\n",
      "|4907|     879|8/29/2013 18:31|              70|8/29/2013 18:46|Commercial at Mon...|            45|    579|       Subscriber|   94102|San Francisco Cal...|\n",
      "|4244|    1071|8/29/2013 11:26|              70|8/29/2013 11:44|San Francisco Cit...|            58|    572|       Subscriber|   94122|San Francisco Cal...|\n",
      "|4219|    1150|8/29/2013 11:18|              70|8/29/2013 11:37|Civic Center BART...|            72|    597|       Subscriber|   97214|San Francisco Cal...|\n",
      "|4827|    1258|8/29/2013 17:38|              70|8/29/2013 17:59|     Post at Kearney|            47|    381|       Subscriber|   94118|San Francisco Cal...|\n",
      "|4913|    1263|8/29/2013 18:41|              70|8/29/2013 19:02|       Market at 4th|            76|    511|       Subscriber|   94109|San Francisco Cal...|\n",
      "|4221|    1500|8/29/2013 11:18|              70|8/29/2013 11:43|South Van Ness at...|            66|    546|       Subscriber|   94123|San Francisco Cal...|\n",
      "|4217|    1535|8/29/2013 11:17|              70|8/29/2013 11:42|South Van Ness at...|            66|    370|       Subscriber|   94703|San Francisco Cal...|\n",
      "|4218|    1593|8/29/2013 11:17|              70|8/29/2013 11:43|South Van Ness at...|            66|    377|       Subscriber|   94114|San Francisco Cal...|\n",
      "+----+--------+---------------+----------------+---------------+--------------------+--------------+-------+-----------------+--------+--------------------+\n",
      "only showing top 20 rows\n",
      "\n"
     ]
    }
   ],
   "source": [
    "#We will now read the data\n",
    "subscribers_in_parquet_format=spark.read.parquet(\"subscribers.parquet\")\n",
    "subscribers_in_parquet_format.show()"
   ]
  },
  {
   "cell_type": "code",
   "execution_count": null,
   "metadata": {
    "colab": {
     "base_uri": "https://localhost:8080/",
     "height": 469
    },
    "id": "kzTg7syJTnyd",
    "outputId": "29fbe86f-9e2f-4a4e-9f4e-bebd21f7533a"
   },
   "outputs": [
    {
     "name": "stdout",
     "output_type": "stream",
     "text": [
      "+-----+--------+---------------+----------------+---------------+--------------------+--------------+-------+-----------------+--------+\n",
      "|   id|duration|     start_date|start_station_id|       end_date|    end_station_name|end_station_id|bike_id|subscription_type|zip_code|\n",
      "+-----+--------+---------------+----------------+---------------+--------------------+--------------+-------+-----------------+--------+\n",
      "| 4799|     267|8/29/2013 17:19|              42|8/29/2013 17:24|   Steuart at Market|            74|    399|       Subscriber|   94105|\n",
      "| 4890|     347|8/29/2013 18:13|              42|8/29/2013 18:19|     Beale at Market|            56|    326|       Subscriber|   94123|\n",
      "| 5004|     430|8/29/2013 20:05|              42|8/29/2013 20:12|   Market at Sansome|            77|    377|       Subscriber|   94110|\n",
      "| 4462|     646|8/29/2013 13:07|              42|8/29/2013 13:18|Mechanics Plaza (...|            75|    543|       Subscriber|   94109|\n",
      "| 4943|     970|8/29/2013 19:06|              42|8/29/2013 19:22| Golden Gate at Polk|            59|    421|       Subscriber|   94111|\n",
      "| 4629|    1065|8/29/2013 15:03|              42|8/29/2013 15:20|South Van Ness at...|            66|    356|       Subscriber|   94127|\n",
      "| 4461|    1314|8/29/2013 13:07|              42|8/29/2013 13:29|      Market at 10th|            67|    598|       Subscriber|   94121|\n",
      "| 4302|    2138|8/29/2013 11:58|              42|8/29/2013 12:33|       Market at 4th|            76|    615|       Subscriber|   94129|\n",
      "| 5492|     356|8/30/2013 12:09|              42|8/30/2013 12:15|Grant Avenue at C...|            73|    425|       Subscriber|   94129|\n",
      "| 6770|     375|8/31/2013 12:21|              42|8/31/2013 12:27|Mechanics Plaza (...|            75|    412|       Subscriber|   94127|\n",
      "| 6503|    1017| 8/31/2013 7:47|              42| 8/31/2013 8:04|San Francisco Cal...|            69|    573|       Subscriber|   94111|\n",
      "| 7586|     313| 9/1/2013 10:55|              42| 9/1/2013 11:00|Embarcadero at Sa...|            60|    461|       Subscriber|   94111|\n",
      "| 9103|     287| 9/2/2013 15:51|              42| 9/2/2013 15:56|   Steuart at Market|            74|    404|       Subscriber|   94110|\n",
      "| 9194|     481| 9/2/2013 17:36|              42| 9/2/2013 17:44|Embarcadero at Fo...|            51|    584|       Subscriber|   94105|\n",
      "| 9264|     363| 9/2/2013 19:15|              42| 9/2/2013 19:22|Grant Avenue at C...|            73|    386|       Subscriber|   94133|\n",
      "| 9405|     378|  9/3/2013 7:44|              42|  9/3/2013 7:50|     Spear at Folsom|            49|    357|       Subscriber|   94133|\n",
      "| 9813|     381| 9/3/2013 14:13|              42| 9/3/2013 14:19|Embarcadero at Sa...|            60|    340|       Subscriber|   94605|\n",
      "| 9886|     216| 9/3/2013 15:37|              42| 9/3/2013 15:41|    Davis at Jackson|            42|    281|       Subscriber|   94111|\n",
      "|10024|     570| 9/3/2013 17:15|              42| 9/3/2013 17:24|     2nd at Townsend|            61|    337|       Subscriber|   94111|\n",
      "|10107|     642| 9/3/2013 18:17|              42| 9/3/2013 18:28|   2nd at South Park|            64|    281|       Subscriber|   94602|\n",
      "+-----+--------+---------------+----------------+---------------+--------------------+--------------+-------+-----------------+--------+\n",
      "only showing top 20 rows\n",
      "\n"
     ]
    }
   ],
   "source": [
    "#Reading a partition from the parquet file\n",
    "davis_at_jackson_subscribers=spark.read.parquet(\"subscribers.parquet/start_station_name=Davis at Jackson\")\n",
    "davis_at_jackson_subscribers.show()"
   ]
  },
  {
   "cell_type": "code",
   "execution_count": null,
   "metadata": {
    "colab": {
     "base_uri": "https://localhost:8080/",
     "height": 489
    },
    "id": "J_w72NS9T9Yd",
    "outputId": "5ebafcac-2554-4965-94ab-12d031687949"
   },
   "outputs": [
    {
     "name": "stdout",
     "output_type": "stream",
     "text": [
      "+-----+--------+---------------+------------------+----------------+---------------+--------------------+--------------+-------+-----------------+--------+\n",
      "|   id|duration|     start_date|start_station_name|start_station_id|       end_date|    end_station_name|end_station_id|bike_id|subscription_type|zip_code|\n",
      "+-----+--------+---------------+------------------+----------------+---------------+--------------------+--------------+-------+-----------------+--------+\n",
      "| 4799|     267|8/29/2013 17:19|  Davis at Jackson|              42|8/29/2013 17:24|   Steuart at Market|            74|    399|       Subscriber|   94105|\n",
      "| 4890|     347|8/29/2013 18:13|  Davis at Jackson|              42|8/29/2013 18:19|     Beale at Market|            56|    326|       Subscriber|   94123|\n",
      "| 5004|     430|8/29/2013 20:05|  Davis at Jackson|              42|8/29/2013 20:12|   Market at Sansome|            77|    377|       Subscriber|   94110|\n",
      "| 4462|     646|8/29/2013 13:07|  Davis at Jackson|              42|8/29/2013 13:18|Mechanics Plaza (...|            75|    543|       Subscriber|   94109|\n",
      "| 4943|     970|8/29/2013 19:06|  Davis at Jackson|              42|8/29/2013 19:22| Golden Gate at Polk|            59|    421|       Subscriber|   94111|\n",
      "| 4629|    1065|8/29/2013 15:03|  Davis at Jackson|              42|8/29/2013 15:20|South Van Ness at...|            66|    356|       Subscriber|   94127|\n",
      "| 4461|    1314|8/29/2013 13:07|  Davis at Jackson|              42|8/29/2013 13:29|      Market at 10th|            67|    598|       Subscriber|   94121|\n",
      "| 4302|    2138|8/29/2013 11:58|  Davis at Jackson|              42|8/29/2013 12:33|       Market at 4th|            76|    615|       Subscriber|   94129|\n",
      "| 5492|     356|8/30/2013 12:09|  Davis at Jackson|              42|8/30/2013 12:15|Grant Avenue at C...|            73|    425|       Subscriber|   94129|\n",
      "| 6770|     375|8/31/2013 12:21|  Davis at Jackson|              42|8/31/2013 12:27|Mechanics Plaza (...|            75|    412|       Subscriber|   94127|\n",
      "| 6503|    1017| 8/31/2013 7:47|  Davis at Jackson|              42| 8/31/2013 8:04|San Francisco Cal...|            69|    573|       Subscriber|   94111|\n",
      "| 7586|     313| 9/1/2013 10:55|  Davis at Jackson|              42| 9/1/2013 11:00|Embarcadero at Sa...|            60|    461|       Subscriber|   94111|\n",
      "| 9103|     287| 9/2/2013 15:51|  Davis at Jackson|              42| 9/2/2013 15:56|   Steuart at Market|            74|    404|       Subscriber|   94110|\n",
      "| 9194|     481| 9/2/2013 17:36|  Davis at Jackson|              42| 9/2/2013 17:44|Embarcadero at Fo...|            51|    584|       Subscriber|   94105|\n",
      "| 9264|     363| 9/2/2013 19:15|  Davis at Jackson|              42| 9/2/2013 19:22|Grant Avenue at C...|            73|    386|       Subscriber|   94133|\n",
      "| 9405|     378|  9/3/2013 7:44|  Davis at Jackson|              42|  9/3/2013 7:50|     Spear at Folsom|            49|    357|       Subscriber|   94133|\n",
      "| 9813|     381| 9/3/2013 14:13|  Davis at Jackson|              42| 9/3/2013 14:19|Embarcadero at Sa...|            60|    340|       Subscriber|   94605|\n",
      "| 9886|     216| 9/3/2013 15:37|  Davis at Jackson|              42| 9/3/2013 15:41|    Davis at Jackson|            42|    281|       Subscriber|   94111|\n",
      "|10024|     570| 9/3/2013 17:15|  Davis at Jackson|              42| 9/3/2013 17:24|     2nd at Townsend|            61|    337|       Subscriber|   94111|\n",
      "|10107|     642| 9/3/2013 18:17|  Davis at Jackson|              42| 9/3/2013 18:28|   2nd at South Park|            64|    281|       Subscriber|   94602|\n",
      "+-----+--------+---------------+------------------+----------------+---------------+--------------------+--------------+-------+-----------------+--------+\n",
      "only showing top 20 rows\n",
      "\n"
     ]
    }
   ],
   "source": [
    "#Checking we selected the relevant data\n",
    "spark.sql(\"SELECT * FROM subscribers WHERE start_station_name=\\'Davis at Jackson\\'\").show()"
   ]
  },
  {
   "cell_type": "markdown",
   "metadata": {
    "id": "YU4gVqDKUOa2"
   },
   "source": [
    "By checking the zip_code and start_date fields, data is the same, yet the partitioned table does not contain the partition key."
   ]
  },
  {
   "cell_type": "markdown",
   "metadata": {
    "id": "a8XkX_wPSylg"
   },
   "source": [
    "## Practical examples"
   ]
  },
  {
   "cell_type": "markdown",
   "metadata": {
    "id": "ReQIjT86ZWzf"
   },
   "source": [
    "- Read CSV\n",
    "- Read JSON\n",
    "- Read Parquet\n",
    "- Select multiple columns with PySpark vs SparkSQL query\n",
    "- Filter, group by\n",
    "- Join two tables\n",
    "- Print schema\n",
    "- Save to persistent tables\n",
    "- Cache data in memory\n",
    "- Programatically specifying the schema\n",
    "- Partinioning example"
   ]
  },
  {
   "cell_type": "markdown",
   "metadata": {
    "id": "wLMD6zN1Te3t"
   },
   "source": [
    "## Read CSV\n"
   ]
  },
  {
   "cell_type": "code",
   "execution_count": null,
   "metadata": {
    "id": "yd6N9BfapZ5i"
   },
   "outputs": [],
   "source": [
    "from pyspark.sql import SQLContext\n",
    "sqlContext = SQLContext(sc)"
   ]
  },
  {
   "cell_type": "code",
   "execution_count": null,
   "metadata": {
    "colab": {
     "base_uri": "https://localhost:8080/",
     "height": 469
    },
    "id": "buRfNvLwqEjg",
    "outputId": "6c4091ff-756b-43ed-bb39-d10a6749fc5c"
   },
   "outputs": [
    {
     "name": "stdout",
     "output_type": "stream",
     "text": [
      "+---+--------------------+------------------+-------------------+----------+------------+-----------------+\n",
      "| id|                name|               lat|               long|dock_count|        city|installation_date|\n",
      "+---+--------------------+------------------+-------------------+----------+------------+-----------------+\n",
      "|  2|San Jose Diridon ...|         37.329732|-121.90178200000001|        27|    San Jose|         8/6/2013|\n",
      "|  3|San Jose Civic Ce...|         37.330698|        -121.888979|        15|    San Jose|         8/5/2013|\n",
      "|  4|Santa Clara at Al...|         37.333988|        -121.894902|        11|    San Jose|         8/6/2013|\n",
      "|  5|    Adobe on Almaden|         37.331415|          -121.8932|        19|    San Jose|         8/5/2013|\n",
      "|  6|    San Pedro Square|37.336721000000004|        -121.894074|        15|    San Jose|         8/7/2013|\n",
      "|  7|Paseo de San Antonio|         37.333798|-121.88694299999999|        15|    San Jose|         8/7/2013|\n",
      "|  8| San Salvador at 1st|         37.330165|-121.88583100000001|        15|    San Jose|         8/5/2013|\n",
      "|  9|           Japantown|         37.348742|-121.89471499999999|        15|    San Jose|         8/5/2013|\n",
      "| 10|  San Jose City Hall|         37.337391|        -121.886995|        15|    San Jose|         8/6/2013|\n",
      "| 11|         MLK Library|         37.335885|-121.88566000000002|        19|    San Jose|         8/6/2013|\n",
      "| 12|SJSU 4th at San C...|         37.332808|-121.88389099999999|        19|    San Jose|         8/7/2013|\n",
      "| 13|       St James Park|         37.339301|-121.88993700000002|        15|    San Jose|         8/6/2013|\n",
      "| 14|Arena Green / SAP...|         37.332692|        -121.900084|        19|    San Jose|         8/5/2013|\n",
      "| 16|SJSU - San Salvad...|37.333954999999996|        -121.877349|        15|    San Jose|         8/7/2013|\n",
      "| 21|   Franklin at Maple|         37.481758|        -122.226904|        15|Redwood City|        8/12/2013|\n",
      "| 22|Redwood City Calt...|37.486078000000006|-122.23208899999999|        25|Redwood City|        8/15/2013|\n",
      "| 23|San Mateo County ...|37.487615999999996|        -122.229951|        15|Redwood City|        8/15/2013|\n",
      "| 24|Redwood City Publ...|         37.484219|        -122.227424|        15|Redwood City|        8/12/2013|\n",
      "| 25|Stanford in Redwo...|          37.48537|-122.20328799999999|        15|Redwood City|        8/12/2013|\n",
      "| 26|Redwood City Medi...|         37.487682|        -122.223492|        15|Redwood City|        8/12/2013|\n",
      "+---+--------------------+------------------+-------------------+----------+------------+-----------------+\n",
      "only showing top 20 rows\n",
      "\n"
     ]
    }
   ],
   "source": [
    "station_csv_df=sqlContext.read.csv(\"s3://msin0166-spark-workshop/data/sf_bike_sharing_data/station.csv\",header=True)\n",
    "station_csv_df.show()"
   ]
  },
  {
   "cell_type": "code",
   "execution_count": null,
   "metadata": {
    "colab": {
     "base_uri": "https://localhost:8080/",
     "height": 173
    },
    "id": "yP_L3B8hqEmw",
    "outputId": "a96d6248-c79c-44c2-cf8b-d6f246e55eca"
   },
   "outputs": [
    {
     "name": "stdout",
     "output_type": "stream",
     "text": [
      "root\n",
      " |-- id: string (nullable = true)\n",
      " |-- name: string (nullable = true)\n",
      " |-- lat: string (nullable = true)\n",
      " |-- long: string (nullable = true)\n",
      " |-- dock_count: string (nullable = true)\n",
      " |-- city: string (nullable = true)\n",
      " |-- installation_date: string (nullable = true)\n",
      "\n"
     ]
    }
   ],
   "source": [
    "#Check dataframe schema\n",
    "station_csv_df.printSchema()\n"
   ]
  },
  {
   "cell_type": "markdown",
   "metadata": {
    "id": "sCKR5O2Tq6om"
   },
   "source": [
    "You can then register this dataframe as a temporary table and query it as shown in previous examples."
   ]
  },
  {
   "cell_type": "markdown",
   "metadata": {
    "id": "k7WfNEAvTi9h"
   },
   "source": [
    "## Read JSON\n",
    "**Note**: This example is based on the Yelp business dataset, provided on Moodle."
   ]
  },
  {
   "cell_type": "code",
   "execution_count": null,
   "metadata": {
    "colab": {
     "base_uri": "https://localhost:8080/",
     "height": 489
    },
    "id": "dw9JOx1Xr9xp",
    "outputId": "78153baf-23a5-4a12-b04e-22e573198c3b"
   },
   "outputs": [
    {
     "name": "stdout",
     "output_type": "stream",
     "text": [
      "+--------------------+--------------------+--------------------+--------------------+------------------+--------------------+-------+-------------+---------------+--------------------+-----------+------------+-----+-----+\n",
      "|             address|          attributes|         business_id|          categories|              city|               hours|is_open|     latitude|      longitude|                name|postal_code|review_count|stars|state|\n",
      "+--------------------+--------------------+--------------------+--------------------+------------------+--------------------+-------+-------------+---------------+--------------------+-----------+------------+-----+-----+\n",
      "|2818 E Camino Ace...|[,,,,,,,,,,,,,,,,...|1SWheh84yJXfytovI...|   Golf, Active Life|           Phoenix|                null|      0|   33.5221425|   -112.0184807|Arizona Biltmore ...|      85016|           5|  3.0|   AZ|\n",
      "|30 Eglinton Avenue W|[,, u'full_bar', ...|QXAEGFB4oINsVuTFx...|Specialty Food, R...|       Mississauga|[9:0-1:0, 9:0-0:0...|      1|43.6054989743|  -79.652288909|Emerald Chinese R...|    L5R 3E7|         128|  2.5|   ON|\n",
      "|10110 Johnston Rd...|[,, u'beer_and_wi...|gnKjwL_1w79qoiV3I...|Sushi Bars, Resta...|         Charlotte|[17:30-22:0, 17:3...|      1|    35.092564|     -80.859132|Musashi Japanese ...|      28210|         170|  4.0|   NC|\n",
      "|15655 W Roosevelt...|                null|xvX2CttrVhyG2z1dF...|Insurance, Financ...|          Goodyear|[8:0-17:0, 8:0-17...|      1|33.4556129678|-112.3955963552|Farmers Insurance...|      85338|           3|  5.0|   AZ|\n",
      "|4209 Stuart Andre...|[,,,,,,,, False, ...|HhyxOkGAM07SRYtlQ...|Plumbing, Shoppin...|         Charlotte|[7:0-23:0, 7:0-23...|      1|   35.1900119|    -80.8872232| Queen City Plumbing|      28217|           4|  4.0|   NC|\n",
      "|Credit Valley Tow...|[,,,,,,,,,, {'gar...|68dUKd8_8liJ7in4a...|Shipping Centers,...|       Mississauga|[9:0-19:0, 9:0-19...|      1|   43.5994753|    -79.7115835|       The UPS Store|    L5V 0B1|           3|  2.5|   ON|\n",
      "|20 Douglas Woods ...|[,,,,,,,,,, {'gar...|5JucpCfHZltJh5r1J...|Beauty & Spas, Ha...|           Calgary|                null|      1|   50.9436456|   -114.0018283|    Edgeworxx Studio|    T2Z 1K4|           7|  3.5|   AB|\n",
      "|4545 E Tropicana ...|[,,,,,,, False,, ...|gbQN7vr_caG_A1ugS...|Hair Salons, Hair...|         Las Vegas|[10:0-19:0, 10:0-...|      1|    36.099872|    -115.074574|           Supercuts|      89121|           3|  3.5|   NV|\n",
      "|5940 W Union Hill...|[,,,,,,, False,, ...|Y6iyemLX_oylRpnr3...|Nail Salons, Beau...|          Glendale|[10:0-17:0,, 10:0...|      0|   33.6548146|   -112.1885676|Vita Bella Fine D...|      85308|           8|  5.0|   AZ|\n",
      "|     21689 Lorain Rd|[False,,,,,,,,, T...|4GBVPIYRvzGh4K4Tk...|Beauty & Spas, Na...|     Fairview Park|[9:0-19:0,, 9:0-1...|      1|41.4408252653| -81.8540965503| Options Salon & Spa|      44126|           8|  4.5|   OH|\n",
      "|1210 8th Street S...|[,,,,,,, False,,,...|fcXOEZdXYeZqnQ3lG...|Local Services, P...|           Calgary|[9:0-17:0, 9:0-17...|      1|    51.041771|    -114.081109|Nucleus Informati...|    T2R 1L3|           5|  2.0|   AB|\n",
      "|2450 E Indian Sch...|[,, u'none', {'ro...|1Dfx3zM-rW4n-31Ke...|Restaurants, Brea...|           Phoenix|[7:0-1:0, 7:0-0:0...|      1|   33.4951941|   -112.0285876|           Taco Bell|      85016|          18|  3.0|   AZ|\n",
      "|119 Landings Dr, ...|[,, 'beer_and_win...|5t3KVdMnFgAYmSl1w...|Bars, Nightlife, ...|       Mooresville|[10:0-1:0, 10:0-1...|      1|35.5274098057| -80.8680032061|The Kilted Buffal...|      28117|           9|  3.5|   NC|\n",
      "|     5981 Andrews Rd|[,, u'none', None...|fweCYi8FmbJXHCqLn...|Italian, Restaura...|Mentor-on-the-Lake|[10:0-1:0, 10:0-0...|      1|     41.70852|     -81.359556|       Marco's Pizza|      44060|          16|  4.0|   OH|\n",
      "|        4145 Erie St|[,,,,,,,,, True, ...|-K4gAv8_vjx8-2Bxk...|      Bakeries, Food|        Willoughby|[11:0-17:0,, 10:0...|      1|   41.6398599|    -81.4063963|          Baby Cakes|      44094|           7|  3.0|   OH|\n",
      "|    1455 16th Avenue|[,,,,,,, True,,, ...|A98xW4qb7vOTguggH...|Fitness & Instruc...|     Richmond Hill|[16:0-21:30, 16:0...|      1| 43.861502576| -79.3884991854|   Hot Yoga Wellness|    L4B 3G6|           4|  4.0|   ON|\n",
      "|4848 E Cactus Rd,...|[,,,,,,,,, True, ...|giC3pVVFxCRR89rAp...|Hair Stylists, Be...|        Scottsdale|[8:0-17:0, 0:0-0:...|      1|    33.600071|    -111.977371|          Knot Salon|      85254|           5|  5.0|   AZ|\n",
      "|1775 E Tropicana ...|[,, u'full_bar', ...|PZ-LZzSlhSe9utkQY...|Restaurants, Italian|         Las Vegas|                null|      0|   36.1000163|   -115.1285285|Carluccio's Tivol...|      89119|          40|  4.0|   NV|\n",
      "|                    |[,,,,,,,,, True,,...|nh_kQ16QAoXWwqZ05...|Event Planning & ...|         Las Vegas|[0:0-0:0, 0:0-0:0...|      1|   36.1165487|   -115.0881146|Myron Hensel Phot...|      89121|          21|  5.0|   NV|\n",
      "|445 King Street W...|[True,,,,,,,,,,, ...|zSpQmEBvRe3IhTUlM...|Trainers, Health ...|           Toronto|[6:0-22:0, 6:0-22...|      1|   43.6450415|    -79.3957986|  Totum Life Science|    M5V 1K4|          23|  4.0|   ON|\n",
      "+--------------------+--------------------+--------------------+--------------------+------------------+--------------------+-------+-------------+---------------+--------------------+-----------+------------+-----+-----+\n",
      "only showing top 20 rows\n",
      "\n"
     ]
    }
   ],
   "source": [
    "yelp_business= spark.read.json(\"s3://msin0166-spark-workshop/data/yelp_business_data/yelp_academic_dataset_business.json\")\n",
    "yelp_business.show()"
   ]
  },
  {
   "cell_type": "code",
   "execution_count": null,
   "metadata": {
    "id": "W0zTpcuLq2Ed"
   },
   "outputs": [],
   "source": [
    "#Register Yelp business as temporary table and query it\n",
    "yelp_business.createOrReplaceTempView(\"yelp_business\")"
   ]
  },
  {
   "cell_type": "code",
   "execution_count": null,
   "metadata": {
    "colab": {
     "base_uri": "https://localhost:8080/",
     "height": 121
    },
    "id": "v1Y59gknrmX8",
    "outputId": "e2174a68-b628-45c1-c1f7-0b86a4ed1e95"
   },
   "outputs": [
    {
     "name": "stdout",
     "output_type": "stream",
     "text": [
      "+--------+\n",
      "|count(1)|\n",
      "+--------+\n",
      "|   29370|\n",
      "+--------+\n",
      "\n"
     ]
    }
   ],
   "source": [
    "#How many businesses from Las Vegas are listed on our JSON based Yelp business dataset?\n",
    "spark.sql(\"SELECT COUNT(*) FROM (SELECT * FROM yelp_business WHERE city==\\'Las Vegas\\')\").show()"
   ]
  },
  {
   "cell_type": "markdown",
   "metadata": {
    "id": "Qn6_OostTtAq"
   },
   "source": [
    "## Read Parquet\n",
    "**Note**: This is based on the user data dataset provided on Moodle"
   ]
  },
  {
   "cell_type": "code",
   "execution_count": null,
   "metadata": {
    "id": "a8euHnrITvr6"
   },
   "outputs": [],
   "source": [
    "users_in_parquet = spark.read.parquet(\"s3://msin0166-spark-workshop/data/userdata2.parquet\")"
   ]
  },
  {
   "cell_type": "code",
   "execution_count": null,
   "metadata": {
    "colab": {
     "base_uri": "https://localhost:8080/",
     "height": 489
    },
    "id": "bVoHX4sUt_7o",
    "outputId": "6997f5aa-4beb-41bc-ad9f-c5a681d4e7a0"
   },
   "outputs": [
    {
     "name": "stdout",
     "output_type": "stream",
     "text": [
      "+-------------------+----+----------+---------+--------------------+------+---------------+----------------+--------------------+----------+---------+--------------------+--------+\n",
      "|  registration_dttm|  id|first_name|last_name|               email|gender|     ip_address|              cc|             country| birthdate|   salary|               title|comments|\n",
      "+-------------------+----+----------+---------+--------------------+------+---------------+----------------+--------------------+----------+---------+--------------------+--------+\n",
      "|2016-02-03 13:36:39|   1|    Donald|    Lewis|dlewis0@clickbank...|  Male|  102.22.124.20|                |           Indonesia|  7/9/1972|140249.37|Senior Financial ...|        |\n",
      "|2016-02-03 00:22:28|   2|    Walter|  Collins|wcollins1@bloglov...|  Male|   247.28.26.93|3587726269478025|               China|          |     null|                    |        |\n",
      "|2016-02-03 18:29:04|   3|  Michelle|Henderson|mhenderson2@geoci...|Female| 193.68.146.150|                |              France| 1/15/1964|236219.26|             Teacher|        |\n",
      "|2016-02-03 13:42:19|   4|      Lori|   Hudson| lhudson3@dion.ne.jp|      |  34.252.168.48|3568840151595649|              Russia| 4/22/1988|     null|Nuclear Power Eng...|        |\n",
      "|2016-02-03 00:15:29|   5|    Howard|   Miller|   hmiller4@fema.gov|  Male|103.193.150.230|3583473261055014|              France|11/26/1998| 50210.02|       Senior Editor|        |\n",
      "|2016-02-03 10:49:07|   6|   Frances|    Adams|fadams5@123-reg.c...|Female| 106.196.106.93|                |              Russia| 3/27/1997| 82175.77| Account Coordinator|        |\n",
      "|2016-02-03 19:44:12|null|    Steven|   Hanson|  shanson6@cisco.com|  Male|234.130.172.185|3550842607768119|           Indonesia|          |129582.61|                    |        |\n",
      "|2016-02-03 08:11:34|   8|     Louis|  Simmons|   lsimmons7@icio.us|  Male|    18.69.80.15|                |               China|  6/1/1992| 90744.86|    Product Engineer|        |\n",
      "|2016-02-03 23:56:51|   9|     Keith|   Parker|kparker8@amazonaw...|  Male|  108.205.40.64|                |          Guadeloupe|12/30/1992|  60618.9|        Developer II|        |\n",
      "|2016-02-03 07:47:29|  10|     Wanda|   Walker|wwalker9@latimes.com|Female|  246.214.98.78|3539421569669478|            Portugal|          |137664.53|                    |        |\n",
      "|2016-02-03 16:39:23|  11|   Kathryn|   Weaver|kweavera@bizjourn...|Female| 157.237.161.75| 201425019338900|              Sweden|          |117572.65|                    |        |\n",
      "|2016-02-03 06:50:56|  12|    Philip|     Ward| pwardb@sakura.ne.jp|  Male|  77.140.225.69| 201508031789224|              Greece|  9/3/1984|238925.79|Human Resources M...|        |\n",
      "|2016-02-03 23:36:58|  13|    Evelyn|   Harvey|   eharveyc@time.com|      |  254.174.154.7|3539535868968594|               China| 5/15/1979|     null|Software Engineer...|        |\n",
      "|2016-02-03 07:33:24|  14|    Andrea|     Lane|       alaned@gov.uk|Female|192.253.116.192|5100174455306952|           Indonesia| 1/19/1989|166778.42|            Operator|        |\n",
      "|2016-02-03 13:45:04|  15|     Bobby|  Vasquez|  bvasqueze@furl.net|  Male|  126.60.18.195|3581051861650673|         Philippines| 1/25/1975|138184.83|       Senior Editor|        |\n",
      "|2016-02-03 21:58:10|  16|   Kenneth|   Gibson|kgibsonf@soundclo...|  Male| 91.153.142.170|5389947292571488|                Peru| 11/3/1975| 98614.53|  Environmental Tech|        |\n",
      "|2016-02-03 16:22:34|  17|     Emily|     Hill|    ehillg@house.gov|Female|109.107.174.205|                |Palestinian Terri...| 5/18/1956|218781.48| Executive Secretary|        |\n",
      "|2016-02-03 23:20:49|  18|     Kelly|   Fowler|   kfowlerh@dell.com|Female|  147.58.88.116|3551741291105936|              Greece| 6/11/1975|117249.56|Systems Administr...|        |\n",
      "|2016-02-03 18:28:46|  19|     Diana|   Howell| dhowelli@sphinn.com|Female|   21.240.75.42|4026635872860296|                Iran|  7/7/1993|174844.52|             Teacher|        |\n",
      "|2016-02-03 02:23:26|  20|    Johnny|  Collins| jcollinsj@google.ca|  Male| 38.173.129.250| 372301677387203|         Afghanistan| 7/28/1987|155908.69|       Social Worker|        |\n",
      "+-------------------+----+----------+---------+--------------------+------+---------------+----------------+--------------------+----------+---------+--------------------+--------+\n",
      "only showing top 20 rows\n",
      "\n"
     ]
    }
   ],
   "source": [
    "users_in_parquet.show()"
   ]
  },
  {
   "cell_type": "code",
   "execution_count": null,
   "metadata": {
    "colab": {
     "base_uri": "https://localhost:8080/",
     "height": 489
    },
    "id": "WKT1vCufuGHV",
    "outputId": "0b3a7cb5-3cee-4790-e9c7-b920f96dd7e0"
   },
   "outputs": [
    {
     "name": "stdout",
     "output_type": "stream",
     "text": [
      "+-------------------+---+----------+----------+--------------------+------+---------------+------------------+-------+----------+---------+--------------------+--------------------+\n",
      "|  registration_dttm| id|first_name| last_name|               email|gender|     ip_address|                cc|country| birthdate|   salary|               title|            comments|\n",
      "+-------------------+---+----------+----------+--------------------+------+---------------+------------------+-------+----------+---------+--------------------+--------------------+\n",
      "|2016-02-03 00:22:28|  2|    Walter|   Collins|wcollins1@bloglov...|  Male|   247.28.26.93|  3587726269478025|  China|          |     null|                    |                    |\n",
      "|2016-02-03 08:11:34|  8|     Louis|   Simmons|   lsimmons7@icio.us|  Male|    18.69.80.15|                  |  China|  6/1/1992| 90744.86|    Product Engineer|                    |\n",
      "|2016-02-03 23:36:58| 13|    Evelyn|    Harvey|   eharveyc@time.com|      |  254.174.154.7|  3539535868968594|  China| 5/15/1979|     null|Software Engineer...|                    |\n",
      "|2016-02-03 00:07:04| 26|    Sandra|   Coleman|scolemanp@blogger...|Female| 230.159.39.252|  3555708337891155|  China|  8/7/1971|113688.11|            VP Sales|                    |\n",
      "|2016-02-03 14:17:16| 28| Elizabeth|    Warren| ewarrenr@flavors.me|Female|  213.8.204.211| 67099385430526802|  China| 6/14/1996|119515.12|    Media Manager II|                    |\n",
      "|2016-02-03 06:02:40| 42|      Fred|  Marshall|fmarshall15@ifeng...|      | 160.92.143.233|  6374102245574313|  China|12/18/1984|     null| Structural Engineer|                    |\n",
      "|2016-02-03 07:08:52| 46|   Gregory|     Jones|  gjones19@jimdo.com|  Male|  132.88.44.128|    30372001476487|  China|12/31/1972|240265.01|     Design Engineer|                    |\n",
      "|2016-02-03 22:20:33| 55|     Nancy|Montgomery|nmontgomery1i@fre...|Female|   11.235.20.56|  3586137339728301|  China|          |128631.29|                    |               $1.00|\n",
      "|2016-02-03 00:14:12| 61|      Sean|    Greene|    sgreene1o@goo.gl|  Male|  71.195.178.59|  5602246313163081|  China| 2/20/1991| 70656.63|Sales Representative|                    |\n",
      "|2016-02-03 19:22:09| 66|     Norma|      Dunn|      ndunn1t@pen.io|Female| 250.241.78.109|                  |  China| 7/20/1967|  77739.6|      Web Designer I|                    |\n",
      "|2016-02-03 07:06:55| 78|   William|   Mendoza|wmendoza25@prlog.org|  Male|   71.28.136.31|  3580069171786970|  China| 3/20/1967| 81965.94|    Media Manager II|\"ثم نفس سقطت وبال...|\n",
      "|2016-02-03 21:45:58| 84|   Anthony|    Palmer|apalmer2b@uol.com.br|      | 25.228.124.126|  3561410660537354|  China|  7/4/1974|     null|Human Resources A...|                    |\n",
      "|2016-02-03 07:10:21| 89|   Heather|      Diaz|   hdiaz2g@tmall.com|Female|220.248.165.145|502080553226612964|  China| 7/26/1966|280714.33|        Food Chemist|                    |\n",
      "|2016-02-03 23:32:20| 91|    Donald|    Murphy|  dmurphy2i@fema.gov|  Male|127.141.234.199|                  |  China| 4/10/1977| 76449.81|     Cost Accountant|                    |\n",
      "|2016-02-03 01:14:15| 94|      Carl|    Oliver|coliver2l@cafepre...|  Male|  199.184.71.24|                  |  China| 6/26/1967|215279.38|            Operator|   (╯°□°）╯︵ ┻━┻)  |\n",
      "|2016-02-03 07:39:44|104|    Justin|  Stephens| jstephens2v@msu.edu|  Male| 158.63.150.239|                  |  China| 7/27/1980|124569.44| Structural Engineer|                    |\n",
      "|2016-02-03 20:48:18|122|   Kathryn|   Stevens|kstevens3d@weibo.com|Female| 121.215.60.247|                  |  China|  2/7/1998|200892.56|Accounting Assist...|                    |\n",
      "|2016-02-03 08:50:46|125|   Rebecca|   Elliott|relliott3g@diigo.com|      | 84.236.188.212|  6384410944097587|  China|12/23/1969|     null|       Senior Editor|                    |\n",
      "|2016-02-03 00:50:58|129|     Paula|    Oliver|poliver3k@barnesa...|Female| 108.49.104.111|  3551237510305944|  China|          |149572.54|                    |                    |\n",
      "|2016-02-03 13:31:06|131|    George|   Jenkins|gjenkins3m@thetim...|  Male| 52.156.166.198|                  |  China| 10/3/1987| 40544.17|Computer Systems ...|              ⁦test⁧|\n",
      "+-------------------+---+----------+----------+--------------------+------+---------------+------------------+-------+----------+---------+--------------------+--------------------+\n",
      "only showing top 20 rows\n",
      "\n"
     ]
    }
   ],
   "source": [
    "users_in_parquet.registerTempTable(\"users_2\")\n",
    "spark.sql(\"SELECT * FROM users_2 WHERE country==\\'China\\'\").show()"
   ]
  },
  {
   "cell_type": "markdown",
   "metadata": {
    "id": "FEu1rn0HT5OS"
   },
   "source": [
    "## Select multiple columns with PySpark vs SparkSQL query"
   ]
  },
  {
   "cell_type": "code",
   "execution_count": null,
   "metadata": {
    "colab": {
     "base_uri": "https://localhost:8080/",
     "height": 469
    },
    "id": "6bReMTfTT5Xo",
    "outputId": "72f3812b-becc-44aa-e783-fa403acc8ef2"
   },
   "outputs": [
    {
     "name": "stdout",
     "output_type": "stream",
     "text": [
      "+----------+---------+\n",
      "|first_name|last_name|\n",
      "+----------+---------+\n",
      "|    Donald|    Lewis|\n",
      "|    Walter|  Collins|\n",
      "|  Michelle|Henderson|\n",
      "|      Lori|   Hudson|\n",
      "|    Howard|   Miller|\n",
      "|   Frances|    Adams|\n",
      "|    Steven|   Hanson|\n",
      "|     Louis|  Simmons|\n",
      "|     Keith|   Parker|\n",
      "|     Wanda|   Walker|\n",
      "|   Kathryn|   Weaver|\n",
      "|    Philip|     Ward|\n",
      "|    Evelyn|   Harvey|\n",
      "|    Andrea|     Lane|\n",
      "|     Bobby|  Vasquez|\n",
      "|   Kenneth|   Gibson|\n",
      "|     Emily|     Hill|\n",
      "|     Kelly|   Fowler|\n",
      "|     Diana|   Howell|\n",
      "|    Johnny|  Collins|\n",
      "+----------+---------+\n",
      "only showing top 20 rows\n",
      "\n"
     ]
    }
   ],
   "source": [
    "# Select columns using PySpark\n",
    " users_in_parquet.select(\"first_name\",\"last_name\").show()"
   ]
  },
  {
   "cell_type": "code",
   "execution_count": null,
   "metadata": {
    "colab": {
     "base_uri": "https://localhost:8080/",
     "height": 451
    },
    "id": "iXx9ATqgWgDN",
    "outputId": "24da54b3-4965-4a83-baec-1d65a0f6b40b"
   },
   "outputs": [
    {
     "name": "stdout",
     "output_type": "stream",
     "text": [
      "+----------+---------+\n",
      "|first_name|last_name|\n",
      "+----------+---------+\n",
      "|    Donald|    Lewis|\n",
      "|    Walter|  Collins|\n",
      "|  Michelle|Henderson|\n",
      "|      Lori|   Hudson|\n",
      "|    Howard|   Miller|\n",
      "|   Frances|    Adams|\n",
      "|    Steven|   Hanson|\n",
      "|     Louis|  Simmons|\n",
      "|     Keith|   Parker|\n",
      "|     Wanda|   Walker|\n",
      "|   Kathryn|   Weaver|\n",
      "|    Philip|     Ward|\n",
      "|    Evelyn|   Harvey|\n",
      "|    Andrea|     Lane|\n",
      "|     Bobby|  Vasquez|\n",
      "|   Kenneth|   Gibson|\n",
      "|     Emily|     Hill|\n",
      "|     Kelly|   Fowler|\n",
      "|     Diana|   Howell|\n",
      "|    Johnny|  Collins|\n",
      "+----------+---------+\n",
      "\n"
     ]
    }
   ],
   "source": [
    "# Select columns using Spark SQL\n",
    "spark.sql(\"SELECT first_name,last_name FROM users_2 LIMIT 20\").show()"
   ]
  },
  {
   "cell_type": "code",
   "execution_count": null,
   "metadata": {
    "colab": {
     "base_uri": "https://localhost:8080/",
     "height": 469
    },
    "id": "RyI8pt5lVp6l",
    "outputId": "c3dd62f3-312b-45d0-dd3d-33d59189782b"
   },
   "outputs": [
    {
     "name": "stdout",
     "output_type": "stream",
     "text": [
      "+--------------------+--------------------+-------+--------+\n",
      "|  start_station_name|    end_station_name|bike_id|duration|\n",
      "+--------------------+--------------------+-------+--------+\n",
      "|South Van Ness at...|South Van Ness at...|    520|      63|\n",
      "|  San Jose City Hall|  San Jose City Hall|    661|      70|\n",
      "|Mountain View Cit...|Mountain View Cit...|     48|      71|\n",
      "|  San Jose City Hall|  San Jose City Hall|     26|      77|\n",
      "|South Van Ness at...|      Market at 10th|    319|      83|\n",
      "| Golden Gate at Polk| Golden Gate at Polk|    527|     103|\n",
      "|Santa Clara at Al...|    Adobe on Almaden|    679|     109|\n",
      "| San Salvador at 1st| San Salvador at 1st|    687|     111|\n",
      "|South Van Ness at...|South Van Ness at...|    553|     113|\n",
      "|  San Jose City Hall|         MLK Library|    107|     114|\n",
      "|     Spear at Folsom|Embarcadero at Br...|    368|     125|\n",
      "|    San Pedro Square|Santa Clara at Al...|     26|     126|\n",
      "|Mountain View Cal...|Mountain View Cal...|    140|     129|\n",
      "|   2nd at South Park|   2nd at South Park|    371|     130|\n",
      "|     Clay at Battery|     Beale at Market|    503|     134|\n",
      "|     Post at Kearney|     Post at Kearney|    408|     138|\n",
      "|  San Jose City Hall|  San Jose City Hall|     26|     141|\n",
      "|      Market at 10th|      Market at 10th|    319|     142|\n",
      "|   Steuart at Market|Harry Bridges Pla...|    564|     142|\n",
      "|  Powell Street BART|       Market at 4th|    574|     144|\n",
      "+--------------------+--------------------+-------+--------+\n",
      "only showing top 20 rows\n",
      "\n"
     ]
    }
   ],
   "source": [
    "# Select columns using PySpark\n",
    " subscribers.select(\"start_station_name\",\"end_station_name\",\"bike_id\",\"duration\").show()"
   ]
  },
  {
   "cell_type": "code",
   "execution_count": null,
   "metadata": {
    "colab": {
     "base_uri": "https://localhost:8080/",
     "height": 451
    },
    "id": "SuyoyXamum2x",
    "outputId": "5c6c780a-e7d7-43a5-e842-8ab277cd89c6"
   },
   "outputs": [
    {
     "name": "stdout",
     "output_type": "stream",
     "text": [
      "+--------------------+--------------------+-------+--------+\n",
      "|  start_station_name|    end_station_name|bike_id|duration|\n",
      "+--------------------+--------------------+-------+--------+\n",
      "|South Van Ness at...|South Van Ness at...|    520|      63|\n",
      "|  San Jose City Hall|  San Jose City Hall|    661|      70|\n",
      "|Mountain View Cit...|Mountain View Cit...|     48|      71|\n",
      "|  San Jose City Hall|  San Jose City Hall|     26|      77|\n",
      "|South Van Ness at...|      Market at 10th|    319|      83|\n",
      "| Golden Gate at Polk| Golden Gate at Polk|    527|     103|\n",
      "|Santa Clara at Al...|    Adobe on Almaden|    679|     109|\n",
      "| San Salvador at 1st| San Salvador at 1st|    687|     111|\n",
      "|South Van Ness at...|South Van Ness at...|    553|     113|\n",
      "|  San Jose City Hall|         MLK Library|    107|     114|\n",
      "|     Spear at Folsom|Embarcadero at Br...|    368|     125|\n",
      "|    San Pedro Square|Santa Clara at Al...|     26|     126|\n",
      "|Mountain View Cal...|Mountain View Cal...|    140|     129|\n",
      "|   2nd at South Park|   2nd at South Park|    371|     130|\n",
      "|     Clay at Battery|     Beale at Market|    503|     134|\n",
      "|     Post at Kearney|     Post at Kearney|    408|     138|\n",
      "|  San Jose City Hall|  San Jose City Hall|     26|     141|\n",
      "|      Market at 10th|      Market at 10th|    319|     142|\n",
      "|   Steuart at Market|Harry Bridges Pla...|    564|     142|\n",
      "|  Powell Street BART|       Market at 4th|    574|     144|\n",
      "+--------------------+--------------------+-------+--------+\n",
      "\n"
     ]
    }
   ],
   "source": [
    "# Select columns using Spark SQL\n",
    "spark.sql(\"SELECT start_station_name,end_station_name,bike_id,duration FROM subscribers LIMIT 20\").show()"
   ]
  },
  {
   "cell_type": "markdown",
   "metadata": {
    "id": "3F-5EyRgT5gT"
   },
   "source": [
    "## Filtering and groupping by"
   ]
  },
  {
   "cell_type": "code",
   "execution_count": null,
   "metadata": {
    "colab": {
     "base_uri": "https://localhost:8080/",
     "height": 489
    },
    "id": "ErGPrYhpT5pp",
    "outputId": "9fc9f108-7813-4084-8153-f0b1193d8305"
   },
   "outputs": [
    {
     "name": "stdout",
     "output_type": "stream",
     "text": [
      "+-----+--------+---------------+--------------------+----------------+---------------+--------------------+--------------+-------+-----------------+--------+\n",
      "|   id|duration|     start_date|  start_station_name|start_station_id|       end_date|    end_station_name|end_station_id|bike_id|subscription_type|zip_code|\n",
      "+-----+--------+---------------+--------------------+----------------+---------------+--------------------+--------------+-------+-----------------+--------+\n",
      "| 4576|      63|8/29/2013 14:13|South Van Ness at...|              66|8/29/2013 14:14|South Van Ness at...|            66|    520|       Subscriber|   94127|\n",
      "| 4607|      70|8/29/2013 14:42|  San Jose City Hall|              10|8/29/2013 14:43|  San Jose City Hall|            10|    661|       Subscriber|   95138|\n",
      "| 4130|      71|8/29/2013 10:16|Mountain View Cit...|              27|8/29/2013 10:17|Mountain View Cit...|            27|     48|       Subscriber|   97214|\n",
      "| 4251|      77|8/29/2013 11:29|  San Jose City Hall|              10|8/29/2013 11:30|  San Jose City Hall|            10|     26|       Subscriber|   95060|\n",
      "| 4299|      83|8/29/2013 12:02|South Van Ness at...|              66|8/29/2013 12:04|      Market at 10th|            67|    319|       Subscriber|   94103|\n",
      "| 6115|      69|8/30/2013 16:30|       2nd at Folsom|              62|8/30/2013 16:31|       2nd at Folsom|            62|    633|       Subscriber|   94107|\n",
      "| 5349|      76|8/30/2013 10:56|  San Jose City Hall|              10|8/30/2013 10:57|         MLK Library|            11|     28|       Subscriber|   95112|\n",
      "| 5314|      94|8/30/2013 10:44|      Market at 10th|              67|8/30/2013 10:46|South Van Ness at...|            66|    598|       Subscriber|   94703|\n",
      "| 7250|      68|8/31/2013 16:53|University and Em...|              35|8/31/2013 16:54|University and Em...|            35|    100|       Subscriber|   97214|\n",
      "| 7226|      79|8/31/2013 16:39|Harry Bridges Pla...|              50|8/31/2013 16:40|Harry Bridges Pla...|            50|    417|       Subscriber|   94041|\n",
      "| 8731|      80| 9/2/2013 11:53|Temporary Transba...|              55| 9/2/2013 11:54|Temporary Transba...|            55|    291|       Subscriber|   94111|\n",
      "| 8968|      61| 9/2/2013 14:25|Powell at Post (U...|              71| 9/2/2013 14:26|Powell at Post (U...|            71|    434|       Subscriber|   94108|\n",
      "| 9380|      89|  9/3/2013 6:34|Embarcadero at Sa...|              60|  9/3/2013 6:36|Embarcadero at Sa...|            60|    513|       Subscriber|   94111|\n",
      "| 9402|      97|  9/3/2013 7:40|Harry Bridges Pla...|              50|  9/3/2013 7:41|Harry Bridges Pla...|            50|    528|       Subscriber|   94510|\n",
      "| 9436|      92|  9/3/2013 8:30|           Japantown|               9|  9/3/2013 8:32|           Japantown|             9|    101|       Subscriber|   95112|\n",
      "| 9451|      88|  9/3/2013 8:48|Embarcadero at Fo...|              51|  9/3/2013 8:50|Embarcadero at Fo...|            51|    381|       Subscriber|   94602|\n",
      "| 9463|      85|  9/3/2013 9:01|California Ave Ca...|              36|  9/3/2013 9:02|California Ave Ca...|            36|    168|       Subscriber|   94306|\n",
      "| 9564|      91| 9/3/2013 11:13|South Van Ness at...|              66| 9/3/2013 11:14|South Van Ness at...|            66|    274|       Subscriber|   94043|\n",
      "|10053|      94| 9/3/2013 17:33|         MLK Library|              11| 9/3/2013 17:34|         MLK Library|            11|     86|       Subscriber|   95112|\n",
      "|10093|      67| 9/3/2013 18:06|South Van Ness at...|              66| 9/3/2013 18:07|South Van Ness at...|            66|    610|       Subscriber|   94117|\n",
      "+-----+--------+---------------+--------------------+----------------+---------------+--------------------+--------------+-------+-----------------+--------+\n",
      "only showing top 20 rows\n",
      "\n"
     ]
    }
   ],
   "source": [
    "# Filter data using PySpark\n",
    "subscribers.filter((subscribers.duration>60) & (subscribers.duration<=100)).show()"
   ]
  },
  {
   "cell_type": "code",
   "execution_count": null,
   "metadata": {
    "colab": {
     "base_uri": "https://localhost:8080/",
     "height": 489
    },
    "id": "3oD0KlEuXwk9",
    "outputId": "9f7d94a5-ace7-4740-f699-40a1fc0b1f7b"
   },
   "outputs": [
    {
     "name": "stdout",
     "output_type": "stream",
     "text": [
      "+-----+--------+---------------+--------------------+----------------+---------------+--------------------+--------------+-------+-----------------+--------+\n",
      "|   id|duration|     start_date|  start_station_name|start_station_id|       end_date|    end_station_name|end_station_id|bike_id|subscription_type|zip_code|\n",
      "+-----+--------+---------------+--------------------+----------------+---------------+--------------------+--------------+-------+-----------------+--------+\n",
      "| 4576|      63|8/29/2013 14:13|South Van Ness at...|              66|8/29/2013 14:14|South Van Ness at...|            66|    520|       Subscriber|   94127|\n",
      "| 4607|      70|8/29/2013 14:42|  San Jose City Hall|              10|8/29/2013 14:43|  San Jose City Hall|            10|    661|       Subscriber|   95138|\n",
      "| 4130|      71|8/29/2013 10:16|Mountain View Cit...|              27|8/29/2013 10:17|Mountain View Cit...|            27|     48|       Subscriber|   97214|\n",
      "| 4251|      77|8/29/2013 11:29|  San Jose City Hall|              10|8/29/2013 11:30|  San Jose City Hall|            10|     26|       Subscriber|   95060|\n",
      "| 4299|      83|8/29/2013 12:02|South Van Ness at...|              66|8/29/2013 12:04|      Market at 10th|            67|    319|       Subscriber|   94103|\n",
      "| 6115|      69|8/30/2013 16:30|       2nd at Folsom|              62|8/30/2013 16:31|       2nd at Folsom|            62|    633|       Subscriber|   94107|\n",
      "| 5349|      76|8/30/2013 10:56|  San Jose City Hall|              10|8/30/2013 10:57|         MLK Library|            11|     28|       Subscriber|   95112|\n",
      "| 5314|      94|8/30/2013 10:44|      Market at 10th|              67|8/30/2013 10:46|South Van Ness at...|            66|    598|       Subscriber|   94703|\n",
      "| 7250|      68|8/31/2013 16:53|University and Em...|              35|8/31/2013 16:54|University and Em...|            35|    100|       Subscriber|   97214|\n",
      "| 7226|      79|8/31/2013 16:39|Harry Bridges Pla...|              50|8/31/2013 16:40|Harry Bridges Pla...|            50|    417|       Subscriber|   94041|\n",
      "| 8731|      80| 9/2/2013 11:53|Temporary Transba...|              55| 9/2/2013 11:54|Temporary Transba...|            55|    291|       Subscriber|   94111|\n",
      "| 8968|      61| 9/2/2013 14:25|Powell at Post (U...|              71| 9/2/2013 14:26|Powell at Post (U...|            71|    434|       Subscriber|   94108|\n",
      "| 9380|      89|  9/3/2013 6:34|Embarcadero at Sa...|              60|  9/3/2013 6:36|Embarcadero at Sa...|            60|    513|       Subscriber|   94111|\n",
      "| 9402|      97|  9/3/2013 7:40|Harry Bridges Pla...|              50|  9/3/2013 7:41|Harry Bridges Pla...|            50|    528|       Subscriber|   94510|\n",
      "| 9436|      92|  9/3/2013 8:30|           Japantown|               9|  9/3/2013 8:32|           Japantown|             9|    101|       Subscriber|   95112|\n",
      "| 9451|      88|  9/3/2013 8:48|Embarcadero at Fo...|              51|  9/3/2013 8:50|Embarcadero at Fo...|            51|    381|       Subscriber|   94602|\n",
      "| 9463|      85|  9/3/2013 9:01|California Ave Ca...|              36|  9/3/2013 9:02|California Ave Ca...|            36|    168|       Subscriber|   94306|\n",
      "| 9564|      91| 9/3/2013 11:13|South Van Ness at...|              66| 9/3/2013 11:14|South Van Ness at...|            66|    274|       Subscriber|   94043|\n",
      "|10053|      94| 9/3/2013 17:33|         MLK Library|              11| 9/3/2013 17:34|         MLK Library|            11|     86|       Subscriber|   95112|\n",
      "|10093|      67| 9/3/2013 18:06|South Van Ness at...|              66| 9/3/2013 18:07|South Van Ness at...|            66|    610|       Subscriber|   94117|\n",
      "+-----+--------+---------------+--------------------+----------------+---------------+--------------------+--------------+-------+-----------------+--------+\n",
      "only showing top 20 rows\n",
      "\n"
     ]
    }
   ],
   "source": [
    "# Filter data using Spark SQL\n",
    "spark.sql(\"SELECT * FROM subscribers WHERE duration >60 AND duration<=100\").show()"
   ]
  },
  {
   "cell_type": "code",
   "execution_count": null,
   "metadata": {
    "colab": {
     "base_uri": "https://localhost:8080/",
     "height": 469
    },
    "id": "jthmcHYNUCZf",
    "outputId": "34061ecf-18f4-40b8-ed59-69be46cca969"
   },
   "outputs": [
    {
     "name": "stdout",
     "output_type": "stream",
     "text": [
      "+-------+-------------+\n",
      "|bike_id|sum(duration)|\n",
      "+-------+-------------+\n",
      "|    675|     101382.0|\n",
      "|    467|     476556.0|\n",
      "|    296|     156101.0|\n",
      "|    691|      75062.0|\n",
      "|    125|      39139.0|\n",
      "|    451|     815995.0|\n",
      "|    666|      54649.0|\n",
      "|    124|      88313.0|\n",
      "|    447|     923226.0|\n",
      "|    591|     830507.0|\n",
      "|     51|      88612.0|\n",
      "|    574|    1034693.0|\n",
      "|    613|     914909.0|\n",
      "|    307|      82875.0|\n",
      "|    475|     684313.0|\n",
      "|    544|     797837.0|\n",
      "|    334|     934758.0|\n",
      "|    577|     784963.0|\n",
      "|    581|     906101.0|\n",
      "|    205|      86722.0|\n",
      "+-------+-------------+\n",
      "only showing top 20 rows\n",
      "\n"
     ]
    }
   ],
   "source": [
    "# Group by using PySpark\n",
    "#We have to first convert the duration to double type\n",
    "from pyspark.sql.types import DoubleType\n",
    "subscribers = subscribers.withColumn(\"duration\", subscribers[\"duration\"].cast(DoubleType()))\n",
    "subscribers.groupBy(\"bike_id\").sum(\"duration\").show()\n"
   ]
  },
  {
   "cell_type": "code",
   "execution_count": null,
   "metadata": {
    "colab": {
     "base_uri": "https://localhost:8080/",
     "height": 469
    },
    "id": "PdF0ZYZju0xU",
    "outputId": "2a815b75-1e0c-416c-df77-50c1045d1d0b"
   },
   "outputs": [
    {
     "name": "stdout",
     "output_type": "stream",
     "text": [
      "+-------+---------+\n",
      "|bike_id| duration|\n",
      "+-------+---------+\n",
      "|    675| 101382.0|\n",
      "|    467| 476556.0|\n",
      "|    296| 156101.0|\n",
      "|    691|  75062.0|\n",
      "|    125|  39139.0|\n",
      "|    451| 815995.0|\n",
      "|    666|  54649.0|\n",
      "|    124|  88313.0|\n",
      "|    447| 923226.0|\n",
      "|    591| 830507.0|\n",
      "|     51|  88612.0|\n",
      "|    574|1034693.0|\n",
      "|    613| 914909.0|\n",
      "|    307|  82875.0|\n",
      "|    475| 684313.0|\n",
      "|    544| 797837.0|\n",
      "|    334| 934758.0|\n",
      "|    577| 784963.0|\n",
      "|    581| 906101.0|\n",
      "|    205|  86722.0|\n",
      "+-------+---------+\n",
      "only showing top 20 rows\n",
      "\n"
     ]
    }
   ],
   "source": [
    "# Group by using Spark SQL\n",
    "spark.sql(\"SELECT bike_id, SUM(duration) AS duration FROM subscribers GROUP BY bike_id\").show()"
   ]
  },
  {
   "cell_type": "markdown",
   "metadata": {
    "id": "MJQORXi7T5wU"
   },
   "source": [
    "## Joining two tables"
   ]
  },
  {
   "cell_type": "code",
   "execution_count": null,
   "metadata": {
    "colab": {
     "base_uri": "https://localhost:8080/",
     "height": 469
    },
    "id": "B1BVNfLSZyDM",
    "outputId": "7f2cd57b-105f-44f7-bc1d-ccc73a1611eb"
   },
   "outputs": [
    {
     "name": "stdout",
     "output_type": "stream",
     "text": [
      "+-------+--------+\n",
      "|bike_id|duration|\n",
      "+-------+--------+\n",
      "|    520|      63|\n",
      "|    661|      70|\n",
      "|     48|      71|\n",
      "|     26|      77|\n",
      "|    319|      83|\n",
      "|    527|     103|\n",
      "|    679|     109|\n",
      "|    687|     111|\n",
      "|    553|     113|\n",
      "|    107|     114|\n",
      "|    368|     125|\n",
      "|     26|     126|\n",
      "|    140|     129|\n",
      "|    371|     130|\n",
      "|    503|     134|\n",
      "|    408|     138|\n",
      "|     26|     141|\n",
      "|    319|     142|\n",
      "|    564|     142|\n",
      "|    574|     144|\n",
      "+-------+--------+\n",
      "only showing top 20 rows\n",
      "\n"
     ]
    }
   ],
   "source": [
    "#we will first create two tables to be joined \n",
    "bike_and_duration=spark.sql(\"SELECT bike_id,duration FROM subscribers WHERE bike_id <5000\")\n",
    "bike_and_duration.show()"
   ]
  },
  {
   "cell_type": "code",
   "execution_count": null,
   "metadata": {
    "colab": {
     "base_uri": "https://localhost:8080/",
     "height": 469
    },
    "id": "9UBD6o3paUSo",
    "outputId": "c62d3fe2-5290-436d-8e94-190deb1eea1a"
   },
   "outputs": [
    {
     "name": "stdout",
     "output_type": "stream",
     "text": [
      "+-------+--------------------+--------------------+\n",
      "|bike_id|  start_station_name|    end_station_name|\n",
      "+-------+--------------------+--------------------+\n",
      "|    520|South Van Ness at...|South Van Ness at...|\n",
      "|    661|  San Jose City Hall|  San Jose City Hall|\n",
      "|     48|Mountain View Cit...|Mountain View Cit...|\n",
      "|     26|  San Jose City Hall|  San Jose City Hall|\n",
      "|    319|South Van Ness at...|      Market at 10th|\n",
      "|    527| Golden Gate at Polk| Golden Gate at Polk|\n",
      "|    679|Santa Clara at Al...|    Adobe on Almaden|\n",
      "|    687| San Salvador at 1st| San Salvador at 1st|\n",
      "|    553|South Van Ness at...|South Van Ness at...|\n",
      "|    107|  San Jose City Hall|         MLK Library|\n",
      "|    368|     Spear at Folsom|Embarcadero at Br...|\n",
      "|     26|    San Pedro Square|Santa Clara at Al...|\n",
      "|    140|Mountain View Cal...|Mountain View Cal...|\n",
      "|    371|   2nd at South Park|   2nd at South Park|\n",
      "|    503|     Clay at Battery|     Beale at Market|\n",
      "|    408|     Post at Kearney|     Post at Kearney|\n",
      "|     26|  San Jose City Hall|  San Jose City Hall|\n",
      "|    319|      Market at 10th|      Market at 10th|\n",
      "|    564|   Steuart at Market|Harry Bridges Pla...|\n",
      "|    574|  Powell Street BART|       Market at 4th|\n",
      "+-------+--------------------+--------------------+\n",
      "only showing top 20 rows\n",
      "\n"
     ]
    }
   ],
   "source": [
    "bike_and_stations=spark.sql(\"SELECT bike_id,start_station_name,end_station_name FROM subscribers WHERE bike_id <5000\")\n",
    "bike_and_stations.show()"
   ]
  },
  {
   "cell_type": "code",
   "execution_count": null,
   "metadata": {
    "colab": {
     "base_uri": "https://localhost:8080/",
     "height": 469
    },
    "id": "g-RCgtqJT55A",
    "outputId": "39fb1def-c498-4ed5-e034-8e52bf5fbeaf"
   },
   "outputs": [
    {
     "name": "stdout",
     "output_type": "stream",
     "text": [
      "+-------+--------+--------------------+--------------------+\n",
      "|bike_id|duration|  start_station_name|    end_station_name|\n",
      "+-------+--------+--------------------+--------------------+\n",
      "|    296|    1345|       Park at Olive|Palo Alto Caltrai...|\n",
      "|    296|    1345|Palo Alto Caltrai...|Palo Alto Caltrai...|\n",
      "|    296|    1345|Palo Alto Caltrai...|California Ave Ca...|\n",
      "|    296|    1345|California Ave Ca...|California Ave Ca...|\n",
      "|    296|    1345|Redwood City Medi...|San Mateo County ...|\n",
      "|    296|    1345|San Mateo County ...|Redwood City Medi...|\n",
      "|    296|    1345|   Franklin at Maple|   Franklin at Maple|\n",
      "|    296|    1345|   Franklin at Maple|Redwood City Calt...|\n",
      "|    296|    1345|Redwood City Calt...|Redwood City Publ...|\n",
      "|    296|    1345|San Jose Diridon ...| San Salvador at 1st|\n",
      "|    296|    1345|SJSU - San Salvad...|Paseo de San Antonio|\n",
      "|    296|    1345|Paseo de San Antonio|           Japantown|\n",
      "|    296|    1345|           Japantown|         MLK Library|\n",
      "|    296|    1345|Cowper at University|Palo Alto Caltrai...|\n",
      "|    296|    1345|Palo Alto Caltrai...|California Ave Ca...|\n",
      "|    296|    1345|California Ave Ca...|       Park at Olive|\n",
      "|    296|    1345|Castro Street and...|Mountain View Cal...|\n",
      "|    296|    1345|Mountain View Cal...|Castro Street and...|\n",
      "|    296|    1345|Evelyn Park and Ride|Mountain View Cal...|\n",
      "|    296|    1345|Evelyn Park and Ride|Mountain View Cal...|\n",
      "+-------+--------+--------------------+--------------------+\n",
      "only showing top 20 rows\n",
      "\n"
     ]
    }
   ],
   "source": [
    "#Join two tables using PySpark\n",
    "bike_and_duration.join(bike_and_stations,on='bike_id',how='left').show()\n"
   ]
  },
  {
   "cell_type": "code",
   "execution_count": null,
   "metadata": {
    "id": "1HcX6eYkUFqk"
   },
   "outputs": [],
   "source": [
    "#Join two tables using Spark SQL\n",
    "#Create views for each dataframe for further querying\n",
    "bike_and_duration.createTempView(\"bike_and_duration\")\n",
    "bike_and_stations.createTempView(\"bike_and_stations\") \n",
    "\n"
   ]
  },
  {
   "cell_type": "code",
   "execution_count": null,
   "metadata": {
    "colab": {
     "base_uri": "https://localhost:8080/",
     "height": 469
    },
    "id": "bwD6kC1cayxb",
    "outputId": "6fee7a9c-b0e8-4bf7-d6bc-ca75b6c185a1"
   },
   "outputs": [
    {
     "name": "stdout",
     "output_type": "stream",
     "text": [
      "+-------+--------+--------------------+--------------------+\n",
      "|bike_id|duration|  start_station_name|    end_station_name|\n",
      "+-------+--------+--------------------+--------------------+\n",
      "|    296|    1345|       Park at Olive|Palo Alto Caltrai...|\n",
      "|    296|    1345|Palo Alto Caltrai...|Palo Alto Caltrai...|\n",
      "|    296|    1345|Palo Alto Caltrai...|California Ave Ca...|\n",
      "|    296|    1345|California Ave Ca...|California Ave Ca...|\n",
      "|    296|    1345|Redwood City Medi...|San Mateo County ...|\n",
      "|    296|    1345|San Mateo County ...|Redwood City Medi...|\n",
      "|    296|    1345|   Franklin at Maple|   Franklin at Maple|\n",
      "|    296|    1345|   Franklin at Maple|Redwood City Calt...|\n",
      "|    296|    1345|Redwood City Calt...|Redwood City Publ...|\n",
      "|    296|    1345|San Jose Diridon ...| San Salvador at 1st|\n",
      "|    296|    1345|SJSU - San Salvad...|Paseo de San Antonio|\n",
      "|    296|    1345|Paseo de San Antonio|           Japantown|\n",
      "|    296|    1345|           Japantown|         MLK Library|\n",
      "|    296|    1345|Cowper at University|Palo Alto Caltrai...|\n",
      "|    296|    1345|Palo Alto Caltrai...|California Ave Ca...|\n",
      "|    296|    1345|California Ave Ca...|       Park at Olive|\n",
      "|    296|    1345|Castro Street and...|Mountain View Cal...|\n",
      "|    296|    1345|Mountain View Cal...|Castro Street and...|\n",
      "|    296|    1345|Evelyn Park and Ride|Mountain View Cal...|\n",
      "|    296|    1345|Evelyn Park and Ride|Mountain View Cal...|\n",
      "+-------+--------+--------------------+--------------------+\n",
      "only showing top 20 rows\n",
      "\n"
     ]
    }
   ],
   "source": [
    "spark.sql(\"SELECT bike_and_duration.bike_id, bike_and_duration.duration, bike_and_stations.start_station_name,bike_and_stations.end_station_name FROM bike_and_duration LEFT JOIN bike_and_stations ON bike_and_duration.bike_id==bike_and_stations.bike_id\").show()"
   ]
  },
  {
   "cell_type": "markdown",
   "metadata": {
    "id": "tIhhIJrRUJ_E"
   },
   "source": [
    "## Save to persistent tables\n",
    "\n",
    "DataFrames can also be saved as persistent tables into Hive metastore using the saveAsTable command. \n",
    "\n",
    "Unlike the createOrReplaceTempView command, saveAsTable will materialize the contents of the DataFrame and create a pointer to the data in the Hive metastore. \n",
    "\n",
    "Persistent tables will still exist even after your Spark program has restarted, as long as you maintain your connection to the same metastore. A DataFrame for a persistent table can be created by calling the table method on a SparkSession with the name of the table.\n",
    "\n",
    "Source: https://spark.apache.org/docs/latest/sql-data-sources-load-save-functions.html#saving-to-persistent-tables"
   ]
  },
  {
   "cell_type": "code",
   "execution_count": null,
   "metadata": {
    "id": "xMVPoIcAUKMD"
   },
   "outputs": [],
   "source": [
    "joined_table=spark.sql(\"SELECT bike_and_duration.bike_id, bike_and_duration.duration, bike_and_stations.start_station_name,bike_and_stations.end_station_name FROM bike_and_duration LEFT JOIN bike_and_stations ON bike_and_duration.bike_id==bike_and_stations.bike_id LIMIT 10\")"
   ]
  },
  {
   "cell_type": "code",
   "execution_count": null,
   "metadata": {
    "id": "b-DiY6_Cc0Xw"
   },
   "outputs": [],
   "source": [
    "#joined_table.write.parquet('bike_station_duration_joined_1.parquet').saveAsTable(\"bike_station_duration_joined_final\")\n",
    "joined_table.write.mode(\"append\").saveAsTable(\"bike_station_duration_table\")"
   ]
  },
  {
   "cell_type": "code",
   "execution_count": null,
   "metadata": {
    "colab": {
     "base_uri": "https://localhost:8080/",
     "height": 278
    },
    "id": "mrajdvORcJEe",
    "outputId": "2813d2ef-9b18-4998-83dd-64d615ee207d"
   },
   "outputs": [
    {
     "name": "stdout",
     "output_type": "stream",
     "text": [
      "+-------+--------+--------------------+--------------------+\n",
      "|bike_id|duration|  start_station_name|    end_station_name|\n",
      "+-------+--------+--------------------+--------------------+\n",
      "|    296|    1345|       Park at Olive|Palo Alto Caltrai...|\n",
      "|    296|    1345|Palo Alto Caltrai...|Palo Alto Caltrai...|\n",
      "|    296|    1345|Palo Alto Caltrai...|California Ave Ca...|\n",
      "|    296|    1345|California Ave Ca...|California Ave Ca...|\n",
      "|    296|    1345|Redwood City Medi...|San Mateo County ...|\n",
      "|    296|    1345|San Mateo County ...|Redwood City Medi...|\n",
      "|    296|    1345|   Franklin at Maple|   Franklin at Maple|\n",
      "|    296|    1345|   Franklin at Maple|Redwood City Calt...|\n",
      "|    296|    1345|Redwood City Calt...|Redwood City Publ...|\n",
      "|    296|    1345|San Jose Diridon ...| San Salvador at 1st|\n",
      "+-------+--------+--------------------+--------------------+\n",
      "\n"
     ]
    }
   ],
   "source": [
    "spark.sql(\"SELECT * FROM bike_station_duration_table LIMIT 10\").show()"
   ]
  },
  {
   "cell_type": "markdown",
   "metadata": {
    "id": "6-xWSDXNUKUJ"
   },
   "source": [
    "## Caching data in memory\n",
    "\n",
    "For more details, please read the documentation: https://spark.apache.org/docs/latest/sql-performance-tuning.html"
   ]
  },
  {
   "cell_type": "code",
   "execution_count": null,
   "metadata": {
    "colab": {
     "base_uri": "https://localhost:8080/",
     "height": 489
    },
    "id": "J_xjMjC0esbc",
    "outputId": "c1d94c64-adb7-4c8c-ce4c-f432954f99c6"
   },
   "outputs": [
    {
     "name": "stdout",
     "output_type": "stream",
     "text": [
      "+----+--------+---------------+--------------------+----------------+---------------+--------------------+--------------+-------+-----------------+--------+\n",
      "|  id|duration|     start_date|  start_station_name|start_station_id|       end_date|    end_station_name|end_station_id|bike_id|subscription_type|zip_code|\n",
      "+----+--------+---------------+--------------------+----------------+---------------+--------------------+--------------+-------+-----------------+--------+\n",
      "|4576|      63|8/29/2013 14:13|South Van Ness at...|              66|8/29/2013 14:14|South Van Ness at...|            66|    520|       Subscriber|   94127|\n",
      "|4607|      70|8/29/2013 14:42|  San Jose City Hall|              10|8/29/2013 14:43|  San Jose City Hall|            10|    661|       Subscriber|   95138|\n",
      "|4130|      71|8/29/2013 10:16|Mountain View Cit...|              27|8/29/2013 10:17|Mountain View Cit...|            27|     48|       Subscriber|   97214|\n",
      "|4251|      77|8/29/2013 11:29|  San Jose City Hall|              10|8/29/2013 11:30|  San Jose City Hall|            10|     26|       Subscriber|   95060|\n",
      "|4299|      83|8/29/2013 12:02|South Van Ness at...|              66|8/29/2013 12:04|      Market at 10th|            67|    319|       Subscriber|   94103|\n",
      "|4927|     103|8/29/2013 18:54| Golden Gate at Polk|              59|8/29/2013 18:56| Golden Gate at Polk|            59|    527|       Subscriber|   94109|\n",
      "|4500|     109|8/29/2013 13:25|Santa Clara at Al...|               4|8/29/2013 13:27|    Adobe on Almaden|             5|    679|       Subscriber|   95112|\n",
      "|4563|     111|8/29/2013 14:02| San Salvador at 1st|               8|8/29/2013 14:04| San Salvador at 1st|             8|    687|       Subscriber|   95112|\n",
      "|4760|     113|8/29/2013 17:01|South Van Ness at...|              66|8/29/2013 17:03|South Van Ness at...|            66|    553|       Subscriber|   94103|\n",
      "|4258|     114|8/29/2013 11:33|  San Jose City Hall|              10|8/29/2013 11:35|         MLK Library|            11|    107|       Subscriber|   95060|\n",
      "|4549|     125|8/29/2013 13:52|     Spear at Folsom|              49|8/29/2013 13:55|Embarcadero at Br...|            54|    368|       Subscriber|   94109|\n",
      "|4498|     126|8/29/2013 13:23|    San Pedro Square|               6|8/29/2013 13:25|Santa Clara at Al...|             4|     26|       Subscriber|   95112|\n",
      "|4965|     129|8/29/2013 19:32|Mountain View Cal...|              28|8/29/2013 19:35|Mountain View Cal...|            28|    140|       Subscriber|   94041|\n",
      "|4557|     130|8/29/2013 13:57|   2nd at South Park|              64|8/29/2013 13:59|   2nd at South Park|            64|    371|       Subscriber|   94122|\n",
      "|4386|     134|8/29/2013 12:31|     Clay at Battery|              41|8/29/2013 12:33|     Beale at Market|            56|    503|       Subscriber|   94109|\n",
      "|4749|     138|8/29/2013 16:57|     Post at Kearney|              47|8/29/2013 16:59|     Post at Kearney|            47|    408|       Subscriber|   94117|\n",
      "|4242|     141|8/29/2013 11:25|  San Jose City Hall|              10|8/29/2013 11:27|  San Jose City Hall|            10|     26|       Subscriber|   95060|\n",
      "|4329|     142|8/29/2013 12:11|      Market at 10th|              67|8/29/2013 12:14|      Market at 10th|            67|    319|       Subscriber|   94103|\n",
      "|5097|     142|8/29/2013 22:21|   Steuart at Market|              74|8/29/2013 22:24|Harry Bridges Pla...|            50|    564|       Subscriber|   94115|\n",
      "|5084|     144|8/29/2013 22:06|  Powell Street BART|              39|8/29/2013 22:08|       Market at 4th|            76|    574|       Subscriber|   94115|\n",
      "+----+--------+---------------+--------------------+----------------+---------------+--------------------+--------------+-------+-----------------+--------+\n",
      "only showing top 20 rows\n",
      "\n"
     ]
    }
   ],
   "source": [
    "from time import time\n",
    "\n",
    "start_time=time()\n",
    "subscribers.show()\n",
    "end_time=time()"
   ]
  },
  {
   "cell_type": "code",
   "execution_count": null,
   "metadata": {
    "colab": {
     "base_uri": "https://localhost:8080/",
     "height": 34
    },
    "id": "TGbtUtVEhrBz",
    "outputId": "2f66c0a4-a922-48ec-dd6a-4fae02ee6288"
   },
   "outputs": [
    {
     "name": "stdout",
     "output_type": "stream",
     "text": [
      "Processing without cache time difference 0.19474244117736816\n"
     ]
    }
   ],
   "source": [
    "print(\"Processing without cache time difference\",end_time - start_time)"
   ]
  },
  {
   "cell_type": "code",
   "execution_count": null,
   "metadata": {
    "colab": {
     "base_uri": "https://localhost:8080/",
     "height": 54
    },
    "id": "bj9juC7JUKcU",
    "outputId": "70a313a0-6fed-45e7-805e-fda3d5ec7611"
   },
   "outputs": [
    {
     "data": {
      "text/plain": [
       "DataFrame[id: string, duration: string, start_date: string, start_station_name: string, start_station_id: string, end_date: string, end_station_name: string, end_station_id: string, bike_id: string, subscription_type: string, zip_code: string]"
      ]
     },
     "execution_count": 18,
     "metadata": {
      "tags": []
     },
     "output_type": "execute_result"
    }
   ],
   "source": [
    "subscribers.cache()"
   ]
  },
  {
   "cell_type": "code",
   "execution_count": null,
   "metadata": {
    "colab": {
     "base_uri": "https://localhost:8080/",
     "height": 489
    },
    "id": "UdOJ3c0yfPCT",
    "outputId": "4d8f5387-0305-406a-c571-cba0fe43473b"
   },
   "outputs": [
    {
     "name": "stdout",
     "output_type": "stream",
     "text": [
      "+----+--------+---------------+--------------------+----------------+---------------+--------------------+--------------+-------+-----------------+--------+\n",
      "|  id|duration|     start_date|  start_station_name|start_station_id|       end_date|    end_station_name|end_station_id|bike_id|subscription_type|zip_code|\n",
      "+----+--------+---------------+--------------------+----------------+---------------+--------------------+--------------+-------+-----------------+--------+\n",
      "|4576|      63|8/29/2013 14:13|South Van Ness at...|              66|8/29/2013 14:14|South Van Ness at...|            66|    520|       Subscriber|   94127|\n",
      "|4607|      70|8/29/2013 14:42|  San Jose City Hall|              10|8/29/2013 14:43|  San Jose City Hall|            10|    661|       Subscriber|   95138|\n",
      "|4130|      71|8/29/2013 10:16|Mountain View Cit...|              27|8/29/2013 10:17|Mountain View Cit...|            27|     48|       Subscriber|   97214|\n",
      "|4251|      77|8/29/2013 11:29|  San Jose City Hall|              10|8/29/2013 11:30|  San Jose City Hall|            10|     26|       Subscriber|   95060|\n",
      "|4299|      83|8/29/2013 12:02|South Van Ness at...|              66|8/29/2013 12:04|      Market at 10th|            67|    319|       Subscriber|   94103|\n",
      "|4927|     103|8/29/2013 18:54| Golden Gate at Polk|              59|8/29/2013 18:56| Golden Gate at Polk|            59|    527|       Subscriber|   94109|\n",
      "|4500|     109|8/29/2013 13:25|Santa Clara at Al...|               4|8/29/2013 13:27|    Adobe on Almaden|             5|    679|       Subscriber|   95112|\n",
      "|4563|     111|8/29/2013 14:02| San Salvador at 1st|               8|8/29/2013 14:04| San Salvador at 1st|             8|    687|       Subscriber|   95112|\n",
      "|4760|     113|8/29/2013 17:01|South Van Ness at...|              66|8/29/2013 17:03|South Van Ness at...|            66|    553|       Subscriber|   94103|\n",
      "|4258|     114|8/29/2013 11:33|  San Jose City Hall|              10|8/29/2013 11:35|         MLK Library|            11|    107|       Subscriber|   95060|\n",
      "|4549|     125|8/29/2013 13:52|     Spear at Folsom|              49|8/29/2013 13:55|Embarcadero at Br...|            54|    368|       Subscriber|   94109|\n",
      "|4498|     126|8/29/2013 13:23|    San Pedro Square|               6|8/29/2013 13:25|Santa Clara at Al...|             4|     26|       Subscriber|   95112|\n",
      "|4965|     129|8/29/2013 19:32|Mountain View Cal...|              28|8/29/2013 19:35|Mountain View Cal...|            28|    140|       Subscriber|   94041|\n",
      "|4557|     130|8/29/2013 13:57|   2nd at South Park|              64|8/29/2013 13:59|   2nd at South Park|            64|    371|       Subscriber|   94122|\n",
      "|4386|     134|8/29/2013 12:31|     Clay at Battery|              41|8/29/2013 12:33|     Beale at Market|            56|    503|       Subscriber|   94109|\n",
      "|4749|     138|8/29/2013 16:57|     Post at Kearney|              47|8/29/2013 16:59|     Post at Kearney|            47|    408|       Subscriber|   94117|\n",
      "|4242|     141|8/29/2013 11:25|  San Jose City Hall|              10|8/29/2013 11:27|  San Jose City Hall|            10|     26|       Subscriber|   95060|\n",
      "|4329|     142|8/29/2013 12:11|      Market at 10th|              67|8/29/2013 12:14|      Market at 10th|            67|    319|       Subscriber|   94103|\n",
      "|5097|     142|8/29/2013 22:21|   Steuart at Market|              74|8/29/2013 22:24|Harry Bridges Pla...|            50|    564|       Subscriber|   94115|\n",
      "|5084|     144|8/29/2013 22:06|  Powell Street BART|              39|8/29/2013 22:08|       Market at 4th|            76|    574|       Subscriber|   94115|\n",
      "+----+--------+---------------+--------------------+----------------+---------------+--------------------+--------------+-------+-----------------+--------+\n",
      "only showing top 20 rows\n",
      "\n"
     ]
    }
   ],
   "source": [
    "cache_start_time=time()\n",
    "subscribers.show()\n",
    "cache_end_time=time()\n"
   ]
  },
  {
   "cell_type": "code",
   "execution_count": null,
   "metadata": {
    "colab": {
     "base_uri": "https://localhost:8080/",
     "height": 34
    },
    "id": "JGxy23vkfdok",
    "outputId": "cdf2756a-cdf9-46e4-d04f-19321891e07c"
   },
   "outputs": [
    {
     "name": "stdout",
     "output_type": "stream",
     "text": [
      "Processing with cache time difference 0.11307477951049805\n"
     ]
    }
   ],
   "source": [
    "print(\"Processing with cache time difference\",cache_end_time - cache_start_time)"
   ]
  },
  {
   "cell_type": "markdown",
   "metadata": {
    "id": "eN9cQbgtUKkk"
   },
   "source": [
    "## Specify the schema in a programmatic way\n",
    "\n",
    "For more details, read the Spark documentation: https://spark.apache.org/docs/2.3.0/sql-programming-guide.html#programmatically-specifying-the-schema"
   ]
  },
  {
   "cell_type": "code",
   "execution_count": null,
   "metadata": {
    "id": "ZptctUDDUKsJ"
   },
   "outputs": [],
   "source": [
    "# Load a text file and convert each line to a tuple.\n",
    "from pyspark.sql.types import StructField, StructType, StringType\n",
    "table_without_schema = spark.sql(\"SELECT * FROM bike_station_duration_table LIMIT 10\").rdd\n",
    "# The schema is encoded in a string.\n",
    "schemaString = \"bike_id duration start_station_name end_station_name\"\n",
    "\n",
    "fields = [StructField(field_name, StringType(), True) for field_name in schemaString.split()]\n",
    "schema = StructType(fields)\n",
    "\n",
    "# Apply the schema to the RDD.\n",
    "schematable = sqlContext.createDataFrame(table_without_schema, schema)\n",
    "\n",
    "# Register the DataFrame as a table.\n",
    "schematable.registerTempTable(\"table_with_schema\")\n",
    "\n",
    "# SQL can be run over DataFrames that have been registered as a table.\n",
    "results = sqlContext.sql(\"SELECT bike_id FROM table_with_schema\")\n"
   ]
  },
  {
   "cell_type": "code",
   "execution_count": null,
   "metadata": {
    "colab": {
     "base_uri": "https://localhost:8080/",
     "height": 278
    },
    "id": "1ecfN1HflOJJ",
    "outputId": "2ba6e7e7-d721-4d28-b3fb-975e69391330"
   },
   "outputs": [
    {
     "name": "stdout",
     "output_type": "stream",
     "text": [
      "+-------+\n",
      "|bike_id|\n",
      "+-------+\n",
      "|    296|\n",
      "|    296|\n",
      "|    296|\n",
      "|    296|\n",
      "|    296|\n",
      "|    296|\n",
      "|    296|\n",
      "|    296|\n",
      "|    296|\n",
      "|    296|\n",
      "+-------+\n",
      "\n"
     ]
    }
   ],
   "source": [
    "results.show()"
   ]
  },
  {
   "cell_type": "markdown",
   "metadata": {
    "id": "X7mSMfd6ZXK9"
   },
   "source": [
    "## Spark SQL vs querying Pandas DataFrames"
   ]
  },
  {
   "cell_type": "code",
   "execution_count": null,
   "metadata": {
    "id": "JHLKPFgipbDg"
   },
   "outputs": [],
   "source": [
    "import pandas as pd\n",
    "from time import time\n",
    "start_time=time()\n",
    "pandas_df=pd.read_csv(\"s3://msin0166-spark-workshop/data/sf_bike_sharing_data/station.csv\")\n",
    "end_time=time()"
   ]
  },
  {
   "cell_type": "code",
   "execution_count": null,
   "metadata": {
    "id": "a4d7AldxClDz"
   },
   "outputs": [],
   "source": [
    "start_time_spark=time()\n",
    "station_df = sqlContext.read.csv(\"s3://msin0166-spark-workshop/data/sf_bike_sharing_data/station.csv\",header=True)\n",
    "end_time_spark=time()"
   ]
  },
  {
   "cell_type": "code",
   "execution_count": null,
   "metadata": {
    "colab": {
     "base_uri": "https://localhost:8080/",
     "height": 469
    },
    "id": "CtVPHnGIeFU3",
    "outputId": "2f118881-1fcc-4300-9aaf-e4ce02fde304"
   },
   "outputs": [
    {
     "name": "stdout",
     "output_type": "stream",
     "text": [
      "+---+--------------------+------------------+-------------------+----------+------------+-----------------+\n",
      "| id|                name|               lat|               long|dock_count|        city|installation_date|\n",
      "+---+--------------------+------------------+-------------------+----------+------------+-----------------+\n",
      "|  2|San Jose Diridon ...|         37.329732|-121.90178200000001|        27|    San Jose|         8/6/2013|\n",
      "|  3|San Jose Civic Ce...|         37.330698|        -121.888979|        15|    San Jose|         8/5/2013|\n",
      "|  4|Santa Clara at Al...|         37.333988|        -121.894902|        11|    San Jose|         8/6/2013|\n",
      "|  5|    Adobe on Almaden|         37.331415|          -121.8932|        19|    San Jose|         8/5/2013|\n",
      "|  6|    San Pedro Square|37.336721000000004|        -121.894074|        15|    San Jose|         8/7/2013|\n",
      "|  7|Paseo de San Antonio|         37.333798|-121.88694299999999|        15|    San Jose|         8/7/2013|\n",
      "|  8| San Salvador at 1st|         37.330165|-121.88583100000001|        15|    San Jose|         8/5/2013|\n",
      "|  9|           Japantown|         37.348742|-121.89471499999999|        15|    San Jose|         8/5/2013|\n",
      "| 10|  San Jose City Hall|         37.337391|        -121.886995|        15|    San Jose|         8/6/2013|\n",
      "| 11|         MLK Library|         37.335885|-121.88566000000002|        19|    San Jose|         8/6/2013|\n",
      "| 12|SJSU 4th at San C...|         37.332808|-121.88389099999999|        19|    San Jose|         8/7/2013|\n",
      "| 13|       St James Park|         37.339301|-121.88993700000002|        15|    San Jose|         8/6/2013|\n",
      "| 14|Arena Green / SAP...|         37.332692|        -121.900084|        19|    San Jose|         8/5/2013|\n",
      "| 16|SJSU - San Salvad...|37.333954999999996|        -121.877349|        15|    San Jose|         8/7/2013|\n",
      "| 21|   Franklin at Maple|         37.481758|        -122.226904|        15|Redwood City|        8/12/2013|\n",
      "| 22|Redwood City Calt...|37.486078000000006|-122.23208899999999|        25|Redwood City|        8/15/2013|\n",
      "| 23|San Mateo County ...|37.487615999999996|        -122.229951|        15|Redwood City|        8/15/2013|\n",
      "| 24|Redwood City Publ...|         37.484219|        -122.227424|        15|Redwood City|        8/12/2013|\n",
      "| 25|Stanford in Redwo...|          37.48537|-122.20328799999999|        15|Redwood City|        8/12/2013|\n",
      "| 26|Redwood City Medi...|         37.487682|        -122.223492|        15|Redwood City|        8/12/2013|\n",
      "+---+--------------------+------------------+-------------------+----------+------------+-----------------+\n",
      "only showing top 20 rows\n",
      "\n"
     ]
    }
   ],
   "source": [
    "station_df.show()"
   ]
  },
  {
   "cell_type": "code",
   "execution_count": null,
   "metadata": {
    "colab": {
     "base_uri": "https://localhost:8080/",
     "height": 382
    },
    "id": "a3vCfotSvRCM",
    "outputId": "b7144c48-98eb-4b39-e573-39bb5408ab7a"
   },
   "outputs": [
    {
     "name": "stdout",
     "output_type": "stream",
     "text": [
      "+---+--------------------+------------------+-------------------+----------+--------+-----------------+\n",
      "| id|                name|               lat|               long|dock_count|    city|installation_date|\n",
      "+---+--------------------+------------------+-------------------+----------+--------+-----------------+\n",
      "|  2|San Jose Diridon ...|         37.329732|-121.90178200000001|        27|San Jose|         8/6/2013|\n",
      "|  3|San Jose Civic Ce...|         37.330698|        -121.888979|        15|San Jose|         8/5/2013|\n",
      "|  4|Santa Clara at Al...|         37.333988|        -121.894902|        11|San Jose|         8/6/2013|\n",
      "|  5|    Adobe on Almaden|         37.331415|          -121.8932|        19|San Jose|         8/5/2013|\n",
      "|  6|    San Pedro Square|37.336721000000004|        -121.894074|        15|San Jose|         8/7/2013|\n",
      "|  7|Paseo de San Antonio|         37.333798|-121.88694299999999|        15|San Jose|         8/7/2013|\n",
      "|  8| San Salvador at 1st|         37.330165|-121.88583100000001|        15|San Jose|         8/5/2013|\n",
      "|  9|           Japantown|         37.348742|-121.89471499999999|        15|San Jose|         8/5/2013|\n",
      "| 10|  San Jose City Hall|         37.337391|        -121.886995|        15|San Jose|         8/6/2013|\n",
      "| 11|         MLK Library|         37.335885|-121.88566000000002|        19|San Jose|         8/6/2013|\n",
      "| 12|SJSU 4th at San C...|         37.332808|-121.88389099999999|        19|San Jose|         8/7/2013|\n",
      "| 13|       St James Park|         37.339301|-121.88993700000002|        15|San Jose|         8/6/2013|\n",
      "| 14|Arena Green / SAP...|         37.332692|        -121.900084|        19|San Jose|         8/5/2013|\n",
      "| 16|SJSU - San Salvad...|37.333954999999996|        -121.877349|        15|San Jose|         8/7/2013|\n",
      "| 80|Santa Clara Count...|         37.352601|-121.90573300000001|        15|San Jose|       12/31/2013|\n",
      "| 84|         Ryland Park|         37.342725|-121.89561699999999|        15|San Jose|         4/9/2014|\n",
      "+---+--------------------+------------------+-------------------+----------+--------+-----------------+\n",
      "\n"
     ]
    }
   ],
   "source": [
    "#Query Spark DataFrame with Spark SQL\n",
    "station_df.createTempView(\"station\")\n",
    "spark.sql(\"SELECT * FROM station where city=\\'San Jose\\'\").show()"
   ]
  },
  {
   "cell_type": "code",
   "execution_count": null,
   "metadata": {
    "colab": {
     "base_uri": "https://localhost:8080/",
     "height": 551
    },
    "id": "k2H0IMe2vRhd",
    "outputId": "1c93399a-fb0f-47c2-9f52-fb80f80594fd"
   },
   "outputs": [
    {
     "data": {
      "text/html": [
       "<div>\n",
       "<style scoped>\n",
       "    .dataframe tbody tr th:only-of-type {\n",
       "        vertical-align: middle;\n",
       "    }\n",
       "\n",
       "    .dataframe tbody tr th {\n",
       "        vertical-align: top;\n",
       "    }\n",
       "\n",
       "    .dataframe thead th {\n",
       "        text-align: right;\n",
       "    }\n",
       "</style>\n",
       "<table border=\"1\" class=\"dataframe\">\n",
       "  <thead>\n",
       "    <tr style=\"text-align: right;\">\n",
       "      <th></th>\n",
       "      <th>id</th>\n",
       "      <th>name</th>\n",
       "      <th>lat</th>\n",
       "      <th>long</th>\n",
       "      <th>dock_count</th>\n",
       "      <th>city</th>\n",
       "      <th>installation_date</th>\n",
       "    </tr>\n",
       "  </thead>\n",
       "  <tbody>\n",
       "    <tr>\n",
       "      <th>0</th>\n",
       "      <td>2</td>\n",
       "      <td>San Jose Diridon Caltrain Station</td>\n",
       "      <td>37.329732</td>\n",
       "      <td>-121.901782</td>\n",
       "      <td>27</td>\n",
       "      <td>San Jose</td>\n",
       "      <td>8/6/2013</td>\n",
       "    </tr>\n",
       "    <tr>\n",
       "      <th>1</th>\n",
       "      <td>3</td>\n",
       "      <td>San Jose Civic Center</td>\n",
       "      <td>37.330698</td>\n",
       "      <td>-121.888979</td>\n",
       "      <td>15</td>\n",
       "      <td>San Jose</td>\n",
       "      <td>8/5/2013</td>\n",
       "    </tr>\n",
       "    <tr>\n",
       "      <th>2</th>\n",
       "      <td>4</td>\n",
       "      <td>Santa Clara at Almaden</td>\n",
       "      <td>37.333988</td>\n",
       "      <td>-121.894902</td>\n",
       "      <td>11</td>\n",
       "      <td>San Jose</td>\n",
       "      <td>8/6/2013</td>\n",
       "    </tr>\n",
       "    <tr>\n",
       "      <th>3</th>\n",
       "      <td>5</td>\n",
       "      <td>Adobe on Almaden</td>\n",
       "      <td>37.331415</td>\n",
       "      <td>-121.893200</td>\n",
       "      <td>19</td>\n",
       "      <td>San Jose</td>\n",
       "      <td>8/5/2013</td>\n",
       "    </tr>\n",
       "    <tr>\n",
       "      <th>4</th>\n",
       "      <td>6</td>\n",
       "      <td>San Pedro Square</td>\n",
       "      <td>37.336721</td>\n",
       "      <td>-121.894074</td>\n",
       "      <td>15</td>\n",
       "      <td>San Jose</td>\n",
       "      <td>8/7/2013</td>\n",
       "    </tr>\n",
       "    <tr>\n",
       "      <th>5</th>\n",
       "      <td>7</td>\n",
       "      <td>Paseo de San Antonio</td>\n",
       "      <td>37.333798</td>\n",
       "      <td>-121.886943</td>\n",
       "      <td>15</td>\n",
       "      <td>San Jose</td>\n",
       "      <td>8/7/2013</td>\n",
       "    </tr>\n",
       "    <tr>\n",
       "      <th>6</th>\n",
       "      <td>8</td>\n",
       "      <td>San Salvador at 1st</td>\n",
       "      <td>37.330165</td>\n",
       "      <td>-121.885831</td>\n",
       "      <td>15</td>\n",
       "      <td>San Jose</td>\n",
       "      <td>8/5/2013</td>\n",
       "    </tr>\n",
       "    <tr>\n",
       "      <th>7</th>\n",
       "      <td>9</td>\n",
       "      <td>Japantown</td>\n",
       "      <td>37.348742</td>\n",
       "      <td>-121.894715</td>\n",
       "      <td>15</td>\n",
       "      <td>San Jose</td>\n",
       "      <td>8/5/2013</td>\n",
       "    </tr>\n",
       "    <tr>\n",
       "      <th>8</th>\n",
       "      <td>10</td>\n",
       "      <td>San Jose City Hall</td>\n",
       "      <td>37.337391</td>\n",
       "      <td>-121.886995</td>\n",
       "      <td>15</td>\n",
       "      <td>San Jose</td>\n",
       "      <td>8/6/2013</td>\n",
       "    </tr>\n",
       "    <tr>\n",
       "      <th>9</th>\n",
       "      <td>11</td>\n",
       "      <td>MLK Library</td>\n",
       "      <td>37.335885</td>\n",
       "      <td>-121.885660</td>\n",
       "      <td>19</td>\n",
       "      <td>San Jose</td>\n",
       "      <td>8/6/2013</td>\n",
       "    </tr>\n",
       "    <tr>\n",
       "      <th>10</th>\n",
       "      <td>12</td>\n",
       "      <td>SJSU 4th at San Carlos</td>\n",
       "      <td>37.332808</td>\n",
       "      <td>-121.883891</td>\n",
       "      <td>19</td>\n",
       "      <td>San Jose</td>\n",
       "      <td>8/7/2013</td>\n",
       "    </tr>\n",
       "    <tr>\n",
       "      <th>11</th>\n",
       "      <td>13</td>\n",
       "      <td>St James Park</td>\n",
       "      <td>37.339301</td>\n",
       "      <td>-121.889937</td>\n",
       "      <td>15</td>\n",
       "      <td>San Jose</td>\n",
       "      <td>8/6/2013</td>\n",
       "    </tr>\n",
       "    <tr>\n",
       "      <th>12</th>\n",
       "      <td>14</td>\n",
       "      <td>Arena Green / SAP Center</td>\n",
       "      <td>37.332692</td>\n",
       "      <td>-121.900084</td>\n",
       "      <td>19</td>\n",
       "      <td>San Jose</td>\n",
       "      <td>8/5/2013</td>\n",
       "    </tr>\n",
       "    <tr>\n",
       "      <th>13</th>\n",
       "      <td>16</td>\n",
       "      <td>SJSU - San Salvador at 9th</td>\n",
       "      <td>37.333955</td>\n",
       "      <td>-121.877349</td>\n",
       "      <td>15</td>\n",
       "      <td>San Jose</td>\n",
       "      <td>8/7/2013</td>\n",
       "    </tr>\n",
       "    <tr>\n",
       "      <th>66</th>\n",
       "      <td>80</td>\n",
       "      <td>Santa Clara County Civic Center</td>\n",
       "      <td>37.352601</td>\n",
       "      <td>-121.905733</td>\n",
       "      <td>15</td>\n",
       "      <td>San Jose</td>\n",
       "      <td>12/31/2013</td>\n",
       "    </tr>\n",
       "    <tr>\n",
       "      <th>69</th>\n",
       "      <td>84</td>\n",
       "      <td>Ryland Park</td>\n",
       "      <td>37.342725</td>\n",
       "      <td>-121.895617</td>\n",
       "      <td>15</td>\n",
       "      <td>San Jose</td>\n",
       "      <td>4/9/2014</td>\n",
       "    </tr>\n",
       "  </tbody>\n",
       "</table>\n",
       "</div>"
      ],
      "text/plain": [
       "    id                               name  ...      city  installation_date\n",
       "0    2  San Jose Diridon Caltrain Station  ...  San Jose           8/6/2013\n",
       "1    3              San Jose Civic Center  ...  San Jose           8/5/2013\n",
       "2    4             Santa Clara at Almaden  ...  San Jose           8/6/2013\n",
       "3    5                   Adobe on Almaden  ...  San Jose           8/5/2013\n",
       "4    6                   San Pedro Square  ...  San Jose           8/7/2013\n",
       "5    7               Paseo de San Antonio  ...  San Jose           8/7/2013\n",
       "6    8                San Salvador at 1st  ...  San Jose           8/5/2013\n",
       "7    9                          Japantown  ...  San Jose           8/5/2013\n",
       "8   10                 San Jose City Hall  ...  San Jose           8/6/2013\n",
       "9   11                        MLK Library  ...  San Jose           8/6/2013\n",
       "10  12             SJSU 4th at San Carlos  ...  San Jose           8/7/2013\n",
       "11  13                      St James Park  ...  San Jose           8/6/2013\n",
       "12  14           Arena Green / SAP Center  ...  San Jose           8/5/2013\n",
       "13  16         SJSU - San Salvador at 9th  ...  San Jose           8/7/2013\n",
       "66  80    Santa Clara County Civic Center  ...  San Jose         12/31/2013\n",
       "69  84                        Ryland Park  ...  San Jose           4/9/2014\n",
       "\n",
       "[16 rows x 7 columns]"
      ]
     },
     "execution_count": 29,
     "metadata": {
      "tags": []
     },
     "output_type": "execute_result"
    }
   ],
   "source": [
    "# Query Pandas DataFrame\n",
    "pandas_df.loc[pandas_df['city']== 'San Jose']"
   ]
  },
  {
   "cell_type": "markdown",
   "metadata": {
    "id": "BpTcnZFR2X4z"
   },
   "source": [
    "# Practice!\n",
    "**Note**: Read the Spark documentation and check Stack Overflow when you get stuck.\n",
    "\n",
    "<img src=\"https://media.giphy.com/media/8vkEKXvnXkyCZx8w6b/giphy.gif\"/>"
   ]
  },
  {
   "cell_type": "markdown",
   "metadata": {
    "id": "L7u8sNTB2ZSX"
   },
   "source": [
    "# Exercise 1:\n",
    "Read a file of your choice in JSON format and extract the first 10 rows\n",
    "<br/>\n",
    "**Note**: You will have to load the file in your data folder first\n",
    "\n",
    "\n",
    "Here, we used the Iris flower dataset provided in JSON format"
   ]
  },
  {
   "cell_type": "code",
   "execution_count": null,
   "metadata": {
    "id": "0TZVZILa2ZyL"
   },
   "outputs": [],
   "source": [
    "from pyspark.sql import SQLContext\n",
    "sqlContext = SQLContext(sc)"
   ]
  },
  {
   "cell_type": "code",
   "execution_count": null,
   "metadata": {
    "id": "lCeU9l5ZRmh0"
   },
   "outputs": [],
   "source": [
    "iris_flowers_dataset=sqlContext.read.json('s3://msin0166-spark-workshop/data/iris_flowers_data/iris.json')\n"
   ]
  },
  {
   "cell_type": "code",
   "execution_count": null,
   "metadata": {
    "colab": {
     "base_uri": "https://localhost:8080/",
     "height": 191
    },
    "id": "neN5KUFtRt6U",
    "outputId": "e2afa894-3d57-49e6-e910-6f42ed42dcae"
   },
   "outputs": [
    {
     "data": {
      "text/plain": [
       "[Row(petalLength=None, petalWidth=None, sepalLength=None, sepalWidth=None, species=None),\n",
       " Row(petalLength=1.4, petalWidth=0.2, sepalLength=5.1, sepalWidth=3.5, species='setosa'),\n",
       " Row(petalLength=1.4, petalWidth=0.2, sepalLength=4.9, sepalWidth=3.0, species='setosa'),\n",
       " Row(petalLength=1.3, petalWidth=0.2, sepalLength=4.7, sepalWidth=3.2, species='setosa'),\n",
       " Row(petalLength=1.5, petalWidth=0.2, sepalLength=4.6, sepalWidth=3.1, species='setosa'),\n",
       " Row(petalLength=1.4, petalWidth=0.2, sepalLength=5.0, sepalWidth=3.6, species='setosa'),\n",
       " Row(petalLength=1.7, petalWidth=0.4, sepalLength=5.4, sepalWidth=3.9, species='setosa'),\n",
       " Row(petalLength=1.4, petalWidth=0.3, sepalLength=4.6, sepalWidth=3.4, species='setosa'),\n",
       " Row(petalLength=1.5, petalWidth=0.2, sepalLength=5.0, sepalWidth=3.4, species='setosa'),\n",
       " Row(petalLength=1.4, petalWidth=0.2, sepalLength=4.4, sepalWidth=2.9, species='setosa')]"
      ]
     },
     "execution_count": 24,
     "metadata": {
      "tags": []
     },
     "output_type": "execute_result"
    }
   ],
   "source": [
    "iris_flowers_dataset.head(10)"
   ]
  },
  {
   "cell_type": "markdown",
   "metadata": {
    "id": "OU_zv_cZ2aHf"
   },
   "source": [
    "## Exercise 2:\n",
    "Create a new dataset by filtering your existing dataset. Use both the PySpark and Spark SQL functions shown in the **Practical examples** section\n",
    "\n",
    "Example: By using the Yelp dataset, create a dataframe consisting of top businesses (ranked with 4 stars or higher) listed on Yelp\n"
   ]
  },
  {
   "cell_type": "code",
   "execution_count": null,
   "metadata": {
    "colab": {
     "base_uri": "https://localhost:8080/",
     "height": 469
    },
    "id": "d_fa18Rf2aVi",
    "outputId": "f1cd5735-7742-4a3d-b666-c41ba20b6158"
   },
   "outputs": [
    {
     "name": "stdout",
     "output_type": "stream",
     "text": [
      "+-----------+----------+-----------+----------+----------+\n",
      "|petalLength|petalWidth|sepalLength|sepalWidth|   species|\n",
      "+-----------+----------+-----------+----------+----------+\n",
      "|        4.7|       1.4|        7.0|       3.2|versicolor|\n",
      "|        4.5|       1.5|        6.4|       3.2|versicolor|\n",
      "|        4.9|       1.5|        6.9|       3.1|versicolor|\n",
      "|        4.0|       1.3|        5.5|       2.3|versicolor|\n",
      "|        4.6|       1.5|        6.5|       2.8|versicolor|\n",
      "|        4.5|       1.3|        5.7|       2.8|versicolor|\n",
      "|        4.7|       1.6|        6.3|       3.3|versicolor|\n",
      "|        3.3|       1.0|        4.9|       2.4|versicolor|\n",
      "|        4.6|       1.3|        6.6|       2.9|versicolor|\n",
      "|        3.9|       1.4|        5.2|       2.7|versicolor|\n",
      "|        3.5|       1.0|        5.0|       2.0|versicolor|\n",
      "|        4.2|       1.5|        5.9|       3.0|versicolor|\n",
      "|        4.0|       1.0|        6.0|       2.2|versicolor|\n",
      "|        4.7|       1.4|        6.1|       2.9|versicolor|\n",
      "|        3.6|       1.3|        5.6|       2.9|versicolor|\n",
      "|        4.4|       1.4|        6.7|       3.1|versicolor|\n",
      "|        4.5|       1.5|        5.6|       3.0|versicolor|\n",
      "|        4.1|       1.0|        5.8|       2.7|versicolor|\n",
      "|        4.5|       1.5|        6.2|       2.2|versicolor|\n",
      "|        3.9|       1.1|        5.6|       2.5|versicolor|\n",
      "+-----------+----------+-----------+----------+----------+\n",
      "only showing top 20 rows\n",
      "\n"
     ]
    }
   ],
   "source": [
    "#PySpark\n",
    "versicolor_flowers_pyspark= iris_flowers_dataset.filter(iris_flowers_dataset.species=='versicolor')\n",
    "versicolor_flowers_pyspark.show()"
   ]
  },
  {
   "cell_type": "code",
   "execution_count": null,
   "metadata": {
    "colab": {
     "base_uri": "https://localhost:8080/",
     "height": 469
    },
    "id": "p9mootLFXBB1",
    "outputId": "56ffdac9-5c96-4044-a5fa-6b2f4403a8d0"
   },
   "outputs": [
    {
     "name": "stdout",
     "output_type": "stream",
     "text": [
      "+-----------+----------+-----------+----------+----------+\n",
      "|petalLength|petalWidth|sepalLength|sepalWidth|   species|\n",
      "+-----------+----------+-----------+----------+----------+\n",
      "|        4.7|       1.4|        7.0|       3.2|versicolor|\n",
      "|        4.5|       1.5|        6.4|       3.2|versicolor|\n",
      "|        4.9|       1.5|        6.9|       3.1|versicolor|\n",
      "|        4.0|       1.3|        5.5|       2.3|versicolor|\n",
      "|        4.6|       1.5|        6.5|       2.8|versicolor|\n",
      "|        4.5|       1.3|        5.7|       2.8|versicolor|\n",
      "|        4.7|       1.6|        6.3|       3.3|versicolor|\n",
      "|        3.3|       1.0|        4.9|       2.4|versicolor|\n",
      "|        4.6|       1.3|        6.6|       2.9|versicolor|\n",
      "|        3.9|       1.4|        5.2|       2.7|versicolor|\n",
      "|        3.5|       1.0|        5.0|       2.0|versicolor|\n",
      "|        4.2|       1.5|        5.9|       3.0|versicolor|\n",
      "|        4.0|       1.0|        6.0|       2.2|versicolor|\n",
      "|        4.7|       1.4|        6.1|       2.9|versicolor|\n",
      "|        3.6|       1.3|        5.6|       2.9|versicolor|\n",
      "|        4.4|       1.4|        6.7|       3.1|versicolor|\n",
      "|        4.5|       1.5|        5.6|       3.0|versicolor|\n",
      "|        4.1|       1.0|        5.8|       2.7|versicolor|\n",
      "|        4.5|       1.5|        6.2|       2.2|versicolor|\n",
      "|        3.9|       1.1|        5.6|       2.5|versicolor|\n",
      "+-----------+----------+-----------+----------+----------+\n",
      "only showing top 20 rows\n",
      "\n"
     ]
    }
   ],
   "source": [
    "# Spark SQL\n",
    "iris_flowers_dataset.createOrReplaceTempView(\"iris_flowers\")\n",
    "versicolor_flowers_sql=sqlContext.sql(\"SELECT * FROM iris_flowers WHERE species==\\'versicolor\\'\")\n",
    "versicolor_flowers_sql.show()"
   ]
  },
  {
   "cell_type": "markdown",
   "metadata": {
    "id": "LePt_tKO2adg"
   },
   "source": [
    "## Exercise 3: Use Spark SQL and apply the GROUP BY statement to your existing dataset. "
   ]
  },
  {
   "cell_type": "code",
   "execution_count": null,
   "metadata": {
    "colab": {
     "base_uri": "https://localhost:8080/",
     "height": 173
    },
    "id": "ebL4UIclZicT",
    "outputId": "57b7fabd-a336-410c-99b9-74f3a4b88dcc"
   },
   "outputs": [
    {
     "name": "stdout",
     "output_type": "stream",
     "text": [
      "+----------+--------------+\n",
      "|   species|count(species)|\n",
      "+----------+--------------+\n",
      "| virginica|            50|\n",
      "|      null|             0|\n",
      "|versicolor|            50|\n",
      "|    setosa|            50|\n",
      "+----------+--------------+\n",
      "\n"
     ]
    }
   ],
   "source": [
    "count_of_flowers=sqlContext.sql(\"SELECT species, COUNT(species) FROM iris_flowers GROUP BY species \")\n",
    "count_of_flowers.show()"
   ]
  },
  {
   "cell_type": "markdown",
   "metadata": {
    "id": "nXl6-o7vn1BZ"
   },
   "source": [
    "## Exercise 4\n",
    "Create a sample dataset and programmatically specify its schema\n",
    "<br/>\n",
    "**Note**: Follow the code in the **Practical examples** section"
   ]
  },
  {
   "cell_type": "code",
   "execution_count": null,
   "metadata": {
    "id": "ZU9N_uMCVWSl"
   },
   "outputs": [],
   "source": []
  },
  {
   "cell_type": "code",
   "execution_count": null,
   "metadata": {
    "id": "gNSy9kl0VWVi"
   },
   "outputs": [],
   "source": [
    "import numpy as np\n",
    "import pandas as pd\n",
    "x = np.random.randn(10)\n",
    "y = np.sin(x)\n",
    "df = pd.DataFrame({'x':x, 'y':y})"
   ]
  },
  {
   "cell_type": "code",
   "execution_count": null,
   "metadata": {
    "colab": {
     "base_uri": "https://localhost:8080/",
     "height": 363
    },
    "id": "K4Bl24-QX0J6",
    "outputId": "b05b1e13-51d0-4f1f-e608-a86d7829884f"
   },
   "outputs": [
    {
     "data": {
      "text/html": [
       "<div>\n",
       "<style scoped>\n",
       "    .dataframe tbody tr th:only-of-type {\n",
       "        vertical-align: middle;\n",
       "    }\n",
       "\n",
       "    .dataframe tbody tr th {\n",
       "        vertical-align: top;\n",
       "    }\n",
       "\n",
       "    .dataframe thead th {\n",
       "        text-align: right;\n",
       "    }\n",
       "</style>\n",
       "<table border=\"1\" class=\"dataframe\">\n",
       "  <thead>\n",
       "    <tr style=\"text-align: right;\">\n",
       "      <th></th>\n",
       "      <th>x</th>\n",
       "      <th>y</th>\n",
       "    </tr>\n",
       "  </thead>\n",
       "  <tbody>\n",
       "    <tr>\n",
       "      <th>0</th>\n",
       "      <td>0.543465</td>\n",
       "      <td>0.517105</td>\n",
       "    </tr>\n",
       "    <tr>\n",
       "      <th>1</th>\n",
       "      <td>0.223337</td>\n",
       "      <td>0.221485</td>\n",
       "    </tr>\n",
       "    <tr>\n",
       "      <th>2</th>\n",
       "      <td>-0.350076</td>\n",
       "      <td>-0.342969</td>\n",
       "    </tr>\n",
       "    <tr>\n",
       "      <th>3</th>\n",
       "      <td>0.808326</td>\n",
       "      <td>0.723132</td>\n",
       "    </tr>\n",
       "    <tr>\n",
       "      <th>4</th>\n",
       "      <td>-1.116476</td>\n",
       "      <td>-0.898559</td>\n",
       "    </tr>\n",
       "    <tr>\n",
       "      <th>5</th>\n",
       "      <td>0.276936</td>\n",
       "      <td>0.273410</td>\n",
       "    </tr>\n",
       "    <tr>\n",
       "      <th>6</th>\n",
       "      <td>-2.635630</td>\n",
       "      <td>-0.484650</td>\n",
       "    </tr>\n",
       "    <tr>\n",
       "      <th>7</th>\n",
       "      <td>-1.373781</td>\n",
       "      <td>-0.980655</td>\n",
       "    </tr>\n",
       "    <tr>\n",
       "      <th>8</th>\n",
       "      <td>-0.323700</td>\n",
       "      <td>-0.318077</td>\n",
       "    </tr>\n",
       "    <tr>\n",
       "      <th>9</th>\n",
       "      <td>0.864112</td>\n",
       "      <td>0.760519</td>\n",
       "    </tr>\n",
       "  </tbody>\n",
       "</table>\n",
       "</div>"
      ],
      "text/plain": [
       "          x         y\n",
       "0  0.543465  0.517105\n",
       "1  0.223337  0.221485\n",
       "2 -0.350076 -0.342969\n",
       "3  0.808326  0.723132\n",
       "4 -1.116476 -0.898559\n",
       "5  0.276936  0.273410\n",
       "6 -2.635630 -0.484650\n",
       "7 -1.373781 -0.980655\n",
       "8 -0.323700 -0.318077\n",
       "9  0.864112  0.760519"
      ]
     },
     "execution_count": 31,
     "metadata": {
      "tags": []
     },
     "output_type": "execute_result"
    }
   ],
   "source": [
    "df"
   ]
  },
  {
   "cell_type": "code",
   "execution_count": null,
   "metadata": {
    "id": "yjUisIK4X0Me"
   },
   "outputs": [],
   "source": [
    "spark_df=sqlContext.createDataFrame(df)"
   ]
  },
  {
   "cell_type": "code",
   "execution_count": null,
   "metadata": {
    "id": "LjR2KWIJnydF"
   },
   "outputs": [],
   "source": [
    "# Load a text file and convert each line to a tuple.\n",
    "from pyspark.sql.types import StructField, StructType, StringType\n",
    "table_without_schema = spark_df.rdd\n",
    "# The schema is encoded in a string.\n",
    "schemaString = \"number sin(number)\"\n",
    "\n",
    "fields = [StructField(field_name, StringType(), True) for field_name in schemaString.split()]\n",
    "schema = StructType(fields)\n",
    "\n",
    "# Apply the schema to the RDD.\n",
    "schematable = sqlContext.createDataFrame(table_without_schema, schema)\n",
    "\n",
    "# Register the DataFrame as a table.\n",
    "schematable.registerTempTable(\"table_with_schema\")\n",
    "\n",
    "# SQL can be run over DataFrames that have been registered as a table.\n",
    "results = sqlContext.sql(\"SELECT * FROM table_with_schema\")"
   ]
  },
  {
   "cell_type": "code",
   "execution_count": null,
   "metadata": {
    "colab": {
     "base_uri": "https://localhost:8080/",
     "height": 278
    },
    "id": "hyCq9ZeBXzSf",
    "outputId": "aea434e6-250d-4829-8de1-0ba17607276a"
   },
   "outputs": [
    {
     "name": "stdout",
     "output_type": "stream",
     "text": [
      "+--------------------+--------------------+\n",
      "|              number|         sin(number)|\n",
      "+--------------------+--------------------+\n",
      "|  0.5434650843713459|  0.5171049320892215|\n",
      "|  0.2233374776312185| 0.22148543753958555|\n",
      "| -0.3500758702916083| -0.3429690769501241|\n",
      "|  0.8083262693520252|  0.7231321257504997|\n",
      "|  -1.116475855179513| -0.8985594478818084|\n",
      "|   0.276935960688025| 0.27340964426884523|\n",
      "|  -2.635629970708692|-0.48464973149206214|\n",
      "|   -1.37378121639646| -0.9806552169996551|\n",
      "|-0.32369993208185205|-0.31807650605295223|\n",
      "|  0.8641119509199137|  0.7605189393373316|\n",
      "+--------------------+--------------------+\n",
      "\n"
     ]
    }
   ],
   "source": [
    "results.show()"
   ]
  },
  {
   "cell_type": "markdown",
   "metadata": {
    "id": "4ZeR7X7KX10_"
   },
   "source": [
    "#Extra exercises"
   ]
  },
  {
   "cell_type": "markdown",
   "metadata": {
    "id": "AyIEOHCvYMd0"
   },
   "source": [
    "## Exercise 5\n",
    "\n",
    "Convert a CSV file of choice to Parquet format by using PySpark.\n",
    "<br/>\n",
    "Read data from the Parquet file and select 50 rows of data.\n",
    "\n",
    "Note: Here, we used the weather.csv dataset"
   ]
  },
  {
   "cell_type": "code",
   "execution_count": null,
   "metadata": {
    "id": "CLAYyZt9YS-e"
   },
   "outputs": [],
   "source": [
    "weather_data= sqlContext.read.csv(\"weather.csv\",header=True)"
   ]
  },
  {
   "cell_type": "code",
   "execution_count": null,
   "metadata": {
    "colab": {
     "base_uri": "https://localhost:8080/",
     "height": 489
    },
    "id": "z9LhO0EhYVNk",
    "outputId": "ddaa1931-62d7-472c-938a-ca9d6dd0ae61"
   },
   "outputs": [
    {
     "name": "stdout",
     "output_type": "stream",
     "text": [
      "+---------+-----------------+------------------+-----------------+---------------+----------------+---------------+------------+-------------+------------+-----------------------------+------------------------------+-----------------------------+--------------------+---------------------+--------------------+------------------+-------------------+------------------+--------------------+-----------+------+----------------+--------+\n",
      "|     date|max_temperature_f|mean_temperature_f|min_temperature_f|max_dew_point_f|mean_dew_point_f|min_dew_point_f|max_humidity|mean_humidity|min_humidity|max_sea_level_pressure_inches|mean_sea_level_pressure_inches|min_sea_level_pressure_inches|max_visibility_miles|mean_visibility_miles|min_visibility_miles|max_wind_Speed_mph|mean_wind_speed_mph|max_gust_speed_mph|precipitation_inches|cloud_cover|events|wind_dir_degrees|zip_code|\n",
      "+---------+-----------------+------------------+-----------------+---------------+----------------+---------------+------------+-------------+------------+-----------------------------+------------------------------+-----------------------------+--------------------+---------------------+--------------------+------------------+-------------------+------------------+--------------------+-----------+------+----------------+--------+\n",
      "|8/29/2013|             74.0|              68.0|             61.0|           61.0|            58.0|           56.0|        93.0|         75.0|        57.0|                        30.07|                         30.02|                        29.97|                10.0|                 10.0|                10.0|              23.0|               11.0|              28.0|                   0|        4.0|  null|           286.0|   94107|\n",
      "|8/30/2013|             78.0|              69.0|             60.0|           61.0|            58.0|           56.0|        90.0|         70.0|        50.0|                        30.05|                          30.0|                        29.93|                10.0|                 10.0|                 7.0|              29.0|               13.0|              35.0|                   0|        2.0|  null|           291.0|   94107|\n",
      "|8/31/2013|             71.0|              64.0|             57.0|           57.0|            56.0|           54.0|        93.0|         75.0|        57.0|                         30.0|                         29.96|                        29.92|                10.0|                 10.0|                10.0|              26.0|               15.0|              31.0|                   0|        4.0|  null|           284.0|   94107|\n",
      "| 9/1/2013|             74.0|              66.0|             58.0|           60.0|            56.0|           53.0|        87.0|         68.0|        49.0|                        29.96|                         29.93|                        29.91|                10.0|                 10.0|                10.0|              25.0|               13.0|              29.0|                   0|        4.0|  null|           284.0|   94107|\n",
      "| 9/2/2013|             75.0|              69.0|             62.0|           61.0|            60.0|           58.0|        93.0|         77.0|        61.0|                        29.97|                         29.94|                         29.9|                10.0|                 10.0|                 6.0|              23.0|               12.0|              30.0|                   0|        6.0|  null|           277.0|   94107|\n",
      "| 9/3/2013|             73.0|              67.0|             60.0|           59.0|            56.0|           51.0|        84.0|         65.0|        46.0|                        30.02|                         29.98|                        29.95|                10.0|                 10.0|                10.0|              24.0|               15.0|              31.0|                   0|        2.0|  null|           276.0|   94107|\n",
      "| 9/4/2013|             74.0|              68.0|             61.0|           59.0|            57.0|           56.0|        90.0|         72.0|        53.0|                        30.05|                         30.01|                        29.97|                10.0|                 10.0|                10.0|              29.0|               19.0|              35.0|                   0|        4.0|  null|           269.0|   94107|\n",
      "| 9/5/2013|             72.0|              66.0|             60.0|           57.0|            56.0|           54.0|        90.0|         74.0|        57.0|                        30.04|                          30.0|                        29.97|                10.0|                 10.0|                10.0|              31.0|               21.0|              37.0|                   0|        3.0|  null|           270.0|   94107|\n",
      "| 9/6/2013|             85.0|              71.0|             56.0|           57.0|            51.0|           45.0|        86.0|         58.0|        29.0|                         30.0|                         29.92|                        29.83|                10.0|                 10.0|                10.0|              24.0|                8.0|              28.0|                   0|        0.0|  null|           287.0|   94107|\n",
      "| 9/7/2013|             88.0|              73.0|             58.0|           64.0|            54.0|           46.0|        86.0|         59.0|        31.0|                        29.88|                         29.85|                        29.81|                10.0|                 10.0|                10.0|              21.0|                8.0|              25.0|                   0|        1.0|  null|           305.0|   94107|\n",
      "| 9/8/2013|             74.0|              65.0|             56.0|           58.0|            54.0|           52.0|        86.0|         70.0|        53.0|                        29.88|                         29.83|                        29.76|                10.0|                 10.0|                10.0|              26.0|               11.0|              31.0|                   0|        2.0|  null|           299.0|   94107|\n",
      "| 9/9/2013|             76.0|              66.0|             55.0|           58.0|            55.0|           52.0|        90.0|         70.0|        50.0|                        29.82|                         29.77|                        29.72|                10.0|                 10.0|                10.0|              26.0|               11.0|              30.0|                   0|        1.0|  null|           303.0|   94107|\n",
      "|9/10/2013|             74.0|              66.0|             57.0|           59.0|            56.0|           54.0|        93.0|         73.0|        53.0|                        29.91|                         29.82|                        29.76|                10.0|                 10.0|                10.0|              17.0|                8.0|              21.0|                   0|        1.0|  null|           230.0|   94107|\n",
      "|9/11/2013|             74.0|              68.0|             62.0|           57.0|            55.0|           54.0|        78.0|         68.0|        57.0|                         30.0|                         29.97|                        29.91|                10.0|                 10.0|                10.0|              18.0|                9.0|              23.0|                   0|        5.0|  null|           219.0|   94107|\n",
      "|9/12/2013|             71.0|              65.0|             59.0|           58.0|            57.0|           55.0|        84.0|         73.0|        61.0|                        29.99|                         29.95|                        29.91|                10.0|                 10.0|                 9.0|              25.0|               11.0|              30.0|                   0|        7.0|   Fog|           268.0|   94107|\n",
      "|9/13/2013|             66.0|              62.0|             57.0|           55.0|            54.0|           54.0|        93.0|         80.0|        67.0|                        29.92|                         29.87|                         29.8|                10.0|                 10.0|                 7.0|              30.0|               15.0|              37.0|                   0|        6.0|  null|           271.0|   94107|\n",
      "|9/14/2013|             66.0|              62.0|             57.0|           55.0|            54.0|           53.0|        87.0|         77.0|        67.0|                        29.86|                         29.81|                        29.77|                10.0|                 10.0|                 9.0|              25.0|               16.0|              33.0|                   0|        7.0|  null|           265.0|   94107|\n",
      "|9/15/2013|             73.0|              66.0|             58.0|           59.0|            55.0|           52.0|        90.0|         72.0|        53.0|                        29.88|                         29.85|                        29.81|                10.0|                 10.0|                 6.0|              23.0|               13.0|              26.0|                   0|        5.0|  null|           276.0|   94107|\n",
      "|9/16/2013|             71.0|              65.0|             59.0|           58.0|            55.0|           53.0|        90.0|         74.0|        57.0|                        29.91|                         29.87|                        29.81|                10.0|                 10.0|                 6.0|              31.0|               16.0|              39.0|                   0|        3.0|  null|           274.0|   94107|\n",
      "|9/17/2013|             68.0|              63.0|             57.0|           55.0|            53.0|           50.0|        86.0|         72.0|        58.0|                        29.91|                         29.87|                        29.84|                10.0|                 10.0|                10.0|              39.0|               22.0|              51.0|                   0|        3.0|  null|           270.0|   94107|\n",
      "+---------+-----------------+------------------+-----------------+---------------+----------------+---------------+------------+-------------+------------+-----------------------------+------------------------------+-----------------------------+--------------------+---------------------+--------------------+------------------+-------------------+------------------+--------------------+-----------+------+----------------+--------+\n",
      "only showing top 20 rows\n",
      "\n"
     ]
    }
   ],
   "source": [
    "weather_data.show()"
   ]
  },
  {
   "cell_type": "code",
   "execution_count": null,
   "metadata": {
    "id": "jF4v3OQJUiFe"
   },
   "outputs": [],
   "source": [
    "weather_data.write.parquet(\"weather_data.parquet\",compression=None)"
   ]
  },
  {
   "cell_type": "code",
   "execution_count": null,
   "metadata": {
    "colab": {
     "base_uri": "https://localhost:8080/",
     "height": 364
    },
    "id": "LaKty8kkUiIE",
    "outputId": "e732fa84-327c-4b10-b57f-1ddc435849a9"
   },
   "outputs": [
    {
     "name": "stdout",
     "output_type": "stream",
     "text": [
      "total 3058831\n",
      "-rw------- 1 root root    3881605 Feb  3 22:32 berlin-listings.csv\n",
      "-rw------- 1 root root     193083 Jan 21 18:13 hamlet.txt\n",
      "-rw------- 1 root root      15802 Feb 19 11:39 iris.json\n",
      "-rw------- 1 root root     192340 Feb  3 22:32 New_York_City_.png\n",
      "-rw------- 1 root root    7077973 Feb  3 22:32 new-york-listings.csv\n",
      "drwx------ 2 root root       4096 Jan 21 17:16 \u001b[0m\u001b[01;34mspark-2.3.3-bin-hadoop2.7\u001b[0m/\n",
      "-rw------- 1 root root  226027370 Feb  4  2019 spark-2.3.3-bin-hadoop2.7.tgz\n",
      "-rw------- 1 root root  226027370 Feb  4  2019 spark-2.3.3-bin-hadoop2.7.tgz.1\n",
      "drwx------ 2 root root       4096 May 23  2019 \u001b[01;34mspark-2.4.3-bin-hadoop2.7\u001b[0m/\n",
      "-rw------- 1 root root  229988313 May  1  2019 spark-2.4.3-bin-hadoop2.7.tgz\n",
      "-rw------- 1 root root  229988313 May  1  2019 spark-2.4.3-bin-hadoop2.7.tgz.1\n",
      "-rw------- 1 root root       5647 Jan 21 18:15 station.csv\n",
      "-rw------- 1 root root 1989696383 Jan 21 18:16 status.csv\n",
      "-rw------- 1 root root   80208848 Jan 21 18:15 trip.csv\n",
      "-rw------- 1 root root      93561 Jan 29 00:15 userdata1.avro\n",
      "-rw------- 1 root root     112193 Jan 29 00:15 userdata2.parquet\n",
      "-rw------- 1 root root     438063 Jan 21 18:15 weather.csv\n",
      "drwx------ 2 root root       4096 Feb 19 12:00 \u001b[01;34mweather_data.parquet\u001b[0m/\n",
      "-rw------- 1 root root  138279749 Jan 29 00:19 yelp_academic_dataset_business.json\n"
     ]
    }
   ],
   "source": [
    "#The parquet file is saved, as seen below.\n",
    "%ls -l "
   ]
  },
  {
   "cell_type": "code",
   "execution_count": null,
   "metadata": {
    "id": "jAnosW3AUu7B"
   },
   "outputs": [],
   "source": [
    "parquet_weather_data=sqlContext.read.parquet(\"weather_data.parquet\")"
   ]
  },
  {
   "cell_type": "code",
   "execution_count": null,
   "metadata": {
    "colab": {
     "base_uri": "https://localhost:8080/",
     "height": 211
    },
    "id": "V7jLCIYHUzUK",
    "outputId": "ac7897c4-8fda-4df5-f137-41573c64e0ad"
   },
   "outputs": [
    {
     "data": {
      "text/plain": [
       "[Row(date='8/29/2013', max_temperature_f='74.0', mean_temperature_f='68.0', min_temperature_f='61.0', max_dew_point_f='61.0', mean_dew_point_f='58.0', min_dew_point_f='56.0', max_humidity='93.0', mean_humidity='75.0', min_humidity='57.0', max_sea_level_pressure_inches='30.07', mean_sea_level_pressure_inches='30.02', min_sea_level_pressure_inches='29.97', max_visibility_miles='10.0', mean_visibility_miles='10.0', min_visibility_miles='10.0', max_wind_Speed_mph='23.0', mean_wind_speed_mph='11.0', max_gust_speed_mph='28.0', precipitation_inches='0', cloud_cover='4.0', events=None, wind_dir_degrees='286.0', zip_code='94107'),\n",
       " Row(date='8/30/2013', max_temperature_f='78.0', mean_temperature_f='69.0', min_temperature_f='60.0', max_dew_point_f='61.0', mean_dew_point_f='58.0', min_dew_point_f='56.0', max_humidity='90.0', mean_humidity='70.0', min_humidity='50.0', max_sea_level_pressure_inches='30.05', mean_sea_level_pressure_inches='30.0', min_sea_level_pressure_inches='29.93', max_visibility_miles='10.0', mean_visibility_miles='10.0', min_visibility_miles='7.0', max_wind_Speed_mph='29.0', mean_wind_speed_mph='13.0', max_gust_speed_mph='35.0', precipitation_inches='0', cloud_cover='2.0', events=None, wind_dir_degrees='291.0', zip_code='94107'),\n",
       " Row(date='8/31/2013', max_temperature_f='71.0', mean_temperature_f='64.0', min_temperature_f='57.0', max_dew_point_f='57.0', mean_dew_point_f='56.0', min_dew_point_f='54.0', max_humidity='93.0', mean_humidity='75.0', min_humidity='57.0', max_sea_level_pressure_inches='30.0', mean_sea_level_pressure_inches='29.96', min_sea_level_pressure_inches='29.92', max_visibility_miles='10.0', mean_visibility_miles='10.0', min_visibility_miles='10.0', max_wind_Speed_mph='26.0', mean_wind_speed_mph='15.0', max_gust_speed_mph='31.0', precipitation_inches='0', cloud_cover='4.0', events=None, wind_dir_degrees='284.0', zip_code='94107'),\n",
       " Row(date='9/1/2013', max_temperature_f='74.0', mean_temperature_f='66.0', min_temperature_f='58.0', max_dew_point_f='60.0', mean_dew_point_f='56.0', min_dew_point_f='53.0', max_humidity='87.0', mean_humidity='68.0', min_humidity='49.0', max_sea_level_pressure_inches='29.96', mean_sea_level_pressure_inches='29.93', min_sea_level_pressure_inches='29.91', max_visibility_miles='10.0', mean_visibility_miles='10.0', min_visibility_miles='10.0', max_wind_Speed_mph='25.0', mean_wind_speed_mph='13.0', max_gust_speed_mph='29.0', precipitation_inches='0', cloud_cover='4.0', events=None, wind_dir_degrees='284.0', zip_code='94107'),\n",
       " Row(date='9/2/2013', max_temperature_f='75.0', mean_temperature_f='69.0', min_temperature_f='62.0', max_dew_point_f='61.0', mean_dew_point_f='60.0', min_dew_point_f='58.0', max_humidity='93.0', mean_humidity='77.0', min_humidity='61.0', max_sea_level_pressure_inches='29.97', mean_sea_level_pressure_inches='29.94', min_sea_level_pressure_inches='29.9', max_visibility_miles='10.0', mean_visibility_miles='10.0', min_visibility_miles='6.0', max_wind_Speed_mph='23.0', mean_wind_speed_mph='12.0', max_gust_speed_mph='30.0', precipitation_inches='0', cloud_cover='6.0', events=None, wind_dir_degrees='277.0', zip_code='94107'),\n",
       " Row(date='9/3/2013', max_temperature_f='73.0', mean_temperature_f='67.0', min_temperature_f='60.0', max_dew_point_f='59.0', mean_dew_point_f='56.0', min_dew_point_f='51.0', max_humidity='84.0', mean_humidity='65.0', min_humidity='46.0', max_sea_level_pressure_inches='30.02', mean_sea_level_pressure_inches='29.98', min_sea_level_pressure_inches='29.95', max_visibility_miles='10.0', mean_visibility_miles='10.0', min_visibility_miles='10.0', max_wind_Speed_mph='24.0', mean_wind_speed_mph='15.0', max_gust_speed_mph='31.0', precipitation_inches='0', cloud_cover='2.0', events=None, wind_dir_degrees='276.0', zip_code='94107'),\n",
       " Row(date='9/4/2013', max_temperature_f='74.0', mean_temperature_f='68.0', min_temperature_f='61.0', max_dew_point_f='59.0', mean_dew_point_f='57.0', min_dew_point_f='56.0', max_humidity='90.0', mean_humidity='72.0', min_humidity='53.0', max_sea_level_pressure_inches='30.05', mean_sea_level_pressure_inches='30.01', min_sea_level_pressure_inches='29.97', max_visibility_miles='10.0', mean_visibility_miles='10.0', min_visibility_miles='10.0', max_wind_Speed_mph='29.0', mean_wind_speed_mph='19.0', max_gust_speed_mph='35.0', precipitation_inches='0', cloud_cover='4.0', events=None, wind_dir_degrees='269.0', zip_code='94107'),\n",
       " Row(date='9/5/2013', max_temperature_f='72.0', mean_temperature_f='66.0', min_temperature_f='60.0', max_dew_point_f='57.0', mean_dew_point_f='56.0', min_dew_point_f='54.0', max_humidity='90.0', mean_humidity='74.0', min_humidity='57.0', max_sea_level_pressure_inches='30.04', mean_sea_level_pressure_inches='30.0', min_sea_level_pressure_inches='29.97', max_visibility_miles='10.0', mean_visibility_miles='10.0', min_visibility_miles='10.0', max_wind_Speed_mph='31.0', mean_wind_speed_mph='21.0', max_gust_speed_mph='37.0', precipitation_inches='0', cloud_cover='3.0', events=None, wind_dir_degrees='270.0', zip_code='94107'),\n",
       " Row(date='9/6/2013', max_temperature_f='85.0', mean_temperature_f='71.0', min_temperature_f='56.0', max_dew_point_f='57.0', mean_dew_point_f='51.0', min_dew_point_f='45.0', max_humidity='86.0', mean_humidity='58.0', min_humidity='29.0', max_sea_level_pressure_inches='30.0', mean_sea_level_pressure_inches='29.92', min_sea_level_pressure_inches='29.83', max_visibility_miles='10.0', mean_visibility_miles='10.0', min_visibility_miles='10.0', max_wind_Speed_mph='24.0', mean_wind_speed_mph='8.0', max_gust_speed_mph='28.0', precipitation_inches='0', cloud_cover='0.0', events=None, wind_dir_degrees='287.0', zip_code='94107'),\n",
       " Row(date='9/7/2013', max_temperature_f='88.0', mean_temperature_f='73.0', min_temperature_f='58.0', max_dew_point_f='64.0', mean_dew_point_f='54.0', min_dew_point_f='46.0', max_humidity='86.0', mean_humidity='59.0', min_humidity='31.0', max_sea_level_pressure_inches='29.88', mean_sea_level_pressure_inches='29.85', min_sea_level_pressure_inches='29.81', max_visibility_miles='10.0', mean_visibility_miles='10.0', min_visibility_miles='10.0', max_wind_Speed_mph='21.0', mean_wind_speed_mph='8.0', max_gust_speed_mph='25.0', precipitation_inches='0', cloud_cover='1.0', events=None, wind_dir_degrees='305.0', zip_code='94107')]"
      ]
     },
     "execution_count": 35,
     "metadata": {
      "tags": []
     },
     "output_type": "execute_result"
    }
   ],
   "source": [
    "parquet_weather_data.take(10)"
   ]
  },
  {
   "cell_type": "code",
   "execution_count": null,
   "metadata": {
    "colab": {
     "base_uri": "https://localhost:8080/",
     "height": 489
    },
    "id": "nBVTXqZ_U2X8",
    "outputId": "c8491a2b-49f4-4a4d-f6af-8e1ef2da23eb"
   },
   "outputs": [
    {
     "name": "stdout",
     "output_type": "stream",
     "text": [
      "+---------+-----------------+------------------+-----------------+---------------+----------------+---------------+------------+-------------+------------+-----------------------------+------------------------------+-----------------------------+--------------------+---------------------+--------------------+------------------+-------------------+------------------+--------------------+-----------+------+----------------+--------+\n",
      "|     date|max_temperature_f|mean_temperature_f|min_temperature_f|max_dew_point_f|mean_dew_point_f|min_dew_point_f|max_humidity|mean_humidity|min_humidity|max_sea_level_pressure_inches|mean_sea_level_pressure_inches|min_sea_level_pressure_inches|max_visibility_miles|mean_visibility_miles|min_visibility_miles|max_wind_Speed_mph|mean_wind_speed_mph|max_gust_speed_mph|precipitation_inches|cloud_cover|events|wind_dir_degrees|zip_code|\n",
      "+---------+-----------------+------------------+-----------------+---------------+----------------+---------------+------------+-------------+------------+-----------------------------+------------------------------+-----------------------------+--------------------+---------------------+--------------------+------------------+-------------------+------------------+--------------------+-----------+------+----------------+--------+\n",
      "|8/29/2013|             74.0|              68.0|             61.0|           61.0|            58.0|           56.0|        93.0|         75.0|        57.0|                        30.07|                         30.02|                        29.97|                10.0|                 10.0|                10.0|              23.0|               11.0|              28.0|                   0|        4.0|  null|           286.0|   94107|\n",
      "|8/30/2013|             78.0|              69.0|             60.0|           61.0|            58.0|           56.0|        90.0|         70.0|        50.0|                        30.05|                          30.0|                        29.93|                10.0|                 10.0|                 7.0|              29.0|               13.0|              35.0|                   0|        2.0|  null|           291.0|   94107|\n",
      "|8/31/2013|             71.0|              64.0|             57.0|           57.0|            56.0|           54.0|        93.0|         75.0|        57.0|                         30.0|                         29.96|                        29.92|                10.0|                 10.0|                10.0|              26.0|               15.0|              31.0|                   0|        4.0|  null|           284.0|   94107|\n",
      "| 9/1/2013|             74.0|              66.0|             58.0|           60.0|            56.0|           53.0|        87.0|         68.0|        49.0|                        29.96|                         29.93|                        29.91|                10.0|                 10.0|                10.0|              25.0|               13.0|              29.0|                   0|        4.0|  null|           284.0|   94107|\n",
      "| 9/2/2013|             75.0|              69.0|             62.0|           61.0|            60.0|           58.0|        93.0|         77.0|        61.0|                        29.97|                         29.94|                         29.9|                10.0|                 10.0|                 6.0|              23.0|               12.0|              30.0|                   0|        6.0|  null|           277.0|   94107|\n",
      "| 9/3/2013|             73.0|              67.0|             60.0|           59.0|            56.0|           51.0|        84.0|         65.0|        46.0|                        30.02|                         29.98|                        29.95|                10.0|                 10.0|                10.0|              24.0|               15.0|              31.0|                   0|        2.0|  null|           276.0|   94107|\n",
      "| 9/4/2013|             74.0|              68.0|             61.0|           59.0|            57.0|           56.0|        90.0|         72.0|        53.0|                        30.05|                         30.01|                        29.97|                10.0|                 10.0|                10.0|              29.0|               19.0|              35.0|                   0|        4.0|  null|           269.0|   94107|\n",
      "| 9/5/2013|             72.0|              66.0|             60.0|           57.0|            56.0|           54.0|        90.0|         74.0|        57.0|                        30.04|                          30.0|                        29.97|                10.0|                 10.0|                10.0|              31.0|               21.0|              37.0|                   0|        3.0|  null|           270.0|   94107|\n",
      "| 9/6/2013|             85.0|              71.0|             56.0|           57.0|            51.0|           45.0|        86.0|         58.0|        29.0|                         30.0|                         29.92|                        29.83|                10.0|                 10.0|                10.0|              24.0|                8.0|              28.0|                   0|        0.0|  null|           287.0|   94107|\n",
      "| 9/7/2013|             88.0|              73.0|             58.0|           64.0|            54.0|           46.0|        86.0|         59.0|        31.0|                        29.88|                         29.85|                        29.81|                10.0|                 10.0|                10.0|              21.0|                8.0|              25.0|                   0|        1.0|  null|           305.0|   94107|\n",
      "| 9/8/2013|             74.0|              65.0|             56.0|           58.0|            54.0|           52.0|        86.0|         70.0|        53.0|                        29.88|                         29.83|                        29.76|                10.0|                 10.0|                10.0|              26.0|               11.0|              31.0|                   0|        2.0|  null|           299.0|   94107|\n",
      "| 9/9/2013|             76.0|              66.0|             55.0|           58.0|            55.0|           52.0|        90.0|         70.0|        50.0|                        29.82|                         29.77|                        29.72|                10.0|                 10.0|                10.0|              26.0|               11.0|              30.0|                   0|        1.0|  null|           303.0|   94107|\n",
      "|9/10/2013|             74.0|              66.0|             57.0|           59.0|            56.0|           54.0|        93.0|         73.0|        53.0|                        29.91|                         29.82|                        29.76|                10.0|                 10.0|                10.0|              17.0|                8.0|              21.0|                   0|        1.0|  null|           230.0|   94107|\n",
      "|9/11/2013|             74.0|              68.0|             62.0|           57.0|            55.0|           54.0|        78.0|         68.0|        57.0|                         30.0|                         29.97|                        29.91|                10.0|                 10.0|                10.0|              18.0|                9.0|              23.0|                   0|        5.0|  null|           219.0|   94107|\n",
      "|9/12/2013|             71.0|              65.0|             59.0|           58.0|            57.0|           55.0|        84.0|         73.0|        61.0|                        29.99|                         29.95|                        29.91|                10.0|                 10.0|                 9.0|              25.0|               11.0|              30.0|                   0|        7.0|   Fog|           268.0|   94107|\n",
      "|9/13/2013|             66.0|              62.0|             57.0|           55.0|            54.0|           54.0|        93.0|         80.0|        67.0|                        29.92|                         29.87|                         29.8|                10.0|                 10.0|                 7.0|              30.0|               15.0|              37.0|                   0|        6.0|  null|           271.0|   94107|\n",
      "|9/14/2013|             66.0|              62.0|             57.0|           55.0|            54.0|           53.0|        87.0|         77.0|        67.0|                        29.86|                         29.81|                        29.77|                10.0|                 10.0|                 9.0|              25.0|               16.0|              33.0|                   0|        7.0|  null|           265.0|   94107|\n",
      "|9/15/2013|             73.0|              66.0|             58.0|           59.0|            55.0|           52.0|        90.0|         72.0|        53.0|                        29.88|                         29.85|                        29.81|                10.0|                 10.0|                 6.0|              23.0|               13.0|              26.0|                   0|        5.0|  null|           276.0|   94107|\n",
      "|9/16/2013|             71.0|              65.0|             59.0|           58.0|            55.0|           53.0|        90.0|         74.0|        57.0|                        29.91|                         29.87|                        29.81|                10.0|                 10.0|                 6.0|              31.0|               16.0|              39.0|                   0|        3.0|  null|           274.0|   94107|\n",
      "|9/17/2013|             68.0|              63.0|             57.0|           55.0|            53.0|           50.0|        86.0|         72.0|        58.0|                        29.91|                         29.87|                        29.84|                10.0|                 10.0|                10.0|              39.0|               22.0|              51.0|                   0|        3.0|  null|           270.0|   94107|\n",
      "+---------+-----------------+------------------+-----------------+---------------+----------------+---------------+------------+-------------+------------+-----------------------------+------------------------------+-----------------------------+--------------------+---------------------+--------------------+------------------+-------------------+------------------+--------------------+-----------+------+----------------+--------+\n",
      "only showing top 20 rows\n",
      "\n"
     ]
    }
   ],
   "source": [
    "parquet_weather_data.show()"
   ]
  },
  {
   "cell_type": "markdown",
   "metadata": {
    "id": "Vc_nLqUwYVXq"
   },
   "source": [
    "## Exercise 6 \n",
    "\n",
    "Count the number of records in your dataset by using a SQL query"
   ]
  },
  {
   "cell_type": "code",
   "execution_count": null,
   "metadata": {
    "colab": {
     "base_uri": "https://localhost:8080/",
     "height": 121
    },
    "id": "intMUMd_Zysm",
    "outputId": "00bc91c3-2115-493a-f1f6-14e75b4d4fd6"
   },
   "outputs": [
    {
     "name": "stdout",
     "output_type": "stream",
     "text": [
      "+--------+\n",
      "|count(1)|\n",
      "+--------+\n",
      "|     152|\n",
      "+--------+\n",
      "\n"
     ]
    }
   ],
   "source": [
    "total_count=sqlContext.sql(\"SELECT COUNT(*) FROM iris_flowers\")\n",
    "total_count.show()"
   ]
  }
 ],
 "metadata": {
  "colab": {
   "collapsed_sections": [],
   "name": "SparkSQL_workshop_Week_3_solutions.ipynb",
   "provenance": [],
   "toc_visible": true
  },
  "kernelspec": {
   "display_name": "Python 3",
   "language": "python",
   "name": "python3"
  },
  "language_info": {
   "codemirror_mode": {
    "name": "ipython",
    "version": 3
   },
   "file_extension": ".py",
   "mimetype": "text/x-python",
   "name": "python",
   "nbconvert_exporter": "python",
   "pygments_lexer": "ipython3",
   "version": "3.7.5"
  }
 },
 "nbformat": 4,
 "nbformat_minor": 1
}
